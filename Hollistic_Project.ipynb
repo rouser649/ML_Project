{
 "cells": [
  {
   "cell_type": "code",
   "execution_count": 1,
   "id": "e3718a82",
   "metadata": {},
   "outputs": [
    {
     "data": {
      "text/html": [
       "<table class=\"data-frame\"><thead><tr><th></th><th>Column1</th></tr><tr><th></th><th>Float64</th></tr></thead><tbody><p>4,474 rows × 1 columns</p><tr><th>1</th><td>1023.33</td></tr><tr><th>2</th><td>311.594</td></tr><tr><th>3</th><td>351.542</td></tr><tr><th>4</th><td>1609.9</td></tr><tr><th>5</th><td>1078.6</td></tr><tr><th>6</th><td>386.83</td></tr><tr><th>7</th><td>203.735</td></tr><tr><th>8</th><td>564.598</td></tr><tr><th>9</th><td>107.86</td></tr><tr><th>10</th><td>1070.61</td></tr><tr><th>11</th><td>1062.62</td></tr><tr><th>12</th><td>910.814</td></tr><tr><th>13</th><td>1609.9</td></tr><tr><th>14</th><td>1454.11</td></tr><tr><th>15</th><td>2940.17</td></tr><tr><th>16</th><td>3661.9</td></tr><tr><th>17</th><td>3197.17</td></tr><tr><th>18</th><td>3115.94</td></tr><tr><th>19</th><td>337.561</td></tr><tr><th>20</th><td>1831.62</td></tr><tr><th>21</th><td>162.455</td></tr><tr><th>22</th><td>1655.18</td></tr><tr><th>23</th><td>2133.22</td></tr><tr><th>24</th><td>539.298</td></tr><tr><th>25</th><td>2999.43</td></tr><tr><th>26</th><td>227.704</td></tr><tr><th>27</th><td>211.724</td></tr><tr><th>28</th><td>143.813</td></tr><tr><th>29</th><td>294.284</td></tr><tr><th>30</th><td>3151.9</td></tr><tr><th>&vellip;</th><td>&vellip;</td></tr></tbody></table>"
      ],
      "text/latex": [
       "\\begin{tabular}{r|c}\n",
       "\t& Column1\\\\\n",
       "\t\\hline\n",
       "\t& Float64\\\\\n",
       "\t\\hline\n",
       "\t1 & 1023.33 \\\\\n",
       "\t2 & 311.594 \\\\\n",
       "\t3 & 351.542 \\\\\n",
       "\t4 & 1609.9 \\\\\n",
       "\t5 & 1078.6 \\\\\n",
       "\t6 & 386.83 \\\\\n",
       "\t7 & 203.735 \\\\\n",
       "\t8 & 564.598 \\\\\n",
       "\t9 & 107.86 \\\\\n",
       "\t10 & 1070.61 \\\\\n",
       "\t11 & 1062.62 \\\\\n",
       "\t12 & 910.814 \\\\\n",
       "\t13 & 1609.9 \\\\\n",
       "\t14 & 1454.11 \\\\\n",
       "\t15 & 2940.17 \\\\\n",
       "\t16 & 3661.9 \\\\\n",
       "\t17 & 3197.17 \\\\\n",
       "\t18 & 3115.94 \\\\\n",
       "\t19 & 337.561 \\\\\n",
       "\t20 & 1831.62 \\\\\n",
       "\t21 & 162.455 \\\\\n",
       "\t22 & 1655.18 \\\\\n",
       "\t23 & 2133.22 \\\\\n",
       "\t24 & 539.298 \\\\\n",
       "\t25 & 2999.43 \\\\\n",
       "\t26 & 227.704 \\\\\n",
       "\t27 & 211.724 \\\\\n",
       "\t28 & 143.813 \\\\\n",
       "\t29 & 294.284 \\\\\n",
       "\t30 & 3151.9 \\\\\n",
       "\t$\\dots$ & $\\dots$ \\\\\n",
       "\\end{tabular}\n"
      ],
      "text/plain": [
       "\u001b[1m4474×1 DataFrame\u001b[0m\n",
       "\u001b[1m  Row \u001b[0m│\u001b[1m Column1   \u001b[0m\n",
       "\u001b[1m      \u001b[0m│\u001b[90m Float64   \u001b[0m\n",
       "──────┼───────────\n",
       "    1 │  1023.33\n",
       "    2 │   311.594\n",
       "    3 │   351.542\n",
       "    4 │  1609.9\n",
       "    5 │  1078.6\n",
       "    6 │   386.83\n",
       "    7 │   203.735\n",
       "    8 │   564.598\n",
       "    9 │   107.86\n",
       "   10 │  1070.61\n",
       "   11 │  1062.62\n",
       "  ⋮   │     ⋮\n",
       " 4465 │  8323.83\n",
       " 4466 │ 10236.7\n",
       " 4467 │  9275.93\n",
       " 4468 │ 10306.6\n",
       " 4469 │  9779.94\n",
       " 4470 │  9664.75\n",
       " 4471 │ 10993.7\n",
       " 4472 │ 11445.1\n",
       " 4473 │ 12117.6\n",
       " 4474 │ 13087.0\n",
       "\u001b[36m 4453 rows omitted\u001b[0m"
      ]
     },
     "execution_count": 1,
     "metadata": {},
     "output_type": "execute_result"
    }
   ],
   "source": [
    "using Gurobi, CSV, DataFrames, JuMP, LinearAlgebra, Distributions, Random, GLMNet\n",
    "trainx = CSV.read(\"x_training_stable.csv\",DataFrame)\n",
    "trainy = CSV.read(\"y_training_stable.csv\",DataFrame,header=0)\n",
    "#testx = CSV.read(\"airfoil_X_test.csv\",DataFrame)\n",
    "#testy = CSV.read(\"airfoil_Y_test.csv\",DataFrame)"
   ]
  },
  {
   "cell_type": "code",
   "execution_count": 2,
   "id": "71913438",
   "metadata": {},
   "outputs": [
    {
     "data": {
      "text/plain": [
       "4474-element Vector{Float64}:\n",
       "  1023.3346\n",
       "   311.5944\n",
       "   351.5424\n",
       "  1609.9044\n",
       "  1078.596\n",
       "   386.8298\n",
       "   203.7348\n",
       "   564.5984\n",
       "   107.8596\n",
       "  1070.6064\n",
       "  1062.6168\n",
       "   910.8144\n",
       "  1609.9044\n",
       "     ⋮\n",
       " 10072.8882\n",
       "  8994.958\n",
       "  8323.8316\n",
       " 10236.675\n",
       "  9275.9256\n",
       " 10306.584\n",
       "  9779.9362\n",
       "  9664.7528\n",
       " 10993.6896\n",
       " 11445.102\n",
       " 12117.56\n",
       " 13086.9648"
      ]
     },
     "execution_count": 2,
     "metadata": {},
     "output_type": "execute_result"
    }
   ],
   "source": [
    "trainxmat = Matrix(trainx)\n",
    "trainyarr = Vector(trainy[:,1])\n"
   ]
  },
  {
   "cell_type": "code",
   "execution_count": 3,
   "id": "0c284e7b",
   "metadata": {},
   "outputs": [
    {
     "data": {
      "text/plain": [
       "4474×44 Matrix{Float64}:\n",
       " 0.0  1.0  0.0  0.0  0.0  0.0  0.0  …   0.0  0.0  0.0  0.0  0.0  0.0  0.0\n",
       " 0.0  0.0  0.0  0.0  0.0  0.0  0.0      0.0  0.0  0.0  0.0  0.0  0.0  1.0\n",
       " 0.0  0.0  0.0  0.0  0.0  0.0  0.0      0.0  0.0  0.0  0.0  0.0  0.0  0.0\n",
       " 0.0  0.0  0.0  0.0  0.0  0.0  0.0     26.0  0.0  0.0  0.0  1.0  0.0  0.0\n",
       " 0.0  0.0  0.0  0.0  0.0  0.0  0.0      0.0  0.0  0.0  0.0  0.0  0.0  0.0\n",
       " 0.0  0.0  1.0  0.0  0.0  0.0  0.0  …   0.0  0.0  0.0  0.0  0.0  0.0  0.0\n",
       " 0.0  0.0  0.0  1.0  0.0  0.0  0.0      0.0  0.0  0.0  0.0  0.0  0.0  0.0\n",
       " 0.0  0.0  0.0  0.0  0.0  0.0  0.0      0.0  0.0  0.0  0.0  0.0  0.0  0.0\n",
       " 0.0  0.0  0.0  0.0  0.0  0.0  0.0     15.0  0.0  0.0  0.0  0.0  0.0  0.0\n",
       " 0.0  0.0  0.0  0.0  0.0  0.0  0.0      0.0  0.0  0.0  0.0  0.0  0.0  1.0\n",
       " 0.0  0.0  0.0  0.0  0.0  0.0  0.0  …   0.0  0.0  0.0  0.0  0.0  0.0  0.0\n",
       " 0.0  0.0  0.0  1.0  0.0  0.0  0.0      0.0  0.0  0.0  0.0  0.0  0.0  0.0\n",
       " 0.0  0.0  0.0  0.0  0.0  0.0  0.0      0.0  0.0  0.0  0.0  0.0  0.0  0.0\n",
       " ⋮                        ⋮         ⋱                  ⋮              \n",
       " 0.0  0.0  0.0  0.0  0.0  0.0  0.0      0.0  0.0  0.0  0.0  0.0  0.0  0.0\n",
       " 0.0  0.0  0.0  0.0  0.0  0.0  1.0      0.0  1.0  0.0  0.0  0.0  0.0  0.0\n",
       " 0.0  0.0  0.0  0.0  1.0  0.0  0.0      0.0  0.0  0.0  0.0  0.0  0.0  0.0\n",
       " 0.0  0.0  0.0  0.0  1.0  0.0  0.0  …   0.0  0.0  0.0  0.0  0.0  0.0  0.0\n",
       " 0.0  0.0  0.0  0.0  0.0  1.0  0.0      0.0  0.0  0.0  0.0  0.0  0.0  0.0\n",
       " 0.0  0.0  0.0  1.0  0.0  0.0  0.0      0.0  0.0  0.0  0.0  0.0  0.0  0.0\n",
       " 0.0  0.0  0.0  0.0  0.0  0.0  0.0      0.0  0.0  0.0  0.0  0.0  0.0  1.0\n",
       " 0.0  0.0  0.0  0.0  1.0  0.0  0.0      0.0  0.0  0.0  0.0  0.0  0.0  0.0\n",
       " 0.0  0.0  0.0  0.0  0.0  0.0  0.0  …   0.0  0.0  0.0  0.0  0.0  0.0  0.0\n",
       " 0.0  0.0  0.0  0.0  0.0  0.0  1.0      0.0  1.0  0.0  0.0  0.0  0.0  0.0\n",
       " 0.0  0.0  0.0  0.0  0.0  0.0  1.0      0.0  1.0  0.0  0.0  0.0  0.0  0.0\n",
       " 0.0  0.0  0.0  0.0  0.0  0.0  0.0      0.0  0.0  0.0  0.0  0.0  0.0  0.0"
      ]
     },
     "execution_count": 3,
     "metadata": {},
     "output_type": "execute_result"
    }
   ],
   "source": [
    "trainxmat_modified=trainxmat[:,1:4]\n",
    "trainxmat_others=trainxmat[:,5:size(trainxmat)[2]]\n"
   ]
  },
  {
   "cell_type": "code",
   "execution_count": 4,
   "id": "ec3d7ef5",
   "metadata": {},
   "outputs": [
    {
     "data": {
      "text/plain": [
       "4474×4 Matrix{Float64}:\n",
       "  7.155    0.168527    33.6874  11.0\n",
       " 12.35     0.0418025   34.8216  14.0\n",
       " 10.85     0.0480043  117.581   15.0\n",
       "  9.3      0.0422563  124.439   26.0\n",
       " 12.15     0.062276    37.9532   9.0\n",
       "  9.0      0.0692291   55.9614  11.0\n",
       " 16.75     0.0137113  100.267   15.0\n",
       " 12.7929   0.0977687  142.45    28.0\n",
       "  6.385    0.140328   109.16    15.0\n",
       " 18.2      0.16296     43.5086  26.0\n",
       "  7.97     0.0400711   87.3514  11.0\n",
       "  8.71     0.139796    47.2376   4.0\n",
       "  8.85     0.112571   122.039   26.0\n",
       "  ⋮                             \n",
       " 12.7929   0.044445   245.28    28.0\n",
       " 16.75     0.0814851  258.099   11.0\n",
       " 20.25     0.0363997  219.348   11.0\n",
       " 12.7929   0.0345844  248.375   28.0\n",
       "  5.695    0.0659609  259.265    6.0\n",
       " 12.7929   0.0306933  228.035   28.0\n",
       "  6.825    0.059847   262.523   16.0\n",
       " 12.6      0.0743386  255.536    6.0\n",
       " 12.7929   0.0888399  254.267   28.0\n",
       " 12.7929  -0.969538   253.036   28.0\n",
       " 12.7929   0.0142956  242.651   28.0\n",
       " 12.7929   0.0105509  234.996   28.0"
      ]
     },
     "execution_count": 4,
     "metadata": {},
     "output_type": "execute_result"
    }
   ],
   "source": [
    "trainxmat_modified"
   ]
  },
  {
   "cell_type": "code",
   "execution_count": 5,
   "id": "a8269a52",
   "metadata": {},
   "outputs": [
    {
     "ename": "LoadError",
     "evalue": "UndefVarError: stable_all_train_val_proc not defined",
     "output_type": "error",
     "traceback": [
      "UndefVarError: stable_all_train_val_proc not defined",
      "",
      "Stacktrace:",
      " [1] top-level scope",
      "   @ In[5]:1",
      " [2] eval",
      "   @ .\\boot.jl:360 [inlined]",
      " [3] include_string(mapexpr::typeof(REPL.softscope), mod::Module, code::String, filename::String)",
      "   @ Base .\\loading.jl:1116"
     ]
    }
   ],
   "source": [
    "stable_y=stable_all_train_val_proc[:,4]\n",
    "\n",
    "stable_x=select!(stable_all_train_val_proc,Not(:Item_Outlet_Sales))\n"
   ]
  },
  {
   "cell_type": "code",
   "execution_count": 2,
   "id": "ce43942e",
   "metadata": {},
   "outputs": [
    {
     "data": {
      "text/plain": [
       "Least Squares GLMNet Cross Validation\n",
       "83 models for 15 predictors in 10 folds\n",
       "Best λ 0.000 (mean loss 0.372, std 0.009)"
      ]
     },
     "execution_count": 2,
     "metadata": {},
     "output_type": "execute_result"
    }
   ],
   "source": [
    "trainxmat = Matrix(trainx)\n",
    "trainyarr = Vector(trainy[:,1])\n",
    "\n",
    "#testxmat = Matrix(testx)\n",
    "#testyarr = Vector(testy[:,1])\n",
    "\n",
    "\n",
    "#lasso_model = glmnetcv(trainxmat, trainyarr, intercept=false)\n"
   ]
  },
  {
   "cell_type": "code",
   "execution_count": 7,
   "id": "9ff33d85",
   "metadata": {},
   "outputs": [
    {
     "name": "stdout",
     "output_type": "stream",
     "text": [
      "In sample R^2 is: 0.6337612813617132\n",
      "Out sample R^2 is: 0.6377673043458182\n"
     ]
    }
   ],
   "source": [
    "#Question 1(a)\n",
    "\n",
    "trainxmat = Matrix(trainx)\n",
    "trainyarr = Vector(trainy[:,1])\n",
    "\n",
    "testxmat = Matrix(testx)\n",
    "testyarr = Vector(testy[:,1])\n",
    "\n",
    "\n",
    "lasso_model = glmnetcv(trainxmat, trainyarr, intercept=false)\n",
    "\n",
    "\n",
    "lasso_best_ind = argmin(lasso_model.meanloss)\n",
    "lasso_betas = lasso_model.path.betas[:,lasso_best_ind]\n",
    "\n",
    "irsq = lasso_model.path.dev_ratio[lasso_best_ind]\n",
    "println(\"In sample R^2 is: $irsq\")\n",
    "\n",
    "predictions = GLMNet.predict(lasso_model, testxmat)\n",
    "\n",
    "orsq = 1 - ((sum((testyarr.-predictions).^2)) / (sum((testyarr.-mean(trainyarr)).^2)))\n",
    "println(\"Out sample R^2 is: $orsq\")\n"
   ]
  },
  {
   "cell_type": "code",
   "execution_count": 12,
   "id": "309f8028",
   "metadata": {},
   "outputs": [
    {
     "name": "stdout",
     "output_type": "stream",
     "text": [
      "No more strong correlation and a total of 7 variables"
     ]
    }
   ],
   "source": [
    "#Question 1(b)\n",
    "\n",
    "cor(trainxmat)\n",
    "#It seems like correlation between variable 1 and 8 is very high, we double check\n",
    "cor(trainxmat[:,1], trainxmat[:,8])\n",
    "#True so we remove column 8\n",
    "trainxmat2 = trainxmat[:, 1:end .!= 8]\n",
    "testxmat2 = testxmat[:, 1:end .!= 8]\n",
    "\n",
    "cor(trainxmat2)\n",
    "#correlation between 2 and 5 > 0.7 so we remove 5\n",
    "trainxmat2 = trainxmat2[:, 1:end .!= 5]\n",
    "testxmat2 = testxmat2[:, 1:end .!= 5]\n",
    "\n",
    "cor(trainxmat2)\n",
    "#correlation between 2 and 9 > 0.7 so we remove 9\n",
    "trainxmat2 = trainxmat2[:, 1:end .!= 9]\n",
    "testxmat2 = testxmat2[:, 1:end .!= 9]\n",
    "\n",
    "cor(trainxmat2)\n",
    "#correlation between 2 and 9 > 0.7 so we remove 9\n",
    "trainxmat2 = trainxmat2[:, 1:end .!= 9]\n",
    "testxmat2 = testxmat2[:, 1:end .!= 9]\n",
    "\n",
    "cor(trainxmat2)\n",
    "#correlation between 2 and 11 > 0.7 so we remove 11\n",
    "trainxmat2 = trainxmat2[:, 1:end .!= 11]\n",
    "testxmat2 = testxmat2[:, 1:end .!= 11]\n",
    "\n",
    "cor(trainxmat2)\n",
    "#correlation between 3 and 9 > 0.7 so we remove 9\n",
    "trainxmat2 = trainxmat2[:, 1:end .!= 9]\n",
    "testxmat2 = testxmat2[:, 1:end .!= 9]\n",
    "\n",
    "cor(trainxmat2)\n",
    "cor(trainxmat2[:,5], trainxmat2[:,7])\n",
    "#correlation between 5 and 7 > 0.7 so we remove 7\n",
    "trainxmat2 = trainxmat2[:, 1:end .!= 7]\n",
    "testxmat2 = testxmat2[:, 1:end .!= 7]\n",
    "\n",
    "cor(trainxmat2)\n",
    "cor(trainxmat2[:,7], trainxmat2[:,8])\n",
    "#correlation between 7 and 8 > 0.7 so we remove 8\n",
    "trainxmat2 = trainxmat2[:, 1:end .!= 8]\n",
    "testxmat2 = testxmat2[:, 1:end .!= 8]\n",
    "\n",
    "cor(trainxmat2)\n",
    "\n",
    "problem = 0\n",
    "m,n = size(cor(trainxmat2))\n",
    "for i=1:m\n",
    "    for j=1:n\n",
    "        if(cor(trainxmat2)[i,j] > 0.7 && i!=j)\n",
    "            print(\"Correlation between variables $i and $j is > 0.7\")\n",
    "            problem = 1\n",
    "        end\n",
    "    end\n",
    "end\n",
    "\n",
    "if (problem == 0)\n",
    "    print(\"No more strong correlation and a total of $m variables\")\n",
    "end"
   ]
  },
  {
   "cell_type": "code",
   "execution_count": 13,
   "id": "ba408625",
   "metadata": {},
   "outputs": [
    {
     "name": "stdout",
     "output_type": "stream",
     "text": [
      "In sample R^2 is: 0.559143431150576\n",
      "Out sample R^2 is: 0.5784134408726588\n"
     ]
    }
   ],
   "source": [
    "lasso_model2 = glmnetcv(trainxmat2, trainyarr, intercept=false)\n",
    "\n",
    "lasso_best_ind2 = argmin(lasso_model2.meanloss)\n",
    "lasso_betas2 = lasso_model2.path.betas[:,lasso_best_ind2]\n",
    "\n",
    "irsq2 = lasso_model2.path.dev_ratio[lasso_best_ind2]\n",
    "println(\"In sample R^2 is: $irsq2\")\n",
    "\n",
    "predictions2 = GLMNet.predict(lasso_model2, testxmat2)\n",
    "\n",
    "orsq2 = 1 - ((sum((testyarr.-predictions2).^2)) / (sum((testyarr.-mean(trainyarr)).^2)))\n",
    "println(\"Out sample R^2 is: $orsq2\")"
   ]
  },
  {
   "cell_type": "code",
   "execution_count": 6,
   "id": "f8beddcf",
   "metadata": {},
   "outputs": [
    {
     "data": {
      "text/plain": [
       "holistic (generic function with 1 method)"
      ]
     },
     "execution_count": 6,
     "metadata": {},
     "output_type": "execute_result"
    }
   ],
   "source": [
    "function holistic(x, y, weirdr, M)\n",
    "    \n",
    "    n, p = size(x)\n",
    "\n",
    "    m = Model(Gurobi.Optimizer)\n",
    "    \n",
    "    set_optimizer_attribute(m, \"OutputFlag\", 0) \n",
    "    \n",
    "    @variable(m, beta[1:p])\n",
    "    @variable(m, beta0)\n",
    "    @variable(m, z[1:p], Bin)\n",
    "    @variable(m, q[1:p] >= 0)\n",
    "    @variable(m, t[1:n] >= 0)\n",
    "    \n",
    "    @constraint(m, sum(z) <= 10)\n",
    "    pby4 = trunc(Int, 4) ##CHECK IF NOT WORKS +++++++++++++++++++++++++++++++++++++++\n",
    "    @constraint(m, [i=1:pby4], sum(z[(i-1)*4+j] for j=1:4) <= 1)\n",
    "    \n",
    "    @constraint(m, [i=1:p], -M*z[i] <= beta[i])\n",
    "    @constraint(m, [i=1:p], beta[i] <= M*z[i])\n",
    "    @constraint(m, [i=1:p], beta[i] <= q[i])\n",
    "    @constraint(m, [i=1:p], -beta[i] <= q[i])\n",
    "\n",
    "    for i=2:p\n",
    "        for j=1:(i-1)\n",
    "            if (cor(x[:,i],x[:,j]) > 0.7)\n",
    "                @constraint(m, z[i]+z[j] <= 1)\n",
    "            end\n",
    "        end\n",
    "    end\n",
    "    \n",
    "    @constraint(m, [i=1:n], (y[i] - sum(x[i,j]*beta[j] for j=1:p) - beta0) <= t[i])\n",
    "    @constraint(m, [i=1:n], -(y[i] - sum(x[i,j]*beta[j] for j=1:p) - beta0) <= t[i])\n",
    "    \n",
    "    @objective(m, Min, 0.5 * sum(t[i]^2 for i=1:n) + weirdr * sum(q[j] for j=1:p))\n",
    "    optimize!(m)\n",
    "        \n",
    "    obj = JuMP.objective_value(m)\n",
    "    beta0 = JuMP.value(beta0)\n",
    "    betas = JuMP.value.(beta)\n",
    "    z = JuMP.value.(z)\n",
    "        \n",
    "    return obj, beta0, betas, z\n",
    "end"
   ]
  },
  {
   "cell_type": "code",
   "execution_count": 7,
   "id": "78df9cab",
   "metadata": {},
   "outputs": [
    {
     "data": {
      "text/plain": [
       "creatematrices (generic function with 1 method)"
      ]
     },
     "execution_count": 7,
     "metadata": {},
     "output_type": "execute_result"
    }
   ],
   "source": [
    "#add origional variables back in that were not transformed\n",
    "#trainxmat=orig 4 columns\n",
    "\n",
    "function creatematrices(trainxmat,  eps)\n",
    "    ntrain, ptrain = size(trainxmat)\n",
    "    #ntest, ptest = size(testxmat)\n",
    "\n",
    "    modtrainxmat = zeros(ntrain, 4*ptrain)\n",
    "    #modtestxmat = zeros(ntest, 4*ptest)\n",
    "\n",
    "    for i = 1:(4)\n",
    "        modtrainxmat[:,4*(i-1)+1] = trainxmat[:,i]\n",
    "        modtrainxmat[:,4*(i-1)+2] = trainxmat[:,i].^2\n",
    "        modtrainxmat[:,4*(i-1)+3] = sqrt.(abs.(trainxmat[:,i]))\n",
    "        modtrainxmat[:,4*(i-1)+4] = log.(abs.(trainxmat[:,i]) .+ eps)\n",
    "\n",
    "#         modtestxmat[:,4*(i-1)+1] = testxmat[:,i]\n",
    "#         modtestxmat[:,4*(i-1)+2] = testxmat[:,i].^2\n",
    "#         modtestxmat[:,4*(i-1)+3] = sqrt.(abs.(testxmat[:,i]))\n",
    "#         modtestxmat[:,4*(i-1)+4] = log.(abs.(testxmat[:,i]) .+ eps)\n",
    "        end\n",
    "\n",
    "    return modtrainxmat #, modtestxmat\n",
    "end"
   ]
  },
  {
   "cell_type": "code",
   "execution_count": null,
   "id": "e5a62b3c",
   "metadata": {},
   "outputs": [
    {
     "name": "stdout",
     "output_type": "stream",
     "text": [
      "i = 1\n",
      "AB"
     ]
    }
   ],
   "source": [
    "weirdroptions = [0, 0.001, 0.01, 0.1, 1, 10]\n",
    "lengthoptions = length(weirdroptions)\n",
    "savemses = zeros(lengthoptions)\n",
    "M = 10000\n",
    "\n",
    "first_four_transformed = creatematrices(trainxmat_modified,  10e-6) #removed tesstxmat\n",
    "exttrainxmat=hcat(first_four_transformed, trainxmat_others)\n",
    "#exttrainxmat = creatematrices(trainxmat_modified,  10e-6) #removed tesstxmat\n",
    "\n",
    "\n",
    "#trainyarr\n",
    "#testyarr\n",
    "\n",
    "n, p = size(exttrainxmat)\n",
    "numfolds = 10\n",
    "foldsamps = sample(1:numfolds, n, replace = true)\n",
    "\n",
    "for i = 1:numfolds\n",
    "    \n",
    "    println(\"i = $i\")\n",
    "    traintrainx = exttrainxmat[[x for x in 1:n if foldsamps[x] != i],:]\n",
    "    print(\"A\")\n",
    "    trainvalx = exttrainxmat[[x for x in 1:n if foldsamps[x] == i],:]\n",
    "    print(\"B\")\n",
    "    \n",
    "    traintrainy = trainyarr[[x for x in 1:n if foldsamps[x] != i],:]\n",
    "    print(\"C\")\n",
    "    trainvaly = trainyarr[[x for x in 1:n if foldsamps[x] == i],:]\n",
    "    print(\"D\")\n",
    "    for j = 1:lengthoptions\n",
    "        println(\"j = $j\")\n",
    "        r = weirdroptions[j]\n",
    "        obj, beta0, betas, z = holistic(traintrainx, traintrainy, r, M)\n",
    "        predictions = trainvalx * betas .+ beta0\n",
    "        mse = mean((predictions .- trainvaly).^2)\n",
    "        savemses[j] = savemses[j] + mse\n",
    "    end\n",
    "end"
   ]
  },
  {
   "cell_type": "code",
   "execution_count": 21,
   "id": "916d8b64",
   "metadata": {},
   "outputs": [
    {
     "data": {
      "text/plain": [
       "4474×48 Matrix{Float64}:\n",
       "  7.155    0.168527    33.6874  11.0  …   0.0  0.0  0.0  0.0  0.0  0.0  0.0\n",
       " 12.35     0.0418025   34.8216  14.0      0.0  0.0  0.0  0.0  0.0  0.0  1.0\n",
       " 10.85     0.0480043  117.581   15.0      0.0  0.0  0.0  0.0  0.0  0.0  0.0\n",
       "  9.3      0.0422563  124.439   26.0     26.0  0.0  0.0  0.0  1.0  0.0  0.0\n",
       " 12.15     0.062276    37.9532   9.0      0.0  0.0  0.0  0.0  0.0  0.0  0.0\n",
       "  9.0      0.0692291   55.9614  11.0  …   0.0  0.0  0.0  0.0  0.0  0.0  0.0\n",
       " 16.75     0.0137113  100.267   15.0      0.0  0.0  0.0  0.0  0.0  0.0  0.0\n",
       " 12.7929   0.0977687  142.45    28.0      0.0  0.0  0.0  0.0  0.0  0.0  0.0\n",
       "  6.385    0.140328   109.16    15.0     15.0  0.0  0.0  0.0  0.0  0.0  0.0\n",
       " 18.2      0.16296     43.5086  26.0      0.0  0.0  0.0  0.0  0.0  0.0  1.0\n",
       "  7.97     0.0400711   87.3514  11.0  …   0.0  0.0  0.0  0.0  0.0  0.0  0.0\n",
       "  8.71     0.139796    47.2376   4.0      0.0  0.0  0.0  0.0  0.0  0.0  0.0\n",
       "  8.85     0.112571   122.039   26.0      0.0  0.0  0.0  0.0  0.0  0.0  0.0\n",
       "  ⋮                                   ⋱                       ⋮         \n",
       " 12.7929   0.044445   245.28    28.0      0.0  0.0  0.0  0.0  0.0  0.0  0.0\n",
       " 16.75     0.0814851  258.099   11.0      0.0  1.0  0.0  0.0  0.0  0.0  0.0\n",
       " 20.25     0.0363997  219.348   11.0      0.0  0.0  0.0  0.0  0.0  0.0  0.0\n",
       " 12.7929   0.0345844  248.375   28.0  …   0.0  0.0  0.0  0.0  0.0  0.0  0.0\n",
       "  5.695    0.0659609  259.265    6.0      0.0  0.0  0.0  0.0  0.0  0.0  0.0\n",
       " 12.7929   0.0306933  228.035   28.0      0.0  0.0  0.0  0.0  0.0  0.0  0.0\n",
       "  6.825    0.059847   262.523   16.0      0.0  0.0  0.0  0.0  0.0  0.0  1.0\n",
       " 12.6      0.0743386  255.536    6.0      0.0  0.0  0.0  0.0  0.0  0.0  0.0\n",
       " 12.7929   0.0888399  254.267   28.0  …   0.0  0.0  0.0  0.0  0.0  0.0  0.0\n",
       " 12.7929  -0.969538   253.036   28.0      0.0  1.0  0.0  0.0  0.0  0.0  0.0\n",
       " 12.7929   0.0142956  242.651   28.0      0.0  1.0  0.0  0.0  0.0  0.0  0.0\n",
       " 12.7929   0.0105509  234.996   28.0      0.0  0.0  0.0  0.0  0.0  0.0  0.0"
      ]
     },
     "execution_count": 21,
     "metadata": {},
     "output_type": "execute_result"
    }
   ],
   "source": [
    "trainxmat"
   ]
  },
  {
   "cell_type": "code",
   "execution_count": 19,
   "id": "74a2a1cd",
   "metadata": {},
   "outputs": [
    {
     "data": {
      "text/plain": [
       "4473-element Vector{Float64}:\n",
       "   311.5944\n",
       "   351.5424\n",
       "  1609.9044\n",
       "  1078.596\n",
       "   386.8298\n",
       "   203.7348\n",
       "   564.5984\n",
       "   107.8596\n",
       "  1070.6064\n",
       "  1062.6168\n",
       "   910.8144\n",
       "  1609.9044\n",
       "  1454.1072\n",
       "     ⋮\n",
       " 10072.8882\n",
       "  8994.958\n",
       "  8323.8316\n",
       " 10236.675\n",
       "  9275.9256\n",
       " 10306.584\n",
       "  9779.9362\n",
       "  9664.7528\n",
       " 10993.6896\n",
       " 11445.102\n",
       " 12117.56\n",
       " 13086.9648"
      ]
     },
     "execution_count": 19,
     "metadata": {},
     "output_type": "execute_result"
    }
   ],
   "source": [
    "trainyarr"
   ]
  },
  {
   "cell_type": "code",
   "execution_count": null,
   "id": "12d61dd0",
   "metadata": {},
   "outputs": [],
   "source": [
    "traintrainy = trainyarr[[x for x in 1:n if foldsamps[x] != i],:]\n",
    "    "
   ]
  },
  {
   "cell_type": "code",
   "execution_count": null,
   "id": "6edd65e9",
   "metadata": {},
   "outputs": [],
   "source": [
    "println(\"List of MSE: $savemses\")\n",
    "bestr = weirdroptions[argmin(savemses)]\n",
    "println(\"Best WeirdR: $bestr\")"
   ]
  },
  {
   "cell_type": "code",
   "execution_count": null,
   "id": "99bb3626",
   "metadata": {},
   "outputs": [],
   "source": [
    "#We see that the selected hyperparameter is at the end of the range, so check a new range\n",
    "\n",
    "weirdroptions2 = [2, 5, 9, 15, 30, 50, 100]\n",
    "lengthoptions2 = length(weirdroptions2)\n",
    "savemses2 = zeros(lengthoptions2)\n",
    "M = 10000\n",
    "\n",
    "exttrainxmat, exttestxmat = creatematrices(trainxmat, testxmat, 10e-6)\n",
    "#trainyarr\n",
    "#testyarr\n",
    "\n",
    "n, p = size(exttrainxmat)\n",
    "numfolds = 10\n",
    "foldsamps = sample(1:numfolds, n, replace = true)\n",
    "\n",
    "for i = 1:numfolds\n",
    "    \n",
    "    println(\"i = $i\")\n",
    "    traintrainx = exttrainxmat[[x for x in 1:n if foldsamps[x] != i],:]\n",
    "    trainvalx = exttrainxmat[[x for x in 1:n if foldsamps[x] == i],:]\n",
    "    traintrainy = trainyarr[[x for x in 1:n if foldsamps[x] != i],:]\n",
    "    trainvaly = trainyarr[[x for x in 1:n if foldsamps[x] == i],:]\n",
    "    \n",
    "    for j = 1:lengthoptions2\n",
    "        println(\"j = $j\")\n",
    "        r = weirdroptions2[j]\n",
    "        obj, beta0, betas, z = holistic(traintrainx, traintrainy, r, M)\n",
    "        predictions = trainvalx * betas .+ beta0\n",
    "        mse = mean((predictions .- trainvaly).^2)\n",
    "        savemses2[j] = savemses2[j] + mse\n",
    "    end\n",
    "end"
   ]
  },
  {
   "cell_type": "code",
   "execution_count": null,
   "id": "5b4c7fa7",
   "metadata": {},
   "outputs": [],
   "source": [
    "println(\"List of MSE: $savemses\")\n",
    "bestr = weirdroptions2[argmin(savemses2)]\n",
    "println(\"Best WeirdR: $bestr\")"
   ]
  },
  {
   "cell_type": "code",
   "execution_count": null,
   "id": "e0559bb4",
   "metadata": {},
   "outputs": [],
   "source": [
    "#we train a final model with the chosen parameter \n",
    "\n",
    "finobj, finbeta0, finbetas, finz = holistic(exttrainxmat, trainyarr, bestr, M)\n",
    "        \n",
    "predictiontrain = exttrainxmat * finbetas .+ finbeta0\n",
    "predictiontest = exttestxmat * finbetas .+ finbeta0\n",
    "\n",
    "irsq2 = 1 - ((sum((trainyarr.-predictiontrain).^2)) / (sum((trainyarr.-mean(trainyarr)).^2)))\n",
    "println(\"In sample R^2 is: $irsq2\")\n",
    "\n",
    "orsq2 = 1 - ((sum((testyarr.-predictiontest).^2)) / (sum((testyarr.-mean(trainyarr)).^2)))\n",
    "println(\"Out sample R^2 is: $orsq2\")"
   ]
  },
  {
   "cell_type": "code",
   "execution_count": null,
   "id": "6326b485",
   "metadata": {},
   "outputs": [],
   "source": []
  }
 ],
 "metadata": {
  "kernelspec": {
   "display_name": "Julia 1.6.2",
   "language": "julia",
   "name": "julia-1.6"
  },
  "language_info": {
   "file_extension": ".jl",
   "mimetype": "application/julia",
   "name": "julia",
   "version": "1.6.2"
  }
 },
 "nbformat": 4,
 "nbformat_minor": 5
}
