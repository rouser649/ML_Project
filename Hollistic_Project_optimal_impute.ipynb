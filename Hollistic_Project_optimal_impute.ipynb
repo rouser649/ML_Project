{
 "cells": [
  {
   "cell_type": "markdown",
   "id": "21a4fbae",
   "metadata": {},
   "source": [
    "## Import Packages"
   ]
  },
  {
   "cell_type": "code",
   "execution_count": 1,
   "id": "7514299a",
   "metadata": {},
   "outputs": [],
   "source": [
    "using Gurobi, CSV, DataFrames, JuMP, LinearAlgebra, Distributions, Random, GLMNet"
   ]
  },
  {
   "cell_type": "markdown",
   "id": "7b86a168",
   "metadata": {},
   "source": [
    "## Read in Data \n",
    "\n",
    "### training and validation set created from stable regression (see notebook)"
   ]
  },
  {
   "cell_type": "code",
   "execution_count": 2,
   "id": "e3718a82",
   "metadata": {},
   "outputs": [],
   "source": [
    "trainx = CSV.read(\"Data/x_training_stable_optimpute.csv\",DataFrame)\n",
    "trainy = CSV.read(\"Data/y_training_stable_optimpute.csv\",DataFrame,header=0);\n"
   ]
  },
  {
   "cell_type": "markdown",
   "id": "82cc5372",
   "metadata": {},
   "source": [
    "### Convert data to matrix and vector form "
   ]
  },
  {
   "cell_type": "code",
   "execution_count": 3,
   "id": "71913438",
   "metadata": {},
   "outputs": [],
   "source": [
    "trainxmat = Matrix(trainx)\n",
    "trainyarr = Vector(trainy[:,1]);"
   ]
  },
  {
   "cell_type": "markdown",
   "id": "ad678057",
   "metadata": {},
   "source": [
    "### Subset the first four columns (numeric) we do transformation on our numeric columns later"
   ]
  },
  {
   "cell_type": "code",
   "execution_count": 4,
   "id": "882dc196",
   "metadata": {},
   "outputs": [],
   "source": [
    "trainxmat_modified=trainxmat[:,1:4]\n",
    "trainxmat_others=trainxmat[:,5:size(trainxmat)[2]]\n",
    ";\n"
   ]
  },
  {
   "cell_type": "markdown",
   "id": "a2f75bf3",
   "metadata": {},
   "source": [
    "## Holistic Regression"
   ]
  },
  {
   "cell_type": "code",
   "execution_count": 5,
   "id": "f8beddcf",
   "metadata": {},
   "outputs": [
    {
     "data": {
      "text/plain": [
       "holistic (generic function with 1 method)"
      ]
     },
     "execution_count": 5,
     "metadata": {},
     "output_type": "execute_result"
    }
   ],
   "source": [
    "function holistic(x, y, weirdr, K, M)\n",
    "    \n",
    "    n, p = size(x)\n",
    "\n",
    "    m = Model(Gurobi.Optimizer)\n",
    "    \n",
    "    set_optimizer_attribute(m, \"OutputFlag\", 0) \n",
    "    \n",
    "    @variable(m, beta[1:p])\n",
    "    @variable(m, beta0)\n",
    "    @variable(m, z[1:p], Bin)\n",
    "    @variable(m, q[1:p] >= 0)\n",
    "    @variable(m, t[1:n] >= 0)\n",
    "    \n",
    "    @constraint(m, sum(z) <= K)\n",
    "    pby4 = trunc(Int, 4) ##CHECK IF NOT WORKS +++++++++++++++++++++++++++++++++++++++ 4 or 1\n",
    "    @constraint(m, [i=1:pby4], sum(z[(i-1)*4+j] for j=1:4) == 1)\n",
    "    @constraint(m, z[5] == 1) #ensure visibility feature chosen\n",
    "    \n",
    "    @constraint(m, [i=1:p], -M*z[i] <= beta[i])\n",
    "    @constraint(m, [i=1:p], beta[i] <= M*z[i])\n",
    "    @constraint(m, [i=1:p], beta[i] <= q[i])\n",
    "    @constraint(m, [i=1:p], -beta[i] <= q[i])\n",
    "\n",
    "    for i=2:p\n",
    "        for j=1:(i-1)\n",
    "            if (cor(x[:,i],x[:,j]) > 0.7)\n",
    "                @constraint(m, z[i]+z[j] <= 1)\n",
    "            end\n",
    "        end\n",
    "    end\n",
    "    \n",
    "    @constraint(m, [i=1:n], (y[i] - sum(x[i,j]*beta[j] for j=1:p) - beta0) <= t[i])\n",
    "    @constraint(m, [i=1:n], -(y[i] - sum(x[i,j]*beta[j] for j=1:p) - beta0) <= t[i])\n",
    "    \n",
    "    @objective(m, Min, 0.5 * sum(t[i]^2 for i=1:n) + weirdr * sum(q[j] for j=1:p))\n",
    "    optimize!(m)\n",
    "        \n",
    "    obj = JuMP.objective_value(m)\n",
    "    beta0 = JuMP.value(beta0)\n",
    "    betas = JuMP.value.(beta)\n",
    "    z = JuMP.value.(z)\n",
    "        \n",
    "    return obj, beta0, betas, z\n",
    "end"
   ]
  },
  {
   "cell_type": "markdown",
   "id": "4274fb1b",
   "metadata": {},
   "source": [
    "## Adding transformations of our 3 numeric columns"
   ]
  },
  {
   "cell_type": "code",
   "execution_count": 6,
   "id": "78df9cab",
   "metadata": {},
   "outputs": [
    {
     "data": {
      "text/plain": [
       "creatematrices (generic function with 1 method)"
      ]
     },
     "execution_count": 6,
     "metadata": {},
     "output_type": "execute_result"
    }
   ],
   "source": [
    "#add origional variables back in that were not transformed\n",
    "#trainxmat=orig 4 columns\n",
    "\n",
    "function creatematrices(trainxmat,  eps)\n",
    "    ntrain, ptrain = size(trainxmat)\n",
    "    #ntest, ptest = size(testxmat)\n",
    "\n",
    "    modtrainxmat = zeros(ntrain, 4*ptrain)\n",
    "    #modtestxmat = zeros(ntest, 4*ptest)\n",
    "\n",
    "    for i = 1:(4)\n",
    "        modtrainxmat[:,4*(i-1)+1] = trainxmat[:,i]\n",
    "        modtrainxmat[:,4*(i-1)+2] = trainxmat[:,i].^2\n",
    "        modtrainxmat[:,4*(i-1)+3] = sqrt.(abs.(trainxmat[:,i]))\n",
    "        modtrainxmat[:,4*(i-1)+4] = log.(abs.(trainxmat[:,i]) .+ eps)\n",
    "\n",
    "#         modtestxmat[:,4*(i-1)+1] = testxmat[:,i]\n",
    "#         modtestxmat[:,4*(i-1)+2] = testxmat[:,i].^2\n",
    "#         modtestxmat[:,4*(i-1)+3] = sqrt.(abs.(testxmat[:,i]))\n",
    "#         modtestxmat[:,4*(i-1)+4] = log.(abs.(testxmat[:,i]) .+ eps)\n",
    "        end\n",
    "\n",
    "    return modtrainxmat #, modtestxmat\n",
    "end"
   ]
  },
  {
   "cell_type": "code",
   "execution_count": 7,
   "id": "3139b648",
   "metadata": {},
   "outputs": [],
   "source": [
    "using Gurobi, CSV, DataFrames, JuMP, LinearAlgebra, Distributions, Random, GLMNet"
   ]
  },
  {
   "cell_type": "markdown",
   "id": "d8e8934b",
   "metadata": {},
   "source": [
    "### Getting the full data (post fransformation)\n",
    "\n"
   ]
  },
  {
   "cell_type": "code",
   "execution_count": 8,
   "id": "8d5d8cae",
   "metadata": {},
   "outputs": [],
   "source": [
    "first_four_transformed = creatematrices(trainxmat_modified,  10e-6) #removed tesstxmat\n",
    "exttrainxmat=hcat(first_four_transformed, trainxmat_others)\n",
    "\n",
    ";"
   ]
  },
  {
   "cell_type": "markdown",
   "id": "509c8a63",
   "metadata": {},
   "source": [
    "## Cross validation function"
   ]
  },
  {
   "cell_type": "code",
   "execution_count": 9,
   "id": "2e5bf70d",
   "metadata": {},
   "outputs": [
    {
     "data": {
      "text/plain": [
       "cross_val (generic function with 1 method)"
      ]
     },
     "execution_count": 9,
     "metadata": {},
     "output_type": "execute_result"
    }
   ],
   "source": [
    "M=100\n",
    "r=0.1#\n",
    "K = 10\n",
    "n, p = size(exttrainxmat)\n",
    "numfolds = 10\n",
    "foldsamps = sample(1:numfolds, n, replace = true)\n",
    "\n",
    "function cross_val(rho, fold,M)\n",
    "   # first_four_transformed = creatematrices(trainxmat_modified,  10e-6) #removed tesstxmat\n",
    "   # exttrainxmat=hcat(first_four_transformed, trainxmat_others)\n",
    "\n",
    "\n",
    "   \n",
    "\n",
    "\n",
    "    traintrainx = exttrainxmat[[x for x in 1:n if foldsamps[x] != fold],:]\n",
    "    trainvalx = exttrainxmat[[x for x in 1:n if foldsamps[x] == fold],:]\n",
    "    traintrainy = trainyarr[[x for x in 1:n if foldsamps[x] != fold],:]\n",
    "    trainvaly = trainyarr[[x for x in 1:n if foldsamps[x] == fold],:]\n",
    "    print(\"D\")\n",
    "\n",
    "\n",
    "    print(\"A\")\n",
    "    obj, beta0, betas, z = holistic(traintrainx, traintrainy, rho, K, M)\n",
    "    print(\"B\")\n",
    "    predictions = Matrix(trainvalx) * betas .+ beta0\n",
    "    mse = mean((predictions .- trainvaly).^2)\n",
    "    #savemses[j] = savemses[j] + mse\n",
    "    \n",
    "    return(beta0, betas, z, trainvalx, trainvaly, mse)\n",
    "end"
   ]
  },
  {
   "cell_type": "markdown",
   "id": "56c473c4",
   "metadata": {},
   "source": [
    "### Doing 10 fold  Cross validation to find the best gamma"
   ]
  },
  {
   "cell_type": "code",
   "execution_count": 26,
   "id": "a3e05105",
   "metadata": {},
   "outputs": [
    {
     "name": "stdout",
     "output_type": "stream",
     "text": [
      "DAAcademic license - for non-commercial use only - expires 2022-08-18\n",
      "BDAAcademic license - for non-commercial use only - expires 2022-08-18\n",
      "BDAAcademic license - for non-commercial use only - expires 2022-08-18\n",
      "BDAAcademic license - for non-commercial use only - expires 2022-08-18\n",
      "BDAAcademic license - for non-commercial use only - expires 2022-08-18\n",
      "BDAAcademic license - for non-commercial use only - expires 2022-08-18\n",
      "BDAAcademic license - for non-commercial use only - expires 2022-08-18\n",
      "BDAAcademic license - for non-commercial use only - expires 2022-08-18\n",
      "BDAAcademic license - for non-commercial use only - expires 2022-08-18\n",
      "BDAAcademic license - for non-commercial use only - expires 2022-08-18\n",
      "BDAAcademic license - for non-commercial use only - expires 2022-08-18\n",
      "BDAAcademic license - for non-commercial use only - expires 2022-08-18\n",
      "BDAAcademic license - for non-commercial use only - expires 2022-08-18\n",
      "BDAAcademic license - for non-commercial use only - expires 2022-08-18\n",
      "BDAAcademic license - for non-commercial use only - expires 2022-08-18\n",
      "BDAAcademic license - for non-commercial use only - expires 2022-08-18\n",
      "BDAAcademic license - for non-commercial use only - expires 2022-08-18\n",
      "BDAAcademic license - for non-commercial use only - expires 2022-08-18\n",
      "BDAAcademic license - for non-commercial use only - expires 2022-08-18\n",
      "BDAAcademic license - for non-commercial use only - expires 2022-08-18\n",
      "BDAAcademic license - for non-commercial use only - expires 2022-08-18\n",
      "BDAAcademic license - for non-commercial use only - expires 2022-08-18\n",
      "BDAAcademic license - for non-commercial use only - expires 2022-08-18\n",
      "BDAAcademic license - for non-commercial use only - expires 2022-08-18\n",
      "BDAAcademic license - for non-commercial use only - expires 2022-08-18\n",
      "BDAAcademic license - for non-commercial use only - expires 2022-08-18\n",
      "BDAAcademic license - for non-commercial use only - expires 2022-08-18\n",
      "BDAAcademic license - for non-commercial use only - expires 2022-08-18\n",
      "BDAAcademic license - for non-commercial use only - expires 2022-08-18\n",
      "BDAAcademic license - for non-commercial use only - expires 2022-08-18\n",
      "BDAAcademic license - for non-commercial use only - expires 2022-08-18\n",
      "BDAAcademic license - for non-commercial use only - expires 2022-08-18\n",
      "BDAAcademic license - for non-commercial use only - expires 2022-08-18\n",
      "BDAAcademic license - for non-commercial use only - expires 2022-08-18\n",
      "BDAAcademic license - for non-commercial use only - expires 2022-08-18\n",
      "BDAAcademic license - for non-commercial use only - expires 2022-08-18\n",
      "BDAAcademic license - for non-commercial use only - expires 2022-08-18\n",
      "BDAAcademic license - for non-commercial use only - expires 2022-08-18\n",
      "BDAAcademic license - for non-commercial use only - expires 2022-08-18\n",
      "BDAAcademic license - for non-commercial use only - expires 2022-08-18\n",
      "BDAAcademic license - for non-commercial use only - expires 2022-08-18\n",
      "BDAAcademic license - for non-commercial use only - expires 2022-08-18\n",
      "BDAAcademic license - for non-commercial use only - expires 2022-08-18\n",
      "BDAAcademic license - for non-commercial use only - expires 2022-08-18\n",
      "BDAAcademic license - for non-commercial use only - expires 2022-08-18\n",
      "BDAAcademic license - for non-commercial use only - expires 2022-08-18\n",
      "BDAAcademic license - for non-commercial use only - expires 2022-08-18\n",
      "BDAAcademic license - for non-commercial use only - expires 2022-08-18\n",
      "BDAAcademic license - for non-commercial use only - expires 2022-08-18\n",
      "BDAAcademic license - for non-commercial use only - expires 2022-08-18\n",
      "BDAAcademic license - for non-commercial use only - expires 2022-08-18\n",
      "BDAAcademic license - for non-commercial use only - expires 2022-08-18\n",
      "BDAAcademic license - for non-commercial use only - expires 2022-08-18\n",
      "BDAAcademic license - for non-commercial use only - expires 2022-08-18\n",
      "BDAAcademic license - for non-commercial use only - expires 2022-08-18\n",
      "BDAAcademic license - for non-commercial use only - expires 2022-08-18\n",
      "BDAAcademic license - for non-commercial use only - expires 2022-08-18\n",
      "BDAAcademic license - for non-commercial use only - expires 2022-08-18\n",
      "BDAAcademic license - for non-commercial use only - expires 2022-08-18\n",
      "BDAAcademic license - for non-commercial use only - expires 2022-08-18\n",
      "BDAAcademic license - for non-commercial use only - expires 2022-08-18\n",
      "BDAAcademic license - for non-commercial use only - expires 2022-08-18\n",
      "BDAAcademic license - for non-commercial use only - expires 2022-08-18\n",
      "BDAAcademic license - for non-commercial use only - expires 2022-08-18\n",
      "BDAAcademic license - for non-commercial use only - expires 2022-08-18\n",
      "BDAAcademic license - for non-commercial use only - expires 2022-08-18\n",
      "BDAAcademic license - for non-commercial use only - expires 2022-08-18\n",
      "BDAAcademic license - for non-commercial use only - expires 2022-08-18\n",
      "BDAAcademic license - for non-commercial use only - expires 2022-08-18\n",
      "BDAAcademic license - for non-commercial use only - expires 2022-08-18\n",
      "BDAAcademic license - for non-commercial use only - expires 2022-08-18\n",
      "BDAAcademic license - for non-commercial use only - expires 2022-08-18\n",
      "BDAAcademic license - for non-commercial use only - expires 2022-08-18\n",
      "BDAAcademic license - for non-commercial use only - expires 2022-08-18\n",
      "BDAAcademic license - for non-commercial use only - expires 2022-08-18\n",
      "BDAAcademic license - for non-commercial use only - expires 2022-08-18\n",
      "BDAAcademic license - for non-commercial use only - expires 2022-08-18\n",
      "BDAAcademic license - for non-commercial use only - expires 2022-08-18\n",
      "BDAAcademic license - for non-commercial use only - expires 2022-08-18\n",
      "BDAAcademic license - for non-commercial use only - expires 2022-08-18\n",
      "BDAAcademic license - for non-commercial use only - expires 2022-08-18\n",
      "BDAAcademic license - for non-commercial use only - expires 2022-08-18\n",
      "BDAAcademic license - for non-commercial use only - expires 2022-08-18\n",
      "BDAAcademic license - for non-commercial use only - expires 2022-08-18\n",
      "BDAAcademic license - for non-commercial use only - expires 2022-08-18\n",
      "BDAAcademic license - for non-commercial use only - expires 2022-08-18\n",
      "BDAAcademic license - for non-commercial use only - expires 2022-08-18\n",
      "BDAAcademic license - for non-commercial use only - expires 2022-08-18\n",
      "BDAAcademic license - for non-commercial use only - expires 2022-08-18\n",
      "BDAAcademic license - for non-commercial use only - expires 2022-08-18\n",
      "BDAAcademic license - for non-commercial use only - expires 2022-08-18\n",
      "BDAAcademic license - for non-commercial use only - expires 2022-08-18\n",
      "BDAAcademic license - for non-commercial use only - expires 2022-08-18\n",
      "BDAAcademic license - for non-commercial use only - expires 2022-08-18\n",
      "BDAAcademic license - for non-commercial use only - expires 2022-08-18\n",
      "BDAAcademic license - for non-commercial use only - expires 2022-08-18\n",
      "BDAAcademic license - for non-commercial use only - expires 2022-08-18\n",
      "BDAAcademic license - for non-commercial use only - expires 2022-08-18\n",
      "BDAAcademic license - for non-commercial use only - expires 2022-08-18\n",
      "BDAAcademic license - for non-commercial use only - expires 2022-08-18\n",
      "BDAAcademic license - for non-commercial use only - expires 2022-08-18\n",
      "BDAAcademic license - for non-commercial use only - expires 2022-08-18\n",
      "BDAAcademic license - for non-commercial use only - expires 2022-08-18\n",
      "BDAAcademic license - for non-commercial use only - expires 2022-08-18\n",
      "BDAAcademic license - for non-commercial use only - expires 2022-08-18\n",
      "BDAAcademic license - for non-commercial use only - expires 2022-08-18\n",
      "BDAAcademic license - for non-commercial use only - expires 2022-08-18\n",
      "BDAAcademic license - for non-commercial use only - expires 2022-08-18\n",
      "BDAAcademic license - for non-commercial use only - expires 2022-08-18\n",
      "BDAAcademic license - for non-commercial use only - expires 2022-08-18\n",
      "BDAAcademic license - for non-commercial use only - expires 2022-08-18\n",
      "BDAAcademic license - for non-commercial use only - expires 2022-08-18\n",
      "BDAAcademic license - for non-commercial use only - expires 2022-08-18\n",
      "BDAAcademic license - for non-commercial use only - expires 2022-08-18\n",
      "BDAAcademic license - for non-commercial use only - expires 2022-08-18\n",
      "BDAAcademic license - for non-commercial use only - expires 2022-08-18\n"
     ]
    },
    {
     "name": "stdout",
     "output_type": "stream",
     "text": [
      "BDAAcademic license - for non-commercial use only - expires 2022-08-18\n",
      "BDAAcademic license - for non-commercial use only - expires 2022-08-18\n",
      "BDAAcademic license - for non-commercial use only - expires 2022-08-18\n",
      "BDAAcademic license - for non-commercial use only - expires 2022-08-18\n",
      "BDAAcademic license - for non-commercial use only - expires 2022-08-18\n",
      "BDAAcademic license - for non-commercial use only - expires 2022-08-18\n",
      "BDAAcademic license - for non-commercial use only - expires 2022-08-18\n",
      "BDAAcademic license - for non-commercial use only - expires 2022-08-18\n",
      "BDAAcademic license - for non-commercial use only - expires 2022-08-18\n",
      "BDAAcademic license - for non-commercial use only - expires 2022-08-18\n",
      "BDAAcademic license - for non-commercial use only - expires 2022-08-18\n",
      "BDAAcademic license - for non-commercial use only - expires 2022-08-18\n",
      "BDAAcademic license - for non-commercial use only - expires 2022-08-18\n",
      "BDAAcademic license - for non-commercial use only - expires 2022-08-18\n",
      "BDAAcademic license - for non-commercial use only - expires 2022-08-18\n",
      "BDAAcademic license - for non-commercial use only - expires 2022-08-18\n",
      "BDAAcademic license - for non-commercial use only - expires 2022-08-18\n",
      "BDAAcademic license - for non-commercial use only - expires 2022-08-18\n",
      "BDAAcademic license - for non-commercial use only - expires 2022-08-18\n",
      "BDAAcademic license - for non-commercial use only - expires 2022-08-18\n",
      "BDAAcademic license - for non-commercial use only - expires 2022-08-18\n",
      "BDAAcademic license - for non-commercial use only - expires 2022-08-18\n",
      "BDAAcademic license - for non-commercial use only - expires 2022-08-18\n",
      "BDAAcademic license - for non-commercial use only - expires 2022-08-18\n",
      "BDAAcademic license - for non-commercial use only - expires 2022-08-18\n",
      "BDAAcademic license - for non-commercial use only - expires 2022-08-18\n",
      "BDAAcademic license - for non-commercial use only - expires 2022-08-18\n",
      "BDAAcademic license - for non-commercial use only - expires 2022-08-18\n",
      "BDAAcademic license - for non-commercial use only - expires 2022-08-18\n",
      "BDAAcademic license - for non-commercial use only - expires 2022-08-18\n",
      "BDAAcademic license - for non-commercial use only - expires 2022-08-18\n",
      "BDAAcademic license - for non-commercial use only - expires 2022-08-18\n",
      "BDAAcademic license - for non-commercial use only - expires 2022-08-18\n",
      "BDAAcademic license - for non-commercial use only - expires 2022-08-18\n",
      "BDAAcademic license - for non-commercial use only - expires 2022-08-18\n",
      "BDAAcademic license - for non-commercial use only - expires 2022-08-18\n",
      "BDAAcademic license - for non-commercial use only - expires 2022-08-18\n",
      "BDAAcademic license - for non-commercial use only - expires 2022-08-18\n",
      "BDAAcademic license - for non-commercial use only - expires 2022-08-18\n",
      "BDAAcademic license - for non-commercial use only - expires 2022-08-18\n",
      "BDAAcademic license - for non-commercial use only - expires 2022-08-18\n",
      "BDAAcademic license - for non-commercial use only - expires 2022-08-18\n",
      "BDAAcademic license - for non-commercial use only - expires 2022-08-18\n",
      "BDAAcademic license - for non-commercial use only - expires 2022-08-18\n",
      "BDAAcademic license - for non-commercial use only - expires 2022-08-18\n",
      "BDAAcademic license - for non-commercial use only - expires 2022-08-18\n",
      "BDAAcademic license - for non-commercial use only - expires 2022-08-18\n",
      "BDAAcademic license - for non-commercial use only - expires 2022-08-18\n",
      "BDAAcademic license - for non-commercial use only - expires 2022-08-18\n",
      "BDAAcademic license - for non-commercial use only - expires 2022-08-18\n",
      "BDAAcademic license - for non-commercial use only - expires 2022-08-18\n",
      "BDAAcademic license - for non-commercial use only - expires 2022-08-18\n",
      "BDAAcademic license - for non-commercial use only - expires 2022-08-18\n",
      "BDAAcademic license - for non-commercial use only - expires 2022-08-18\n",
      "BDAAcademic license - for non-commercial use only - expires 2022-08-18\n",
      "BDAAcademic license - for non-commercial use only - expires 2022-08-18\n",
      "BDAAcademic license - for non-commercial use only - expires 2022-08-18\n",
      "BDAAcademic license - for non-commercial use only - expires 2022-08-18\n",
      "BDAAcademic license - for non-commercial use only - expires 2022-08-18\n",
      "BDAAcademic license - for non-commercial use only - expires 2022-08-18\n",
      "BDAAcademic license - for non-commercial use only - expires 2022-08-18\n",
      "BDAAcademic license - for non-commercial use only - expires 2022-08-18\n",
      "BDAAcademic license - for non-commercial use only - expires 2022-08-18\n",
      "BDAAcademic license - for non-commercial use only - expires 2022-08-18\n",
      "BDAAcademic license - for non-commercial use only - expires 2022-08-18\n",
      "BDAAcademic license - for non-commercial use only - expires 2022-08-18\n",
      "BDAAcademic license - for non-commercial use only - expires 2022-08-18\n",
      "BDAAcademic license - for non-commercial use only - expires 2022-08-18\n",
      "BDAAcademic license - for non-commercial use only - expires 2022-08-18\n",
      "BDAAcademic license - for non-commercial use only - expires 2022-08-18\n",
      "BDAAcademic license - for non-commercial use only - expires 2022-08-18\n",
      "BDAAcademic license - for non-commercial use only - expires 2022-08-18\n",
      "BDAAcademic license - for non-commercial use only - expires 2022-08-18\n",
      "BDAAcademic license - for non-commercial use only - expires 2022-08-18\n",
      "BDAAcademic license - for non-commercial use only - expires 2022-08-18\n",
      "BDAAcademic license - for non-commercial use only - expires 2022-08-18\n",
      "BDAAcademic license - for non-commercial use only - expires 2022-08-18\n",
      "BDAAcademic license - for non-commercial use only - expires 2022-08-18\n",
      "BDAAcademic license - for non-commercial use only - expires 2022-08-18\n",
      "BDAAcademic license - for non-commercial use only - expires 2022-08-18\n",
      "BDAAcademic license - for non-commercial use only - expires 2022-08-18\n",
      "BDAAcademic license - for non-commercial use only - expires 2022-08-18\n",
      "BDAAcademic license - for non-commercial use only - expires 2022-08-18\n",
      "BDAAcademic license - for non-commercial use only - expires 2022-08-18\n",
      "BDAAcademic license - for non-commercial use only - expires 2022-08-18\n",
      "BDAAcademic license - for non-commercial use only - expires 2022-08-18\n",
      "BDAAcademic license - for non-commercial use only - expires 2022-08-18\n",
      "BDAAcademic license - for non-commercial use only - expires 2022-08-18\n",
      "BDAAcademic license - for non-commercial use only - expires 2022-08-18\n",
      "BDAAcademic license - for non-commercial use only - expires 2022-08-18\n",
      "BDAAcademic license - for non-commercial use only - expires 2022-08-18\n",
      "BDAAcademic license - for non-commercial use only - expires 2022-08-18\n",
      "BDAAcademic license - for non-commercial use only - expires 2022-08-18\n",
      "BDAAcademic license - for non-commercial use only - expires 2022-08-18\n",
      "B"
     ]
    }
   ],
   "source": [
    "gamma = collect(0:.01:.2)\n",
    "\n",
    "avg_mse_gamma = []\n",
    "for g in gamma  \n",
    "    mse_gamma_fold = []\n",
    "    for f in 1:10\n",
    "        beta0, betas, z, trainvalx, trainvaly, mse = cross_val(g, f, 100);\n",
    "        push!(mse_gamma_fold, mse)\n",
    "    end\n",
    "    push!(avg_mse_gamma, mean(mse_gamma_fold))\n",
    "end\n",
    "        "
   ]
  },
  {
   "cell_type": "markdown",
   "id": "71ca7dbb",
   "metadata": {},
   "source": [
    "## Get the best gamma (0.08)"
   ]
  },
  {
   "cell_type": "code",
   "execution_count": 31,
   "id": "a556a755",
   "metadata": {},
   "outputs": [
    {
     "data": {
      "text/plain": [
       "0.08"
      ]
     },
     "execution_count": 31,
     "metadata": {},
     "output_type": "execute_result"
    }
   ],
   "source": [
    "best_gamma_idx = argmin(avg_mse_gamma)\n",
    "best_gamma = gamma[best_gamma_idx]\n",
    "\n",
    "#best gamma is 0.08"
   ]
  },
  {
   "cell_type": "markdown",
   "id": "c099f36b",
   "metadata": {},
   "source": [
    "## Get the betas for the best gamma"
   ]
  },
  {
   "cell_type": "code",
   "execution_count": 10,
   "id": "b6781dd6",
   "metadata": {},
   "outputs": [
    {
     "name": "stdout",
     "output_type": "stream",
     "text": [
      "Academic license - for non-commercial use only - expires 2022-08-18\n"
     ]
    }
   ],
   "source": [
    "obj, beta0, betas, z = holistic(exttrainxmat, trainyarr, 0.08, 10, M)\n",
    ";"
   ]
  },
  {
   "cell_type": "markdown",
   "id": "74d0a7c5",
   "metadata": {},
   "source": [
    "## Read in the actual validation set (from stable regression/see notebook)"
   ]
  },
  {
   "cell_type": "code",
   "execution_count": 11,
   "id": "749d0daf",
   "metadata": {},
   "outputs": [],
   "source": [
    "x_val = CSV.read(\"Data/x_valid_set_optimpute.csv\", DataFrame)\n",
    "x_val = Matrix(x_val)\n",
    "x_val_first_four = x_val[:,1:4]\n",
    "x_val_others = x_val[:,5:size(x_val)[2]]\n",
    "\n",
    "\n",
    "first_four_transformed = creatematrices(x_val_first_four,  10e-6) #removed tesstxmat\n",
    "x_val_final=hcat(first_four_transformed, x_val_others)\n",
    "\n",
    "\n",
    "\n",
    "\n",
    "y_val = CSV.read(\"Data/y_valid_set_optimpute.csv\", DataFrame,header=0);"
   ]
  },
  {
   "cell_type": "markdown",
   "id": "ff8beba5",
   "metadata": {},
   "source": [
    "## Get the predictions on the actual validation set"
   ]
  },
  {
   "cell_type": "code",
   "execution_count": 12,
   "id": "f44ab3f4",
   "metadata": {},
   "outputs": [],
   "source": [
    "#predictions = trainvalx * betas .+ beta0\n",
    "predictions = Matrix(x_val_final) * betas  .+ beta0\n",
    ";"
   ]
  },
  {
   "cell_type": "code",
   "execution_count": 13,
   "id": "357a7da1",
   "metadata": {},
   "outputs": [
    {
     "data": {
      "text/plain": [
       "10-element Vector{Int64}:\n",
       "  2\n",
       "  5\n",
       "  9\n",
       " 14\n",
       " 34\n",
       " 36\n",
       " 37\n",
       " 38\n",
       " 42\n",
       " 44"
      ]
     },
     "execution_count": 13,
     "metadata": {},
     "output_type": "execute_result"
    }
   ],
   "source": [
    "nonzerob = findall(x->x==1,z)\n",
    "betas[nonzerob]\n",
    "nonzerob"
   ]
  },
  {
   "cell_type": "code",
   "execution_count": 14,
   "id": "6326b485",
   "metadata": {},
   "outputs": [
    {
     "data": {
      "text/plain": [
       "compute_MSE (generic function with 1 method)"
      ]
     },
     "execution_count": 14,
     "metadata": {},
     "output_type": "execute_result"
    }
   ],
   "source": [
    "function compute_r2(predictions, actual, mean_train)\n",
    "    \n",
    "    SSres = sum(Matrix((actual .- predictions).^2))\n",
    "    SStot = sum(Matrix((actual .- mean_train).^2))\n",
    "    1-SSres/SStot\n",
    "\n",
    "    return 1-SSres/SStot\n",
    "end\n",
    "\n",
    "function compute_MSE(predictions, actual)\n",
    "    sum_squared_error = sum(Matrix((predictions .- actual).^2))\n",
    "    MSE = sum_squared_error/size(actual)[1]\n",
    "    \n",
    "    return(MSE)\n",
    "    \n",
    "end"
   ]
  },
  {
   "cell_type": "markdown",
   "id": "e3abd109",
   "metadata": {},
   "source": [
    "## Get r squared"
   ]
  },
  {
   "cell_type": "code",
   "execution_count": 15,
   "id": "940fde6a",
   "metadata": {},
   "outputs": [
    {
     "data": {
      "text/plain": [
       "0.617076973174755"
      ]
     },
     "execution_count": 15,
     "metadata": {},
     "output_type": "execute_result"
    }
   ],
   "source": [
    "compute_r2(predictions, y_val, mean(trainyarr))"
   ]
  },
  {
   "cell_type": "markdown",
   "id": "5dedc3ca",
   "metadata": {},
   "source": [
    "# Get MSE"
   ]
  },
  {
   "cell_type": "code",
   "execution_count": 16,
   "id": "99354797",
   "metadata": {},
   "outputs": [
    {
     "data": {
      "text/plain": [
       "689016.2993123356"
      ]
     },
     "execution_count": 16,
     "metadata": {},
     "output_type": "execute_result"
    }
   ],
   "source": [
    "compute_MSE(predictions, y_val)"
   ]
  },
  {
   "cell_type": "code",
   "execution_count": 17,
   "id": "3196720b",
   "metadata": {},
   "outputs": [
    {
     "data": {
      "text/plain": [
       "(8523, 55)"
      ]
     },
     "execution_count": 17,
     "metadata": {},
     "output_type": "execute_result"
    }
   ],
   "source": [
    "full_x = vcat(Matrix(exttrainxmat), Matrix(x_val_final))\n",
    "#CURRENTLY ONLY TRAIN +VALIDATION GOT TO ADD IN THE TEST SET. \n",
    "size(full_x)\n",
    "#column 17 is outlet 13"
   ]
  },
  {
   "cell_type": "markdown",
   "id": "4ee6b080",
   "metadata": {},
   "source": [
    "### Get Store 13"
   ]
  },
  {
   "cell_type": "code",
   "execution_count": 18,
   "id": "46bcd19a",
   "metadata": {},
   "outputs": [
    {
     "data": {
      "text/plain": [
       "\"Data/store_13_impute.csv\""
      ]
     },
     "execution_count": 18,
     "metadata": {},
     "output_type": "execute_result"
    }
   ],
   "source": [
    "store_13idx = findall(x->x== 1, full_x[:,17])\n",
    "store_mat = full_x[store_13idx,:]\n",
    "MRP = store_mat[:,9]\n",
    "\n",
    "CSV.write(\"Store/store_13_impute.csv\", Tables.table(store_mat))"
   ]
  },
  {
   "cell_type": "code",
   "execution_count": 19,
   "id": "c9c148ef",
   "metadata": {},
   "outputs": [
    {
     "data": {
      "text/plain": [
       "\"Data/betas.csv\""
      ]
     },
     "execution_count": 19,
     "metadata": {},
     "output_type": "execute_result"
    }
   ],
   "source": [
    "all_betas = vcat(beta0, betas)\n",
    "all_betas = Tables.table(reshape(all_betas, length(all_betas), 1))\n",
    "CSV.write(\"Data/betas.csv\", all_betas, writeheader= false)"
   ]
  },
  {
   "cell_type": "code",
   "execution_count": null,
   "id": "cd6d3671",
   "metadata": {},
   "outputs": [],
   "source": []
  }
 ],
 "metadata": {
  "kernelspec": {
   "display_name": "Julia 1.6.2",
   "language": "julia",
   "name": "julia-1.6"
  },
  "language_info": {
   "file_extension": ".jl",
   "mimetype": "application/julia",
   "name": "julia",
   "version": "1.6.2"
  }
 },
 "nbformat": 4,
 "nbformat_minor": 5
}
