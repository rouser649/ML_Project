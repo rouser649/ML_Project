{
 "cells": [
  {
   "cell_type": "markdown",
   "id": "21a4fbae",
   "metadata": {},
   "source": [
    "## Import Packages"
   ]
  },
  {
   "cell_type": "code",
   "execution_count": 2,
   "id": "7514299a",
   "metadata": {},
   "outputs": [],
   "source": [
    "using Gurobi, CSV, DataFrames, JuMP, LinearAlgebra, Distributions, Random, GLMNet"
   ]
  },
  {
   "cell_type": "markdown",
   "id": "7b86a168",
   "metadata": {},
   "source": [
    "## Read in Data \n",
    "\n",
    "### training and validation set created from stable regression (see notebook)"
   ]
  },
  {
   "cell_type": "code",
   "execution_count": 3,
   "id": "e3718a82",
   "metadata": {},
   "outputs": [],
   "source": [
    "trainx = CSV.read(\"Data/x_training_stable_optimpute.csv\",DataFrame)\n",
    "trainy = CSV.read(\"Data/y_training_stable_optimpute.csv\",DataFrame,header=0);\n",
    "#testx = CSV.read(\"airfoil_X_test.csv\",DataFrame)\n",
    "#testy = CSV.read(\"airfoil_Y_test.csv\",DataFrame)"
   ]
  },
  {
   "cell_type": "markdown",
   "id": "82cc5372",
   "metadata": {},
   "source": [
    "### Convert data to matrix and vector form "
   ]
  },
  {
   "cell_type": "code",
   "execution_count": 4,
   "id": "71913438",
   "metadata": {},
   "outputs": [],
   "source": [
    "trainxmat = Matrix(trainx)\n",
    "trainyarr = Vector(trainy[:,1]);"
   ]
  },
  {
   "cell_type": "code",
   "execution_count": 5,
   "id": "882dc196",
   "metadata": {},
   "outputs": [],
   "source": [
    "trainxmat_modified=trainxmat[:,1:4]\n",
    "trainxmat_others=trainxmat[:,5:size(trainxmat)[2]]\n",
    ";\n"
   ]
  },
  {
   "cell_type": "markdown",
   "id": "a2f75bf3",
   "metadata": {},
   "source": [
    "## Holistic Regression"
   ]
  },
  {
   "cell_type": "code",
   "execution_count": 6,
   "id": "f8beddcf",
   "metadata": {},
   "outputs": [
    {
     "data": {
      "text/plain": [
       "holistic (generic function with 1 method)"
      ]
     },
     "execution_count": 6,
     "metadata": {},
     "output_type": "execute_result"
    }
   ],
   "source": [
    "function holistic(x, y, weirdr, M)\n",
    "    \n",
    "    n, p = size(x)\n",
    "\n",
    "    m = Model(Gurobi.Optimizer)\n",
    "    \n",
    "    set_optimizer_attribute(m, \"OutputFlag\", 0) \n",
    "    \n",
    "    @variable(m, beta[1:p])\n",
    "    @variable(m, beta0)\n",
    "    @variable(m, z[1:p], Bin)\n",
    "    @variable(m, q[1:p] >= 0)\n",
    "    @variable(m, t[1:n] >= 0)\n",
    "    \n",
    "    @constraint(m, sum(z) <= 10)\n",
    "    pby4 = trunc(Int, 4) ##CHECK IF NOT WORKS +++++++++++++++++++++++++++++++++++++++ 4 or 1\n",
    "    @constraint(m, [i=1:pby4], sum(z[(i-1)*4+j] for j=1:4) == 1)\n",
    "    @constraint(m, z[5] == 1) #ensure visibility feature chosen\n",
    "    \n",
    "    @constraint(m, [i=1:p], -M*z[i] <= beta[i])\n",
    "    @constraint(m, [i=1:p], beta[i] <= M*z[i])\n",
    "    @constraint(m, [i=1:p], beta[i] <= q[i])\n",
    "    @constraint(m, [i=1:p], -beta[i] <= q[i])\n",
    "\n",
    "    for i=2:p\n",
    "        for j=1:(i-1)\n",
    "            if (cor(x[:,i],x[:,j]) > 0.7)\n",
    "                @constraint(m, z[i]+z[j] <= 1)\n",
    "            end\n",
    "        end\n",
    "    end\n",
    "    \n",
    "    @constraint(m, [i=1:n], (y[i] - sum(x[i,j]*beta[j] for j=1:p) - beta0) <= t[i])\n",
    "    @constraint(m, [i=1:n], -(y[i] - sum(x[i,j]*beta[j] for j=1:p) - beta0) <= t[i])\n",
    "    \n",
    "    @objective(m, Min, 0.5 * sum(t[i]^2 for i=1:n) + weirdr * sum(q[j] for j=1:p))\n",
    "    optimize!(m)\n",
    "        \n",
    "    obj = JuMP.objective_value(m)\n",
    "    beta0 = JuMP.value(beta0)\n",
    "    betas = JuMP.value.(beta)\n",
    "    z = JuMP.value.(z)\n",
    "        \n",
    "    return obj, beta0, betas, z\n",
    "end"
   ]
  },
  {
   "cell_type": "markdown",
   "id": "4274fb1b",
   "metadata": {},
   "source": [
    "## Adding trasnformations of our 3 numeric columns"
   ]
  },
  {
   "cell_type": "code",
   "execution_count": 7,
   "id": "78df9cab",
   "metadata": {},
   "outputs": [
    {
     "data": {
      "text/plain": [
       "creatematrices (generic function with 1 method)"
      ]
     },
     "execution_count": 7,
     "metadata": {},
     "output_type": "execute_result"
    }
   ],
   "source": [
    "#add origional variables back in that were not transformed\n",
    "#trainxmat=orig 4 columns\n",
    "\n",
    "function creatematrices(trainxmat,  eps)\n",
    "    ntrain, ptrain = size(trainxmat)\n",
    "    #ntest, ptest = size(testxmat)\n",
    "\n",
    "    modtrainxmat = zeros(ntrain, 4*ptrain)\n",
    "    #modtestxmat = zeros(ntest, 4*ptest)\n",
    "\n",
    "    for i = 1:(4)\n",
    "        modtrainxmat[:,4*(i-1)+1] = trainxmat[:,i]\n",
    "        modtrainxmat[:,4*(i-1)+2] = trainxmat[:,i].^2\n",
    "        modtrainxmat[:,4*(i-1)+3] = sqrt.(abs.(trainxmat[:,i]))\n",
    "        modtrainxmat[:,4*(i-1)+4] = log.(abs.(trainxmat[:,i]) .+ eps)\n",
    "\n",
    "#         modtestxmat[:,4*(i-1)+1] = testxmat[:,i]\n",
    "#         modtestxmat[:,4*(i-1)+2] = testxmat[:,i].^2\n",
    "#         modtestxmat[:,4*(i-1)+3] = sqrt.(abs.(testxmat[:,i]))\n",
    "#         modtestxmat[:,4*(i-1)+4] = log.(abs.(testxmat[:,i]) .+ eps)\n",
    "        end\n",
    "\n",
    "    return modtrainxmat #, modtestxmat\n",
    "end"
   ]
  },
  {
   "cell_type": "code",
   "execution_count": 8,
   "id": "3139b648",
   "metadata": {},
   "outputs": [],
   "source": [
    "using Gurobi, CSV, DataFrames, JuMP, LinearAlgebra, Distributions, Random, GLMNet"
   ]
  },
  {
   "cell_type": "markdown",
   "id": "d8e8934b",
   "metadata": {},
   "source": [
    "### Getting the full data (post fransformation)\n",
    "\n"
   ]
  },
  {
   "cell_type": "code",
   "execution_count": 10,
   "id": "8d5d8cae",
   "metadata": {},
   "outputs": [
    {
     "data": {
      "text/plain": [
       "4474×55 Matrix{Float64}:\n",
       " 20.7     428.49    4.54973  3.03013  …  0.0  3.95388   1921.86   17.7339\n",
       "  7.97     63.5209  2.82312  2.07569     0.0  0.459607  1371.97    9.92695\n",
       " 18.25    333.062   4.272    2.90417     0.0  0.807568  3188.42    7.73088\n",
       " 11.8     139.24    3.43511  2.4681      0.0  2.00767   1378.04   19.8697\n",
       " 19.2     368.64    4.38178  2.95491     0.0  3.50695   4665.98   44.3884\n",
       " 20.25    410.062   4.5      3.00816  …  0.0  0.299316  3924.78    2.86481\n",
       " 18.2     331.24    4.26615  2.90142     1.0  2.96835    782.757   7.01454\n",
       " 19.2     368.64    4.38178  2.95491     0.0  1.63359   2947.8    13.0629\n",
       " 17.25    297.562   4.15331  2.84781     0.0  0.815342  1673.37    4.58514\n",
       "  7.67     58.8289  2.76948  2.03732     0.0  2.37302    254.81   10.2784\n",
       "  9.0      81.0     3.0      2.19723  …  0.0  0.623062   503.653   3.87416\n",
       " 18.35    336.723   4.28369  2.90963     1.0  0.56072   3497.81    5.82464\n",
       "  7.75     60.0625  2.78388  2.04769     0.0  0.645331   255.407   2.74418\n",
       "  ⋮                                   ⋱                           \n",
       " 12.9569  167.881   3.59957  2.56163     0.0  0.575869  3178.07   10.9015\n",
       " 11.9642  143.143   3.45894  2.48192     0.0  0.413775  2971.62    8.58989\n",
       " 16.75    280.562   4.09268  2.8184      0.0  1.36488   4323.15   21.0312\n",
       " 12.9187  166.893   3.59426  2.55868  …  0.0  0.396518  2945.92    6.99915\n",
       "  5.695    32.433   2.38642  1.73959     0.0  0.375647  1476.51   17.1013\n",
       " 13.1205  172.148   3.62223  2.57418     0.0  2.29797   2917.71   38.9479\n",
       " 12.6     158.76    3.54965  2.5337      0.0  0.936666  3219.75   18.9961\n",
       "  6.825    46.5806  2.61247  1.92059     1.0  0.408456  1791.72   15.7112\n",
       " 12.2     148.841   3.49286  2.50144  …  0.0  1.08385   3102.07   22.5891\n",
       " 13.12    172.134   3.62215  2.57414     0.0  0.847958  3319.82   16.354\n",
       " 12.5749  158.127   3.5461   2.5317      0.0  0.179765  3051.3     3.46884\n",
       " 12.9567  167.875   3.59953  2.56161     0.0  0.136705  3044.76    2.47943"
      ]
     },
     "execution_count": 10,
     "metadata": {},
     "output_type": "execute_result"
    }
   ],
   "source": [
    "first_four_transformed = creatematrices(trainxmat_modified,  10e-6) #removed tesstxmat\n",
    "exttrainxmat=hcat(first_four_transformed, trainxmat_others)\n",
    "#\n",
    ";\n"
   ]
  },
  {
   "cell_type": "markdown",
   "id": "27c9027d",
   "metadata": {},
   "source": [
    "## Cross validation function"
   ]
  },
  {
   "cell_type": "code",
   "execution_count": 11,
   "id": "2e5bf70d",
   "metadata": {},
   "outputs": [
    {
     "data": {
      "text/plain": [
       "cross_val (generic function with 1 method)"
      ]
     },
     "execution_count": 11,
     "metadata": {},
     "output_type": "execute_result"
    }
   ],
   "source": [
    "M=100\n",
    "r=0.1#\n",
    "\n",
    "n, p = size(exttrainxmat)\n",
    "numfolds = 10\n",
    "foldsamps = sample(1:numfolds, n, replace = true)\n",
    "\n",
    "function cross_val(rho, fold,M)\n",
    "   # first_four_transformed = creatematrices(trainxmat_modified,  10e-6) #removed tesstxmat\n",
    "   # exttrainxmat=hcat(first_four_transformed, trainxmat_others)\n",
    "\n",
    "\n",
    "   \n",
    "\n",
    "\n",
    "    traintrainx = exttrainxmat[[x for x in 1:n if foldsamps[x] != fold],:]\n",
    "    trainvalx = exttrainxmat[[x for x in 1:n if foldsamps[x] == fold],:]\n",
    "    traintrainy = trainyarr[[x for x in 1:n if foldsamps[x] != fold],:]\n",
    "    trainvaly = trainyarr[[x for x in 1:n if foldsamps[x] == fold],:]\n",
    "    print(\"D\")\n",
    "\n",
    "\n",
    "    print(\"A\")\n",
    "    obj, beta0, betas, z = holistic(traintrainx, traintrainy, rho, M)\n",
    "    print(\"B\")\n",
    "    predictions = Matrix(trainvalx) * betas .+ beta0\n",
    "    mse = mean((predictions .- trainvaly).^2)\n",
    "    #savemses[j] = savemses[j] + mse\n",
    "    \n",
    "    return(beta0, betas, z, trainvalx, trainvaly, mse)\n",
    "end"
   ]
  },
  {
   "cell_type": "markdown",
   "id": "56c473c4",
   "metadata": {},
   "source": [
    "### Doing 10 fold  Cross validation to find the best gamma"
   ]
  },
  {
   "cell_type": "code",
   "execution_count": 26,
   "id": "a3e05105",
   "metadata": {},
   "outputs": [
    {
     "name": "stdout",
     "output_type": "stream",
     "text": [
      "DAAcademic license - for non-commercial use only - expires 2022-08-18\n",
      "BDAAcademic license - for non-commercial use only - expires 2022-08-18\n",
      "BDAAcademic license - for non-commercial use only - expires 2022-08-18\n",
      "BDAAcademic license - for non-commercial use only - expires 2022-08-18\n",
      "BDAAcademic license - for non-commercial use only - expires 2022-08-18\n",
      "BDAAcademic license - for non-commercial use only - expires 2022-08-18\n",
      "BDAAcademic license - for non-commercial use only - expires 2022-08-18\n",
      "BDAAcademic license - for non-commercial use only - expires 2022-08-18\n",
      "BDAAcademic license - for non-commercial use only - expires 2022-08-18\n",
      "BDAAcademic license - for non-commercial use only - expires 2022-08-18\n",
      "BDAAcademic license - for non-commercial use only - expires 2022-08-18\n",
      "BDAAcademic license - for non-commercial use only - expires 2022-08-18\n",
      "BDAAcademic license - for non-commercial use only - expires 2022-08-18\n",
      "BDAAcademic license - for non-commercial use only - expires 2022-08-18\n",
      "BDAAcademic license - for non-commercial use only - expires 2022-08-18\n",
      "BDAAcademic license - for non-commercial use only - expires 2022-08-18\n",
      "BDAAcademic license - for non-commercial use only - expires 2022-08-18\n",
      "BDAAcademic license - for non-commercial use only - expires 2022-08-18\n",
      "BDAAcademic license - for non-commercial use only - expires 2022-08-18\n",
      "BDAAcademic license - for non-commercial use only - expires 2022-08-18\n",
      "BDAAcademic license - for non-commercial use only - expires 2022-08-18\n",
      "BDAAcademic license - for non-commercial use only - expires 2022-08-18\n",
      "BDAAcademic license - for non-commercial use only - expires 2022-08-18\n",
      "BDAAcademic license - for non-commercial use only - expires 2022-08-18\n",
      "BDAAcademic license - for non-commercial use only - expires 2022-08-18\n",
      "BDAAcademic license - for non-commercial use only - expires 2022-08-18\n",
      "BDAAcademic license - for non-commercial use only - expires 2022-08-18\n",
      "BDAAcademic license - for non-commercial use only - expires 2022-08-18\n",
      "BDAAcademic license - for non-commercial use only - expires 2022-08-18\n",
      "BDAAcademic license - for non-commercial use only - expires 2022-08-18\n",
      "BDAAcademic license - for non-commercial use only - expires 2022-08-18\n",
      "BDAAcademic license - for non-commercial use only - expires 2022-08-18\n",
      "BDAAcademic license - for non-commercial use only - expires 2022-08-18\n",
      "BDAAcademic license - for non-commercial use only - expires 2022-08-18\n",
      "BDAAcademic license - for non-commercial use only - expires 2022-08-18\n",
      "BDAAcademic license - for non-commercial use only - expires 2022-08-18\n",
      "BDAAcademic license - for non-commercial use only - expires 2022-08-18\n",
      "BDAAcademic license - for non-commercial use only - expires 2022-08-18\n",
      "BDAAcademic license - for non-commercial use only - expires 2022-08-18\n",
      "BDAAcademic license - for non-commercial use only - expires 2022-08-18\n",
      "BDAAcademic license - for non-commercial use only - expires 2022-08-18\n",
      "BDAAcademic license - for non-commercial use only - expires 2022-08-18\n",
      "BDAAcademic license - for non-commercial use only - expires 2022-08-18\n",
      "BDAAcademic license - for non-commercial use only - expires 2022-08-18\n",
      "BDAAcademic license - for non-commercial use only - expires 2022-08-18\n",
      "BDAAcademic license - for non-commercial use only - expires 2022-08-18\n",
      "BDAAcademic license - for non-commercial use only - expires 2022-08-18\n",
      "BDAAcademic license - for non-commercial use only - expires 2022-08-18\n",
      "BDAAcademic license - for non-commercial use only - expires 2022-08-18\n",
      "BDAAcademic license - for non-commercial use only - expires 2022-08-18\n",
      "BDAAcademic license - for non-commercial use only - expires 2022-08-18\n",
      "BDAAcademic license - for non-commercial use only - expires 2022-08-18\n",
      "BDAAcademic license - for non-commercial use only - expires 2022-08-18\n",
      "BDAAcademic license - for non-commercial use only - expires 2022-08-18\n",
      "BDAAcademic license - for non-commercial use only - expires 2022-08-18\n",
      "BDAAcademic license - for non-commercial use only - expires 2022-08-18\n",
      "BDAAcademic license - for non-commercial use only - expires 2022-08-18\n",
      "BDAAcademic license - for non-commercial use only - expires 2022-08-18\n",
      "BDAAcademic license - for non-commercial use only - expires 2022-08-18\n",
      "BDAAcademic license - for non-commercial use only - expires 2022-08-18\n",
      "BDAAcademic license - for non-commercial use only - expires 2022-08-18\n",
      "BDAAcademic license - for non-commercial use only - expires 2022-08-18\n",
      "BDAAcademic license - for non-commercial use only - expires 2022-08-18\n",
      "BDAAcademic license - for non-commercial use only - expires 2022-08-18\n",
      "BDAAcademic license - for non-commercial use only - expires 2022-08-18\n",
      "BDAAcademic license - for non-commercial use only - expires 2022-08-18\n",
      "BDAAcademic license - for non-commercial use only - expires 2022-08-18\n",
      "BDAAcademic license - for non-commercial use only - expires 2022-08-18\n",
      "BDAAcademic license - for non-commercial use only - expires 2022-08-18\n",
      "BDAAcademic license - for non-commercial use only - expires 2022-08-18\n",
      "BDAAcademic license - for non-commercial use only - expires 2022-08-18\n",
      "BDAAcademic license - for non-commercial use only - expires 2022-08-18\n",
      "BDAAcademic license - for non-commercial use only - expires 2022-08-18\n",
      "BDAAcademic license - for non-commercial use only - expires 2022-08-18\n",
      "BDAAcademic license - for non-commercial use only - expires 2022-08-18\n",
      "BDAAcademic license - for non-commercial use only - expires 2022-08-18\n",
      "BDAAcademic license - for non-commercial use only - expires 2022-08-18\n",
      "BDAAcademic license - for non-commercial use only - expires 2022-08-18\n",
      "BDAAcademic license - for non-commercial use only - expires 2022-08-18\n",
      "BDAAcademic license - for non-commercial use only - expires 2022-08-18\n",
      "BDAAcademic license - for non-commercial use only - expires 2022-08-18\n",
      "BDAAcademic license - for non-commercial use only - expires 2022-08-18\n",
      "BDAAcademic license - for non-commercial use only - expires 2022-08-18\n",
      "BDAAcademic license - for non-commercial use only - expires 2022-08-18\n",
      "BDAAcademic license - for non-commercial use only - expires 2022-08-18\n",
      "BDAAcademic license - for non-commercial use only - expires 2022-08-18\n",
      "BDAAcademic license - for non-commercial use only - expires 2022-08-18\n",
      "BDAAcademic license - for non-commercial use only - expires 2022-08-18\n",
      "BDAAcademic license - for non-commercial use only - expires 2022-08-18\n",
      "BDAAcademic license - for non-commercial use only - expires 2022-08-18\n",
      "BDAAcademic license - for non-commercial use only - expires 2022-08-18\n",
      "BDAAcademic license - for non-commercial use only - expires 2022-08-18\n",
      "BDAAcademic license - for non-commercial use only - expires 2022-08-18\n",
      "BDAAcademic license - for non-commercial use only - expires 2022-08-18\n",
      "BDAAcademic license - for non-commercial use only - expires 2022-08-18\n",
      "BDAAcademic license - for non-commercial use only - expires 2022-08-18\n",
      "BDAAcademic license - for non-commercial use only - expires 2022-08-18\n",
      "BDAAcademic license - for non-commercial use only - expires 2022-08-18\n",
      "BDAAcademic license - for non-commercial use only - expires 2022-08-18\n",
      "BDAAcademic license - for non-commercial use only - expires 2022-08-18\n",
      "BDAAcademic license - for non-commercial use only - expires 2022-08-18\n",
      "BDAAcademic license - for non-commercial use only - expires 2022-08-18\n",
      "BDAAcademic license - for non-commercial use only - expires 2022-08-18\n",
      "BDAAcademic license - for non-commercial use only - expires 2022-08-18\n",
      "BDAAcademic license - for non-commercial use only - expires 2022-08-18\n",
      "BDAAcademic license - for non-commercial use only - expires 2022-08-18\n",
      "BDAAcademic license - for non-commercial use only - expires 2022-08-18\n",
      "BDAAcademic license - for non-commercial use only - expires 2022-08-18\n",
      "BDAAcademic license - for non-commercial use only - expires 2022-08-18\n",
      "BDAAcademic license - for non-commercial use only - expires 2022-08-18\n",
      "BDAAcademic license - for non-commercial use only - expires 2022-08-18\n",
      "BDAAcademic license - for non-commercial use only - expires 2022-08-18\n",
      "BDAAcademic license - for non-commercial use only - expires 2022-08-18\n",
      "BDAAcademic license - for non-commercial use only - expires 2022-08-18\n",
      "BDAAcademic license - for non-commercial use only - expires 2022-08-18\n",
      "BDAAcademic license - for non-commercial use only - expires 2022-08-18\n"
     ]
    },
    {
     "name": "stdout",
     "output_type": "stream",
     "text": [
      "BDAAcademic license - for non-commercial use only - expires 2022-08-18\n",
      "BDAAcademic license - for non-commercial use only - expires 2022-08-18\n",
      "BDAAcademic license - for non-commercial use only - expires 2022-08-18\n",
      "BDAAcademic license - for non-commercial use only - expires 2022-08-18\n",
      "BDAAcademic license - for non-commercial use only - expires 2022-08-18\n",
      "BDAAcademic license - for non-commercial use only - expires 2022-08-18\n",
      "BDAAcademic license - for non-commercial use only - expires 2022-08-18\n",
      "BDAAcademic license - for non-commercial use only - expires 2022-08-18\n",
      "BDAAcademic license - for non-commercial use only - expires 2022-08-18\n",
      "BDAAcademic license - for non-commercial use only - expires 2022-08-18\n",
      "BDAAcademic license - for non-commercial use only - expires 2022-08-18\n",
      "BDAAcademic license - for non-commercial use only - expires 2022-08-18\n",
      "BDAAcademic license - for non-commercial use only - expires 2022-08-18\n",
      "BDAAcademic license - for non-commercial use only - expires 2022-08-18\n",
      "BDAAcademic license - for non-commercial use only - expires 2022-08-18\n",
      "BDAAcademic license - for non-commercial use only - expires 2022-08-18\n",
      "BDAAcademic license - for non-commercial use only - expires 2022-08-18\n",
      "BDAAcademic license - for non-commercial use only - expires 2022-08-18\n",
      "BDAAcademic license - for non-commercial use only - expires 2022-08-18\n",
      "BDAAcademic license - for non-commercial use only - expires 2022-08-18\n",
      "BDAAcademic license - for non-commercial use only - expires 2022-08-18\n",
      "BDAAcademic license - for non-commercial use only - expires 2022-08-18\n",
      "BDAAcademic license - for non-commercial use only - expires 2022-08-18\n",
      "BDAAcademic license - for non-commercial use only - expires 2022-08-18\n",
      "BDAAcademic license - for non-commercial use only - expires 2022-08-18\n",
      "BDAAcademic license - for non-commercial use only - expires 2022-08-18\n",
      "BDAAcademic license - for non-commercial use only - expires 2022-08-18\n",
      "BDAAcademic license - for non-commercial use only - expires 2022-08-18\n",
      "BDAAcademic license - for non-commercial use only - expires 2022-08-18\n",
      "BDAAcademic license - for non-commercial use only - expires 2022-08-18\n",
      "BDAAcademic license - for non-commercial use only - expires 2022-08-18\n",
      "BDAAcademic license - for non-commercial use only - expires 2022-08-18\n",
      "BDAAcademic license - for non-commercial use only - expires 2022-08-18\n",
      "BDAAcademic license - for non-commercial use only - expires 2022-08-18\n",
      "BDAAcademic license - for non-commercial use only - expires 2022-08-18\n",
      "BDAAcademic license - for non-commercial use only - expires 2022-08-18\n",
      "BDAAcademic license - for non-commercial use only - expires 2022-08-18\n",
      "BDAAcademic license - for non-commercial use only - expires 2022-08-18\n",
      "BDAAcademic license - for non-commercial use only - expires 2022-08-18\n",
      "BDAAcademic license - for non-commercial use only - expires 2022-08-18\n",
      "BDAAcademic license - for non-commercial use only - expires 2022-08-18\n",
      "BDAAcademic license - for non-commercial use only - expires 2022-08-18\n",
      "BDAAcademic license - for non-commercial use only - expires 2022-08-18\n",
      "BDAAcademic license - for non-commercial use only - expires 2022-08-18\n",
      "BDAAcademic license - for non-commercial use only - expires 2022-08-18\n",
      "BDAAcademic license - for non-commercial use only - expires 2022-08-18\n",
      "BDAAcademic license - for non-commercial use only - expires 2022-08-18\n",
      "BDAAcademic license - for non-commercial use only - expires 2022-08-18\n",
      "BDAAcademic license - for non-commercial use only - expires 2022-08-18\n",
      "BDAAcademic license - for non-commercial use only - expires 2022-08-18\n",
      "BDAAcademic license - for non-commercial use only - expires 2022-08-18\n",
      "BDAAcademic license - for non-commercial use only - expires 2022-08-18\n",
      "BDAAcademic license - for non-commercial use only - expires 2022-08-18\n",
      "BDAAcademic license - for non-commercial use only - expires 2022-08-18\n",
      "BDAAcademic license - for non-commercial use only - expires 2022-08-18\n",
      "BDAAcademic license - for non-commercial use only - expires 2022-08-18\n",
      "BDAAcademic license - for non-commercial use only - expires 2022-08-18\n",
      "BDAAcademic license - for non-commercial use only - expires 2022-08-18\n",
      "BDAAcademic license - for non-commercial use only - expires 2022-08-18\n",
      "BDAAcademic license - for non-commercial use only - expires 2022-08-18\n",
      "BDAAcademic license - for non-commercial use only - expires 2022-08-18\n",
      "BDAAcademic license - for non-commercial use only - expires 2022-08-18\n",
      "BDAAcademic license - for non-commercial use only - expires 2022-08-18\n",
      "BDAAcademic license - for non-commercial use only - expires 2022-08-18\n",
      "BDAAcademic license - for non-commercial use only - expires 2022-08-18\n",
      "BDAAcademic license - for non-commercial use only - expires 2022-08-18\n",
      "BDAAcademic license - for non-commercial use only - expires 2022-08-18\n",
      "BDAAcademic license - for non-commercial use only - expires 2022-08-18\n",
      "BDAAcademic license - for non-commercial use only - expires 2022-08-18\n",
      "BDAAcademic license - for non-commercial use only - expires 2022-08-18\n",
      "BDAAcademic license - for non-commercial use only - expires 2022-08-18\n",
      "BDAAcademic license - for non-commercial use only - expires 2022-08-18\n",
      "BDAAcademic license - for non-commercial use only - expires 2022-08-18\n",
      "BDAAcademic license - for non-commercial use only - expires 2022-08-18\n",
      "BDAAcademic license - for non-commercial use only - expires 2022-08-18\n",
      "BDAAcademic license - for non-commercial use only - expires 2022-08-18\n",
      "BDAAcademic license - for non-commercial use only - expires 2022-08-18\n",
      "BDAAcademic license - for non-commercial use only - expires 2022-08-18\n",
      "BDAAcademic license - for non-commercial use only - expires 2022-08-18\n",
      "BDAAcademic license - for non-commercial use only - expires 2022-08-18\n",
      "BDAAcademic license - for non-commercial use only - expires 2022-08-18\n",
      "BDAAcademic license - for non-commercial use only - expires 2022-08-18\n",
      "BDAAcademic license - for non-commercial use only - expires 2022-08-18\n",
      "BDAAcademic license - for non-commercial use only - expires 2022-08-18\n",
      "BDAAcademic license - for non-commercial use only - expires 2022-08-18\n",
      "BDAAcademic license - for non-commercial use only - expires 2022-08-18\n",
      "BDAAcademic license - for non-commercial use only - expires 2022-08-18\n",
      "BDAAcademic license - for non-commercial use only - expires 2022-08-18\n",
      "BDAAcademic license - for non-commercial use only - expires 2022-08-18\n",
      "BDAAcademic license - for non-commercial use only - expires 2022-08-18\n",
      "BDAAcademic license - for non-commercial use only - expires 2022-08-18\n",
      "BDAAcademic license - for non-commercial use only - expires 2022-08-18\n",
      "BDAAcademic license - for non-commercial use only - expires 2022-08-18\n",
      "BDAAcademic license - for non-commercial use only - expires 2022-08-18\n",
      "B"
     ]
    }
   ],
   "source": [
    "gamma = collect(0:.01:.2)\n",
    "\n",
    "avg_mse_gamma = []\n",
    "for g in gamma  \n",
    "    mse_gamma_fold = []\n",
    "    for f in 1:10\n",
    "        beta0, betas, z, trainvalx, trainvaly, mse = cross_val(g, f, 100);\n",
    "        push!(mse_gamma_fold, mse)\n",
    "    end\n",
    "    push!(avg_mse_gamma, mean(mse_gamma_fold))\n",
    "end\n",
    "        "
   ]
  },
  {
   "cell_type": "markdown",
   "id": "71ca7dbb",
   "metadata": {},
   "source": [
    "## Get the best gamma (0.08)"
   ]
  },
  {
   "cell_type": "code",
   "execution_count": 31,
   "id": "a556a755",
   "metadata": {},
   "outputs": [
    {
     "data": {
      "text/plain": [
       "0.08"
      ]
     },
     "execution_count": 31,
     "metadata": {},
     "output_type": "execute_result"
    }
   ],
   "source": [
    "best_gamma_idx = argmin(avg_mse_gamma)\n",
    "best_gamma = gamma[best_gamma_idx]\n",
    "\n",
    "#best gamma is 0.08"
   ]
  },
  {
   "cell_type": "markdown",
   "id": "c099f36b",
   "metadata": {},
   "source": [
    "## Get the betas for the best gamma"
   ]
  },
  {
   "cell_type": "code",
   "execution_count": 12,
   "id": "b6781dd6",
   "metadata": {},
   "outputs": [
    {
     "name": "stdout",
     "output_type": "stream",
     "text": [
      "Academic license - for non-commercial use only - expires 2022-08-18\n"
     ]
    }
   ],
   "source": [
    "obj, beta0, betas, z = holistic(exttrainxmat, trainyarr, 0.08, M)\n",
    ";"
   ]
  },
  {
   "cell_type": "markdown",
   "id": "74d0a7c5",
   "metadata": {},
   "source": [
    "## Read in the actual validation set (from stable regression/see notebook)"
   ]
  },
  {
   "cell_type": "code",
   "execution_count": 14,
   "id": "749d0daf",
   "metadata": {},
   "outputs": [],
   "source": [
    "x_val = CSV.read(\"Data/x_valid_set_optimpute.csv\", DataFrame)\n",
    "x_val = Matrix(x_val)\n",
    "x_val_first_four = x_val[:,1:4]\n",
    "x_val_others = x_val[:,5:size(x_val)[2]]\n",
    "\n",
    "\n",
    "first_four_transformed = creatematrices(x_val_first_four,  10e-6) #removed tesstxmat\n",
    "x_val_final=hcat(first_four_transformed, x_val_others)\n",
    "\n",
    "\n",
    "\n",
    "\n",
    "y_val = CSV.read(\"Data/y_valid_set_optimpute.csv\", DataFrame,header=0);"
   ]
  },
  {
   "cell_type": "markdown",
   "id": "ff8beba5",
   "metadata": {},
   "source": [
    "## Get the predictions on the actual validation set"
   ]
  },
  {
   "cell_type": "code",
   "execution_count": 15,
   "id": "f44ab3f4",
   "metadata": {},
   "outputs": [],
   "source": [
    "#predictions = trainvalx * betas .+ beta0\n",
    "predictions = Matrix(x_val_final) * betas  .+ beta0\n",
    ";"
   ]
  },
  {
   "cell_type": "code",
   "execution_count": 16,
   "id": "357a7da1",
   "metadata": {},
   "outputs": [
    {
     "data": {
      "text/plain": [
       "10-element Vector{Int64}:\n",
       "  2\n",
       "  5\n",
       "  9\n",
       " 14\n",
       " 34\n",
       " 36\n",
       " 37\n",
       " 41\n",
       " 42\n",
       " 44"
      ]
     },
     "execution_count": 16,
     "metadata": {},
     "output_type": "execute_result"
    }
   ],
   "source": [
    "nonzerob = findall(x->x==1,z)\n",
    "betas[nonzerob]\n",
    "nonzerob"
   ]
  },
  {
   "cell_type": "code",
   "execution_count": 17,
   "id": "6326b485",
   "metadata": {},
   "outputs": [
    {
     "data": {
      "text/plain": [
       "compute_MSE (generic function with 1 method)"
      ]
     },
     "execution_count": 17,
     "metadata": {},
     "output_type": "execute_result"
    }
   ],
   "source": [
    "function compute_r2(predictions, actual, mean_train)\n",
    "    \n",
    "    SSres = sum(Matrix((actual .- predictions).^2))\n",
    "    SStot = sum(Matrix((actual .- mean_train).^2))\n",
    "    1-SSres/SStot\n",
    "\n",
    "    return 1-SSres/SStot\n",
    "end\n",
    "\n",
    "function compute_MSE(predictions, actual)\n",
    "    sum_squared_error = sum(Matrix((predictions .- actual).^2))\n",
    "    MSE = sum_squared_error/size(actual)[1]\n",
    "    \n",
    "    return(MSE)\n",
    "    \n",
    "end"
   ]
  },
  {
   "cell_type": "markdown",
   "id": "e3abd109",
   "metadata": {},
   "source": [
    "## Get r squared"
   ]
  },
  {
   "cell_type": "code",
   "execution_count": 18,
   "id": "940fde6a",
   "metadata": {},
   "outputs": [
    {
     "data": {
      "text/plain": [
       "0.6134855911309411"
      ]
     },
     "execution_count": 18,
     "metadata": {},
     "output_type": "execute_result"
    }
   ],
   "source": [
    "compute_r2(predictions, y_val, mean(trainyarr))"
   ]
  },
  {
   "cell_type": "markdown",
   "id": "5dedc3ca",
   "metadata": {},
   "source": [
    "# Get MSE"
   ]
  },
  {
   "cell_type": "code",
   "execution_count": 19,
   "id": "99354797",
   "metadata": {},
   "outputs": [
    {
     "data": {
      "text/plain": [
       "710741.9340522412"
      ]
     },
     "execution_count": 19,
     "metadata": {},
     "output_type": "execute_result"
    }
   ],
   "source": [
    "compute_MSE(predictions, y_val)"
   ]
  },
  {
   "cell_type": "code",
   "execution_count": 20,
   "id": "1c01d4c0",
   "metadata": {},
   "outputs": [
    {
     "data": {
      "text/plain": [
       "55-element Vector{Float64}:\n",
       "    0.0\n",
       "   -0.25727970453137006\n",
       "    0.0\n",
       "    0.0\n",
       " -100.0\n",
       "    0.0\n",
       "    0.0\n",
       "    0.0\n",
       "   15.997011912957754\n",
       "    0.0\n",
       "    0.0\n",
       "    0.0\n",
       "    0.0\n",
       "    ⋮\n",
       "  100.0\n",
       "    0.0\n",
       "    0.0\n",
       "    0.0\n",
       "    0.0\n",
       "    0.0\n",
       "    0.0\n",
       "    0.0\n",
       "    0.0\n",
       "    0.0\n",
       "    0.0\n",
       "    0.0"
      ]
     },
     "execution_count": 20,
     "metadata": {},
     "output_type": "execute_result"
    }
   ],
   "source": [
    "betas"
   ]
  },
  {
   "cell_type": "code",
   "execution_count": null,
   "id": "88ad03da",
   "metadata": {},
   "outputs": [],
   "source": []
  },
  {
   "cell_type": "code",
   "execution_count": null,
   "id": "b8f789d9",
   "metadata": {},
   "outputs": [],
   "source": []
  }
 ],
 "metadata": {
  "kernelspec": {
   "display_name": "Julia 1.6.2",
   "language": "julia",
   "name": "julia-1.6"
  },
  "language_info": {
   "file_extension": ".jl",
   "mimetype": "application/julia",
   "name": "julia",
   "version": "1.6.2"
  }
 },
 "nbformat": 4,
 "nbformat_minor": 5
}
