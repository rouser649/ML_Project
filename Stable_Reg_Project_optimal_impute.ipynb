{
 "cells": [
  {
   "cell_type": "markdown",
   "id": "48bc9c36",
   "metadata": {},
   "source": [
    "# Importing Packages"
   ]
  },
  {
   "cell_type": "code",
   "execution_count": 4,
   "id": "90668b11",
   "metadata": {},
   "outputs": [
    {
     "name": "stderr",
     "output_type": "stream",
     "text": [
      "\u001b[32m\u001b[1m    Updating\u001b[22m\u001b[39m registry at `C:\\Users\\ultan\\.julia\\registries\\General`\n",
      "\u001b[32m\u001b[1m    Updating\u001b[22m\u001b[39m git-repo `https://github.com/JuliaRegistries/General.git`\n",
      "\u001b[32m\u001b[1m   Resolving\u001b[22m\u001b[39m package versions...\n",
      "\u001b[32m\u001b[1m  No Changes\u001b[22m\u001b[39m to `C:\\Users\\ultan\\.julia\\environments\\v1.6\\Project.toml`\n",
      "\u001b[32m\u001b[1m  No Changes\u001b[22m\u001b[39m to `C:\\Users\\ultan\\.julia\\environments\\v1.6\\Manifest.toml`\n",
      "\u001b[32m\u001b[1m   Resolving\u001b[22m\u001b[39m package versions...\n",
      "\u001b[32m\u001b[1m  No Changes\u001b[22m\u001b[39m to `C:\\Users\\ultan\\.julia\\environments\\v1.6\\Project.toml`\n",
      "\u001b[32m\u001b[1m  No Changes\u001b[22m\u001b[39m to `C:\\Users\\ultan\\.julia\\environments\\v1.6\\Manifest.toml`\n",
      "`DataFrames` is pinned at `v1.1.1`: maintaining pinned version\n",
      "\u001b[32m\u001b[1m   Resolving\u001b[22m\u001b[39m package versions...\n",
      "\u001b[32m\u001b[1m  No Changes\u001b[22m\u001b[39m to `C:\\Users\\ultan\\.julia\\environments\\v1.6\\Project.toml`\n",
      "\u001b[32m\u001b[1m  No Changes\u001b[22m\u001b[39m to `C:\\Users\\ultan\\.julia\\environments\\v1.6\\Manifest.toml`\n",
      "\u001b[32m\u001b[1m   Resolving\u001b[22m\u001b[39m package versions...\n",
      "\u001b[32m\u001b[1m  No Changes\u001b[22m\u001b[39m to `C:\\Users\\ultan\\.julia\\environments\\v1.6\\Project.toml`\n",
      "\u001b[32m\u001b[1m  No Changes\u001b[22m\u001b[39m to `C:\\Users\\ultan\\.julia\\environments\\v1.6\\Manifest.toml`\n",
      "\u001b[32m\u001b[1m   Resolving\u001b[22m\u001b[39m package versions...\n",
      "\u001b[32m\u001b[1m  No Changes\u001b[22m\u001b[39m to `C:\\Users\\ultan\\.julia\\environments\\v1.6\\Project.toml`\n",
      "\u001b[32m\u001b[1m  No Changes\u001b[22m\u001b[39m to `C:\\Users\\ultan\\.julia\\environments\\v1.6\\Manifest.toml`\n"
     ]
    }
   ],
   "source": [
    "using Pkg\n",
    "\n",
    "Pkg.add(\"Random\")\n",
    "Pkg.add(\"Statistics\")\n",
    "Pkg.add(\"DataFrames\")\n",
    "Pkg.add(\"CSV\")\n",
    "Pkg.add(\"Plots\")"
   ]
  },
  {
   "cell_type": "code",
   "execution_count": 1,
   "id": "a4a26303",
   "metadata": {},
   "outputs": [],
   "source": [
    "using CSV, Tables\n",
    "using DataFrames\n",
    "using Statistics\n",
    "using Random"
   ]
  },
  {
   "cell_type": "markdown",
   "id": "fe3f9114",
   "metadata": {},
   "source": [
    "# Import Train and Validation Data"
   ]
  },
  {
   "cell_type": "code",
   "execution_count": 2,
   "id": "d33d5d83",
   "metadata": {},
   "outputs": [],
   "source": [
    "stable_all_train_val_proc = CSV.read(\"Data/train_val_optimpute.csv\", DataFrame,header=true);"
   ]
  },
  {
   "cell_type": "markdown",
   "id": "cfd25fd2",
   "metadata": {},
   "source": [
    "## Split the x and y"
   ]
  },
  {
   "cell_type": "code",
   "execution_count": 3,
   "id": "a5b11c43",
   "metadata": {},
   "outputs": [],
   "source": [
    "#Y is outlet sales\n",
    "stable_y=stable_all_train_val_proc[:,4]\n",
    "\n",
    "stable_x=select!(stable_all_train_val_proc,Not(:Item_Outlet_Sales))\n",
    ";"
   ]
  },
  {
   "cell_type": "code",
   "execution_count": 4,
   "id": "23af41a3",
   "metadata": {},
   "outputs": [],
   "source": [
    "#stable_x = CSV.read(\"stable_.csv\", DataFrame,header=true);\n",
    "#stable_y = CSV.read(\"train_processed_Y.csv\", DataFrame,header=true);\n",
    "#stableX_test = CSV.read(\"test_processed_without_Y.csv\", DataFrame,header=false);\n",
    "#stableY_test = CSV.read(\"test_processed_Y.csv\", DataFrame,header=false);"
   ]
  },
  {
   "cell_type": "markdown",
   "id": "f9089a54",
   "metadata": {},
   "source": [
    "# Accuracy Functions"
   ]
  },
  {
   "cell_type": "code",
   "execution_count": 5,
   "id": "539c53b1",
   "metadata": {},
   "outputs": [
    {
     "data": {
      "text/plain": [
       "compute_mse (generic function with 1 method)"
      ]
     },
     "execution_count": 5,
     "metadata": {},
     "output_type": "execute_result"
    }
   ],
   "source": [
    "function compute_mse(X, y, beta,beta0) #inc beta0\n",
    "    n,p = size(X)\n",
    "    beta_0= [beta0 for i = 1:n]\n",
    "    \n",
    "    return (sum((beta0.+Matrix(X)*beta .- Array(y)).^2)/n)\n",
    "end"
   ]
  },
  {
   "cell_type": "code",
   "execution_count": 6,
   "id": "989f6fe1",
   "metadata": {},
   "outputs": [
    {
     "data": {
      "text/plain": [
       "compute_r2 (generic function with 1 method)"
      ]
     },
     "execution_count": 6,
     "metadata": {},
     "output_type": "execute_result"
    }
   ],
   "source": [
    "function compute_r2(X, y, beta,beta0) #inc beta0\n",
    "    \n",
    "    beta_0= [beta0 for i = 1:n]\n",
    "    \n",
    "    SSres = sum( (Array(y) .- Matrix(X)*beta.+beta0).^2 )\n",
    "    SStot = sum( (y .- Statistics.mean(Array(y))).^2 )\n",
    "    return 1-SSres/SStot\n",
    "end"
   ]
  },
  {
   "cell_type": "code",
   "execution_count": 7,
   "id": "79a88896",
   "metadata": {},
   "outputs": [],
   "source": [
    "using JuMP, Gurobi"
   ]
  },
  {
   "cell_type": "code",
   "execution_count": 8,
   "id": "04c9f25b",
   "metadata": {},
   "outputs": [
    {
     "name": "stdout",
     "output_type": "stream",
     "text": [
      "Academic license - for non-commercial use only - expires 2022-08-18\n"
     ]
    },
    {
     "data": {
      "text/latex": [
       "$$ \\begin{alignat*}{1}\\text{feasibility}\\\\\n",
       "\\text{Subject to} \\quad\\end{alignat*}\n",
       " $$"
      ],
      "text/plain": [
       "A JuMP Model\n",
       "Feasibility problem with:\n",
       "Variables: 0\n",
       "Model mode: AUTOMATIC\n",
       "CachingOptimizer state: EMPTY_OPTIMIZER\n",
       "Solver name: Gurobi"
      ]
     },
     "execution_count": 8,
     "metadata": {},
     "output_type": "execute_result"
    }
   ],
   "source": [
    "model = Model(Gurobi.Optimizer)"
   ]
  },
  {
   "cell_type": "markdown",
   "id": "ec066061",
   "metadata": {},
   "source": [
    "## Stable Regression\n",
    "\n",
    "Conduct a 70% split and find the toughest training set."
   ]
  },
  {
   "cell_type": "code",
   "execution_count": 9,
   "id": "2b29b4d1",
   "metadata": {},
   "outputs": [
    {
     "name": "stdout",
     "output_type": "stream",
     "text": [
      "Academic license - for non-commercial use only - expires 2022-08-18\n"
     ]
    },
    {
     "data": {
      "text/plain": [
       "l2_regression2 (generic function with 1 method)"
      ]
     },
     "execution_count": 9,
     "metadata": {},
     "output_type": "execute_result"
    }
   ],
   "source": [
    "gurobi_env=Gurobi.Env()\n",
    "\n",
    "function l2_regression2(X, y, rho,split_at; solver_output=0)\n",
    "    n,p = size(X)\n",
    "    \n",
    "    \n",
    "    k = convert(Int,floor(split_at*n)) #floor takes the integer part\n",
    "    \n",
    "    # Build model\n",
    "    model = Model(with_optimizer(Gurobi.Optimizer,gurobi_env))\n",
    "    set_optimizer_attribute(model, \"OutputFlag\", solver_output) \n",
    "    \n",
    "    # Insert variables\n",
    "    @variable(model,beta[j=1:p])\n",
    "    @variable(model, beta0) \n",
    "    @variable(model,theta)\n",
    "    \n",
    "    @variable(model,a[j=1:p]) \n",
    "    @variable(model, u[i=1:n]>=0) \n",
    "    @variable(model, d>=0)\n",
    " \n",
    "    \n",
    "    #Insert constraints   \n",
    "    @constraint(model,[j=1:p], beta[j]<=a[j])   \n",
    "    @constraint(model,[j=1:p], -(beta[j])<=a[j])\n",
    "    @constraint(model, [i=1:n], ( (y[i,1]-beta0-transpose(beta)*Vector(X[i,:])) ) <= theta+u[i])  \n",
    "    @constraint(model,[i=1:n], -( (y[i,1]-beta0-transpose(beta)*Vector(X[i,:]) )) <= theta+u[i])\n",
    "    @constraint(model,[i=1:n],u[i]>=0)\n",
    "    @constraint(model, beta0<=d)\n",
    "    @constraint(model, -beta0<=d) \n",
    "    \n",
    "    #Objective\n",
    "    @objective(model,Min, k*theta+sum(u[i] for i=1:n) + rho*(sum(a[j] for j=1:p)) )   \n",
    "    \n",
    "    # Optimize\n",
    "    optimize!(model)\n",
    "    \n",
    "    # Return estimated betas\n",
    "    beta0=value.(beta0)    \n",
    "    beta=value.(beta)\n",
    "\n",
    "    \n",
    "    errors=zeros(n) \n",
    "    beta_0= [beta0 for i = 1:n]\n",
    "       \n",
    "    errors= ((beta0.+Matrix(X)*beta .- Array(y)).^2) .^0.5\n",
    "    \n",
    "    #Sort indices of MSE's\n",
    "    indicies=sortperm(errors[:,1])\n",
    "    \n",
    "    #for (i,rho) in enumerate(indicies)\n",
    "    #    print(i,rho)\n",
    "    #end\n",
    "    \n",
    "    valid_indices=indicies[1:n-k] \n",
    "    training_indices=indicies[1+n-k:n]\n",
    "      \n",
    "    x_valid_set, y_valid_set = X[valid_indices,:], y[valid_indices,:]\n",
    "    x_training_set,y_training_set=X[training_indices,:],y[training_indices,:]\n",
    "   \n",
    "    \n",
    "    return (value.(beta0),value.(beta),errors,x_valid_set,y_valid_set,x_training_set,y_training_set)\n",
    "end"
   ]
  },
  {
   "cell_type": "markdown",
   "id": "2f07d65b",
   "metadata": {},
   "source": [
    "### EXPORT TOUGHEST SUBSET "
   ]
  },
  {
   "cell_type": "code",
   "execution_count": 10,
   "id": "c408c327",
   "metadata": {},
   "outputs": [],
   "source": [
    "#collect the toughest training set\n",
    "\n",
    "beta0,beta,errors,x_valid_set,y_valid_set,x_training_set,y_training_set= l2_regression2(stable_x,stable_y,.01,.7);\n"
   ]
  },
  {
   "cell_type": "code",
   "execution_count": 12,
   "id": "c4c6ca5a",
   "metadata": {},
   "outputs": [
    {
     "data": {
      "text/plain": [
       "\"Data/y_valid_set_optimpute.csv\""
      ]
     },
     "execution_count": 12,
     "metadata": {},
     "output_type": "execute_result"
    }
   ],
   "source": [
    "using Tables\n",
    "CSV.write( \"Data/x_training_stable_optimpute.csv\",  x_training_set)\n",
    "CSV.write(\"Data/y_training_stable_optimpute.csv\",  Tables.table(y_training_set), writeheader=false)\n",
    "\n",
    "\n",
    "CSV.write(\"Data/x_valid_set_optimpute.csv\", x_valid_set)\n",
    "CSV.write(\"Data/y_valid_set_optimpute.csv\", Tables.table(y_valid_set), writeheader=false)"
   ]
  },
  {
   "cell_type": "code",
   "execution_count": null,
   "id": "a281eb59",
   "metadata": {},
   "outputs": [],
   "source": []
  }
 ],
 "metadata": {
  "kernelspec": {
   "display_name": "Julia 1.6.2",
   "language": "julia",
   "name": "julia-1.6"
  },
  "language_info": {
   "file_extension": ".jl",
   "mimetype": "application/julia",
   "name": "julia",
   "version": "1.6.2"
  }
 },
 "nbformat": 4,
 "nbformat_minor": 5
}
