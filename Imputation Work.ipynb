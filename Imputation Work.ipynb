{
 "cells": [
  {
   "cell_type": "code",
   "execution_count": 3,
   "id": "944b78b3",
   "metadata": {},
   "outputs": [],
   "source": [
    "################################\n",
    "#Packages\n",
    "using Gurobi\n",
    "using JuMP\n",
    "using Plots\n",
    "using GLMNet\n",
    "using DataFrames \n",
    "using CSV\n",
    "using Statistics\n",
    "using Random\n"
   ]
  },
  {
   "cell_type": "code",
   "execution_count": 39,
   "id": "760b3d7f",
   "metadata": {},
   "outputs": [
    {
     "data": {
      "text/plain": [
       "35-element Vector{String}:\n",
       " \"Item_Weight\"\n",
       " \"Item_Visibility\"\n",
       " \"Item_MRP\"\n",
       " \"Item_Outlet_Sales\"\n",
       " \"Years_Opened\"\n",
       " \"Item_Type_Baking Goods\"\n",
       " \"Item_Type_Breads\"\n",
       " \"Item_Type_Breakfast\"\n",
       " \"Item_Type_Canned\"\n",
       " \"Item_Type_Dairy\"\n",
       " \"Item_Type_Frozen Foods\"\n",
       " \"Item_Type_Fruits and Vegetables\"\n",
       " \"Item_Type_Hard Drinks\"\n",
       " ⋮\n",
       " \"Outlet_Identifier_OUT018\"\n",
       " \"Outlet_Identifier_OUT019\"\n",
       " \"Outlet_Identifier_OUT027\"\n",
       " \"Outlet_Identifier_OUT035\"\n",
       " \"Outlet_Identifier_OUT045\"\n",
       " \"Outlet_Identifier_OUT046\"\n",
       " \"Outlet_Identifier_OUT049\"\n",
       " \"Outlet_Location_Type_Tier 2\"\n",
       " \"Outlet_Location_Type_Tier 3\"\n",
       " \"Outlet_Type_Supermarket Type1\"\n",
       " \"Outlet_Type_Supermarket Type2\"\n",
       " \"Outlet_Type_Supermarket Type3\""
      ]
     },
     "execution_count": 39,
     "metadata": {},
     "output_type": "execute_result"
    }
   ],
   "source": [
    "impute_filepath = \"Data/data_preimpute.csv\"\n",
    "\n",
    "xtrain = CSV.read(impute_filepath,DataFrame)\n",
    "\n",
    "allowmissing!(xtrain)\n",
    "names(xtrain)"
   ]
  },
  {
   "cell_type": "code",
   "execution_count": 40,
   "id": "d2113733",
   "metadata": {},
   "outputs": [],
   "source": [
    "for i = 1:nrow(xtrain)\n",
    "    if xtrain[i, :Item_Visibility] == 9999\n",
    "        xtrain[i,:Item_Visibility] = missing\n",
    "        \n",
    "    end\n",
    "    \n",
    "    if xtrain[i, :Item_Weight] == 9999\n",
    "        xtrain[i,:Item_Weight] = missing\n",
    "        \n",
    "    end\n",
    "    \n",
    "#     if xtrain[i, :Outlet_Size] == \"missing\"\n",
    "#         xtrain[i,:Outlet_Size] = missing\n",
    "        \n",
    "#     end\n",
    "    \n",
    "end"
   ]
  },
  {
   "cell_type": "code",
   "execution_count": 41,
   "id": "c7f27c21",
   "metadata": {},
   "outputs": [
    {
     "data": {
      "text/html": [
       "<table class=\"data-frame\"><thead><tr><th></th><th>Item_Weight</th><th>Item_Visibility</th><th>Item_MRP</th><th>Item_Outlet_Sales</th><th>Years_Opened</th><th>Item_Type_Baking Goods</th></tr><tr><th></th><th>Float64?</th><th>Float64?</th><th>Float64?</th><th>Float64?</th><th>Int64?</th><th>Int64?</th></tr></thead><tbody><p>14,204 rows × 6 columns</p><tr><th>1</th><td>9.3</td><td>0.0160473</td><td>249.809</td><td>3735.14</td><td>14</td><td>0</td></tr><tr><th>2</th><td>5.92</td><td>0.0192782</td><td>48.2692</td><td>443.423</td><td>4</td><td>0</td></tr><tr><th>3</th><td>17.5</td><td>0.0167601</td><td>141.618</td><td>2097.27</td><td>14</td><td>0</td></tr><tr><th>4</th><td>19.2</td><td><em>missing</em></td><td>182.095</td><td>732.38</td><td>15</td><td>0</td></tr><tr><th>5</th><td>8.93</td><td><em>missing</em></td><td>53.8614</td><td>994.705</td><td>26</td><td>0</td></tr><tr><th>6</th><td>10.395</td><td><em>missing</em></td><td>51.4008</td><td>556.609</td><td>4</td><td>1</td></tr><tr><th>7</th><td>13.65</td><td>0.0127411</td><td>57.6588</td><td>343.553</td><td>26</td><td>0</td></tr><tr><th>8</th><td><em>missing</em></td><td>0.12747</td><td>107.762</td><td>4022.76</td><td>28</td><td>0</td></tr><tr><th>9</th><td>16.2</td><td>0.0166871</td><td>96.9726</td><td>1076.6</td><td>11</td><td>0</td></tr><tr><th>10</th><td>19.2</td><td>0.0944496</td><td>187.821</td><td>4710.53</td><td>6</td><td>0</td></tr><tr><th>11</th><td>11.8</td><td><em>missing</em></td><td>45.5402</td><td>1516.03</td><td>14</td><td>0</td></tr><tr><th>12</th><td>18.5</td><td>0.0454638</td><td>144.11</td><td>2187.15</td><td>16</td><td>0</td></tr><tr><th>13</th><td>15.1</td><td>0.100014</td><td>145.479</td><td>1589.26</td><td>14</td><td>0</td></tr><tr><th>14</th><td>17.6</td><td>0.0472573</td><td>119.678</td><td>2145.21</td><td>16</td><td>0</td></tr><tr><th>15</th><td>16.35</td><td>0.0680243</td><td>196.443</td><td>1977.43</td><td>26</td><td>0</td></tr><tr><th>16</th><td>9.0</td><td>0.069089</td><td>56.3614</td><td>1547.32</td><td>16</td><td>0</td></tr><tr><th>17</th><td>11.8</td><td>0.00859605</td><td>115.349</td><td>1621.89</td><td>4</td><td>0</td></tr><tr><th>18</th><td>9.0</td><td>0.0691964</td><td>54.3614</td><td>718.398</td><td>14</td><td>0</td></tr><tr><th>19</th><td><em>missing</em></td><td>0.0342377</td><td>113.283</td><td>2303.67</td><td>28</td><td>0</td></tr><tr><th>20</th><td>13.35</td><td>0.102492</td><td>230.535</td><td>2748.42</td><td>9</td><td>0</td></tr><tr><th>21</th><td>18.85</td><td>0.13819</td><td>250.872</td><td>3775.09</td><td>26</td><td>0</td></tr><tr><th>22</th><td><em>missing</em></td><td>0.0353999</td><td>144.544</td><td>4064.04</td><td>28</td><td>1</td></tr><tr><th>23</th><td>14.6</td><td>0.0256981</td><td>196.508</td><td>1587.27</td><td>9</td><td>0</td></tr><tr><th>24</th><td><em>missing</em></td><td>0.057557</td><td>107.694</td><td>214.388</td><td>28</td><td>1</td></tr><tr><th>25</th><td>13.85</td><td>0.0258965</td><td>165.021</td><td>4078.03</td><td>16</td><td>0</td></tr><tr><th>26</th><td>13.0</td><td>0.0998871</td><td>45.906</td><td>838.908</td><td>6</td><td>0</td></tr><tr><th>27</th><td>7.645</td><td>0.0666934</td><td>42.3112</td><td>1065.28</td><td>9</td><td>0</td></tr><tr><th>28</th><td>11.65</td><td>0.0193561</td><td>39.1164</td><td>308.931</td><td>26</td><td>0</td></tr><tr><th>29</th><td>5.925</td><td>0.161467</td><td>45.5086</td><td>178.434</td><td>15</td><td>0</td></tr><tr><th>30</th><td><em>missing</em></td><td>0.0722218</td><td>43.6454</td><td>125.836</td><td>28</td><td>0</td></tr><tr><th>&vellip;</th><td>&vellip;</td><td>&vellip;</td><td>&vellip;</td><td>&vellip;</td><td>&vellip;</td><td>&vellip;</td></tr></tbody></table>"
      ],
      "text/latex": [
       "\\begin{tabular}{r|cccccc}\n",
       "\t& Item\\_Weight & Item\\_Visibility & Item\\_MRP & Item\\_Outlet\\_Sales & Years\\_Opened & Item\\_Type\\_Baking Goods\\\\\n",
       "\t\\hline\n",
       "\t& Float64? & Float64? & Float64? & Float64? & Int64? & Int64?\\\\\n",
       "\t\\hline\n",
       "\t1 & 9.3 & 0.0160473 & 249.809 & 3735.14 & 14 & 0 \\\\\n",
       "\t2 & 5.92 & 0.0192782 & 48.2692 & 443.423 & 4 & 0 \\\\\n",
       "\t3 & 17.5 & 0.0167601 & 141.618 & 2097.27 & 14 & 0 \\\\\n",
       "\t4 & 19.2 & \\emph{missing} & 182.095 & 732.38 & 15 & 0 \\\\\n",
       "\t5 & 8.93 & \\emph{missing} & 53.8614 & 994.705 & 26 & 0 \\\\\n",
       "\t6 & 10.395 & \\emph{missing} & 51.4008 & 556.609 & 4 & 1 \\\\\n",
       "\t7 & 13.65 & 0.0127411 & 57.6588 & 343.553 & 26 & 0 \\\\\n",
       "\t8 & \\emph{missing} & 0.12747 & 107.762 & 4022.76 & 28 & 0 \\\\\n",
       "\t9 & 16.2 & 0.0166871 & 96.9726 & 1076.6 & 11 & 0 \\\\\n",
       "\t10 & 19.2 & 0.0944496 & 187.821 & 4710.53 & 6 & 0 \\\\\n",
       "\t11 & 11.8 & \\emph{missing} & 45.5402 & 1516.03 & 14 & 0 \\\\\n",
       "\t12 & 18.5 & 0.0454638 & 144.11 & 2187.15 & 16 & 0 \\\\\n",
       "\t13 & 15.1 & 0.100014 & 145.479 & 1589.26 & 14 & 0 \\\\\n",
       "\t14 & 17.6 & 0.0472573 & 119.678 & 2145.21 & 16 & 0 \\\\\n",
       "\t15 & 16.35 & 0.0680243 & 196.443 & 1977.43 & 26 & 0 \\\\\n",
       "\t16 & 9.0 & 0.069089 & 56.3614 & 1547.32 & 16 & 0 \\\\\n",
       "\t17 & 11.8 & 0.00859605 & 115.349 & 1621.89 & 4 & 0 \\\\\n",
       "\t18 & 9.0 & 0.0691964 & 54.3614 & 718.398 & 14 & 0 \\\\\n",
       "\t19 & \\emph{missing} & 0.0342377 & 113.283 & 2303.67 & 28 & 0 \\\\\n",
       "\t20 & 13.35 & 0.102492 & 230.535 & 2748.42 & 9 & 0 \\\\\n",
       "\t21 & 18.85 & 0.13819 & 250.872 & 3775.09 & 26 & 0 \\\\\n",
       "\t22 & \\emph{missing} & 0.0353999 & 144.544 & 4064.04 & 28 & 1 \\\\\n",
       "\t23 & 14.6 & 0.0256981 & 196.508 & 1587.27 & 9 & 0 \\\\\n",
       "\t24 & \\emph{missing} & 0.057557 & 107.694 & 214.388 & 28 & 1 \\\\\n",
       "\t25 & 13.85 & 0.0258965 & 165.021 & 4078.03 & 16 & 0 \\\\\n",
       "\t26 & 13.0 & 0.0998871 & 45.906 & 838.908 & 6 & 0 \\\\\n",
       "\t27 & 7.645 & 0.0666934 & 42.3112 & 1065.28 & 9 & 0 \\\\\n",
       "\t28 & 11.65 & 0.0193561 & 39.1164 & 308.931 & 26 & 0 \\\\\n",
       "\t29 & 5.925 & 0.161467 & 45.5086 & 178.434 & 15 & 0 \\\\\n",
       "\t30 & \\emph{missing} & 0.0722218 & 43.6454 & 125.836 & 28 & 0 \\\\\n",
       "\t$\\dots$ & $\\dots$ & $\\dots$ & $\\dots$ & $\\dots$ & $\\dots$ & $\\dots$ \\\\\n",
       "\\end{tabular}\n"
      ],
      "text/plain": [
       "\u001b[1m14204×6 DataFrame\u001b[0m\n",
       "\u001b[1m   Row \u001b[0m│\u001b[1m Item_Weight \u001b[0m\u001b[1m Item_Visibility \u001b[0m\u001b[1m Item_MRP \u001b[0m\u001b[1m Item_Outlet_Sales \u001b[0m\u001b[1m Years_Open\u001b[0m ⋯\n",
       "\u001b[1m       \u001b[0m│\u001b[90m Float64?    \u001b[0m\u001b[90m Float64?        \u001b[0m\u001b[90m Float64? \u001b[0m\u001b[90m Float64?          \u001b[0m\u001b[90m Int64?    \u001b[0m ⋯\n",
       "───────┼────────────────────────────────────────────────────────────────────────\n",
       "     1 │       9.3          0.0160473  249.809            3735.14              ⋯\n",
       "     2 │       5.92         0.0192782   48.2692            443.423\n",
       "     3 │      17.5          0.0167601  141.618            2097.27\n",
       "     4 │      19.2   \u001b[90m missing         \u001b[0m 182.095             732.38\n",
       "     5 │       8.93  \u001b[90m missing         \u001b[0m  53.8614            994.705             ⋯\n",
       "     6 │      10.395 \u001b[90m missing         \u001b[0m  51.4008            556.609\n",
       "     7 │      13.65         0.0127411   57.6588            343.553\n",
       "     8 │\u001b[90m missing     \u001b[0m       0.12747    107.762            4022.76\n",
       "     9 │      16.2          0.0166871   96.9726           1076.6               ⋯\n",
       "    10 │      19.2          0.0944496  187.821            4710.53\n",
       "    11 │      11.8   \u001b[90m missing         \u001b[0m  45.5402           1516.03\n",
       "   ⋮   │      ⋮              ⋮            ⋮              ⋮               ⋮     ⋱\n",
       " 14195 │      15.0          0.0544628   59.5904              0.0\n",
       " 14196 │       6.86         0.0365941  231.101               0.0               ⋯\n",
       " 14197 │       7.07         0.0940528  116.083               0.0\n",
       " 14198 │      15.7          0.0307036   43.277               0.0\n",
       " 14199 │      13.0          0.070411    63.4484              0.0\n",
       " 14200 │      10.5          0.0134965  141.315               0.0               ⋯\n",
       " 14201 │       7.6          0.142991   169.145               0.0\n",
       " 14202 │      10.0          0.0735286  118.744               0.0\n",
       " 14203 │      15.3   \u001b[90m missing         \u001b[0m 214.622               0.0\n",
       " 14204 │       9.5          0.10472     79.796               0.0               ⋯\n",
       "\u001b[36m                                                2 columns and 14183 rows omitted\u001b[0m"
      ]
     },
     "execution_count": 41,
     "metadata": {},
     "output_type": "execute_result"
    }
   ],
   "source": [
    "xtrain[:,1:6]"
   ]
  },
  {
   "cell_type": "code",
   "execution_count": 42,
   "id": "6df47170",
   "metadata": {
    "scrolled": true
   },
   "outputs": [
    {
     "name": "stderr",
     "output_type": "stream",
     "text": [
      "┌ Warning: ProgressMeter by default refresh meters with additional information in IJulia via `IJulia.clear_output`, which clears all outputs in the cell. \n",
      "│  - To prevent this behaviour, do `ProgressMeter.ijulia_behavior(:append)`. \n",
      "│  - To disable this warning message, do `ProgressMeter.ijulia_behavior(:clear)`.\n",
      "└ @ ProgressMeter /Users/iai/builds/InterpretableAI/SystemImage/SysImgBuilder/.julia/packages/ProgressMeter/Vf8un/src/ProgressMeter.jl:620\n",
      "\u001b[32mTrying different warm starts...    100%|████████████████| Time: 0:08:36\u001b[39m\n",
      "\u001b[A4m  Warmstart:  rand\u001b[39m\n",
      "\n"
     ]
    },
    {
     "data": {
      "text/html": [
       "<table class=\"data-frame\"><thead><tr><th></th><th>Item_Weight</th><th>Item_Visibility</th><th>Item_MRP</th><th>Item_Outlet_Sales</th><th>Years_Opened</th><th>Item_Type_Baking Goods</th></tr><tr><th></th><th>Float64?</th><th>Float64?</th><th>Float64?</th><th>Float64?</th><th>Float64?</th><th>Float64?</th></tr></thead><tbody><p>14,204 rows × 35 columns (omitted printing of 29 columns)</p><tr><th>1</th><td>9.3</td><td>0.0160473</td><td>249.809</td><td>3735.14</td><td>14.0</td><td>0.0</td></tr><tr><th>2</th><td>5.92</td><td>0.0192782</td><td>48.2692</td><td>443.423</td><td>4.0</td><td>0.0</td></tr><tr><th>3</th><td>17.5</td><td>0.0167601</td><td>141.618</td><td>2097.27</td><td>14.0</td><td>0.0</td></tr><tr><th>4</th><td>19.2</td><td>0.0698715</td><td>182.095</td><td>732.38</td><td>15.0</td><td>0.0</td></tr><tr><th>5</th><td>8.93</td><td>0.0585074</td><td>53.8614</td><td>994.705</td><td>26.0</td><td>0.0</td></tr><tr><th>6</th><td>10.395</td><td>0.0589066</td><td>51.4008</td><td>556.609</td><td>4.0</td><td>1.0</td></tr><tr><th>7</th><td>13.65</td><td>0.0127411</td><td>57.6588</td><td>343.553</td><td>26.0</td><td>0.0</td></tr><tr><th>8</th><td>12.0914</td><td>0.12747</td><td>107.762</td><td>4022.76</td><td>28.0</td><td>0.0</td></tr><tr><th>9</th><td>16.2</td><td>0.0166871</td><td>96.9726</td><td>1076.6</td><td>11.0</td><td>0.0</td></tr><tr><th>10</th><td>19.2</td><td>0.0944496</td><td>187.821</td><td>4710.53</td><td>6.0</td><td>0.0</td></tr><tr><th>11</th><td>11.8</td><td>0.038954</td><td>45.5402</td><td>1516.03</td><td>14.0</td><td>0.0</td></tr><tr><th>12</th><td>18.5</td><td>0.0454638</td><td>144.11</td><td>2187.15</td><td>16.0</td><td>0.0</td></tr><tr><th>13</th><td>15.1</td><td>0.100014</td><td>145.479</td><td>1589.26</td><td>14.0</td><td>0.0</td></tr><tr><th>14</th><td>17.6</td><td>0.0472573</td><td>119.678</td><td>2145.21</td><td>16.0</td><td>0.0</td></tr><tr><th>15</th><td>16.35</td><td>0.0680243</td><td>196.443</td><td>1977.43</td><td>26.0</td><td>0.0</td></tr><tr><th>16</th><td>9.0</td><td>0.069089</td><td>56.3614</td><td>1547.32</td><td>16.0</td><td>0.0</td></tr><tr><th>17</th><td>11.8</td><td>0.00859605</td><td>115.349</td><td>1621.89</td><td>4.0</td><td>0.0</td></tr><tr><th>18</th><td>9.0</td><td>0.0691964</td><td>54.3614</td><td>718.398</td><td>14.0</td><td>0.0</td></tr><tr><th>19</th><td>12.0127</td><td>0.0342377</td><td>113.283</td><td>2303.67</td><td>28.0</td><td>0.0</td></tr><tr><th>20</th><td>13.35</td><td>0.102492</td><td>230.535</td><td>2748.42</td><td>9.0</td><td>0.0</td></tr><tr><th>21</th><td>18.85</td><td>0.13819</td><td>250.872</td><td>3775.09</td><td>26.0</td><td>0.0</td></tr><tr><th>22</th><td>13.1878</td><td>0.0353999</td><td>144.544</td><td>4064.04</td><td>28.0</td><td>1.0</td></tr><tr><th>23</th><td>14.6</td><td>0.0256981</td><td>196.508</td><td>1587.27</td><td>9.0</td><td>0.0</td></tr><tr><th>24</th><td>11.9632</td><td>0.057557</td><td>107.694</td><td>214.388</td><td>28.0</td><td>1.0</td></tr><tr><th>25</th><td>13.85</td><td>0.0258965</td><td>165.021</td><td>4078.03</td><td>16.0</td><td>0.0</td></tr><tr><th>26</th><td>13.0</td><td>0.0998871</td><td>45.906</td><td>838.908</td><td>6.0</td><td>0.0</td></tr><tr><th>27</th><td>7.645</td><td>0.0666934</td><td>42.3112</td><td>1065.28</td><td>9.0</td><td>0.0</td></tr><tr><th>28</th><td>11.65</td><td>0.0193561</td><td>39.1164</td><td>308.931</td><td>26.0</td><td>0.0</td></tr><tr><th>29</th><td>5.925</td><td>0.161467</td><td>45.5086</td><td>178.434</td><td>15.0</td><td>0.0</td></tr><tr><th>30</th><td>12.0091</td><td>0.0722218</td><td>43.6454</td><td>125.836</td><td>28.0</td><td>0.0</td></tr><tr><th>&vellip;</th><td>&vellip;</td><td>&vellip;</td><td>&vellip;</td><td>&vellip;</td><td>&vellip;</td><td>&vellip;</td></tr></tbody></table>"
      ],
      "text/latex": [
       "\\begin{tabular}{r|ccccccc}\n",
       "\t& Item\\_Weight & Item\\_Visibility & Item\\_MRP & Item\\_Outlet\\_Sales & Years\\_Opened & Item\\_Type\\_Baking Goods & \\\\\n",
       "\t\\hline\n",
       "\t& Float64? & Float64? & Float64? & Float64? & Float64? & Float64? & \\\\\n",
       "\t\\hline\n",
       "\t1 & 9.3 & 0.0160473 & 249.809 & 3735.14 & 14.0 & 0.0 & $\\dots$ \\\\\n",
       "\t2 & 5.92 & 0.0192782 & 48.2692 & 443.423 & 4.0 & 0.0 & $\\dots$ \\\\\n",
       "\t3 & 17.5 & 0.0167601 & 141.618 & 2097.27 & 14.0 & 0.0 & $\\dots$ \\\\\n",
       "\t4 & 19.2 & 0.0698715 & 182.095 & 732.38 & 15.0 & 0.0 & $\\dots$ \\\\\n",
       "\t5 & 8.93 & 0.0585074 & 53.8614 & 994.705 & 26.0 & 0.0 & $\\dots$ \\\\\n",
       "\t6 & 10.395 & 0.0589066 & 51.4008 & 556.609 & 4.0 & 1.0 & $\\dots$ \\\\\n",
       "\t7 & 13.65 & 0.0127411 & 57.6588 & 343.553 & 26.0 & 0.0 & $\\dots$ \\\\\n",
       "\t8 & 12.0914 & 0.12747 & 107.762 & 4022.76 & 28.0 & 0.0 & $\\dots$ \\\\\n",
       "\t9 & 16.2 & 0.0166871 & 96.9726 & 1076.6 & 11.0 & 0.0 & $\\dots$ \\\\\n",
       "\t10 & 19.2 & 0.0944496 & 187.821 & 4710.53 & 6.0 & 0.0 & $\\dots$ \\\\\n",
       "\t11 & 11.8 & 0.038954 & 45.5402 & 1516.03 & 14.0 & 0.0 & $\\dots$ \\\\\n",
       "\t12 & 18.5 & 0.0454638 & 144.11 & 2187.15 & 16.0 & 0.0 & $\\dots$ \\\\\n",
       "\t13 & 15.1 & 0.100014 & 145.479 & 1589.26 & 14.0 & 0.0 & $\\dots$ \\\\\n",
       "\t14 & 17.6 & 0.0472573 & 119.678 & 2145.21 & 16.0 & 0.0 & $\\dots$ \\\\\n",
       "\t15 & 16.35 & 0.0680243 & 196.443 & 1977.43 & 26.0 & 0.0 & $\\dots$ \\\\\n",
       "\t16 & 9.0 & 0.069089 & 56.3614 & 1547.32 & 16.0 & 0.0 & $\\dots$ \\\\\n",
       "\t17 & 11.8 & 0.00859605 & 115.349 & 1621.89 & 4.0 & 0.0 & $\\dots$ \\\\\n",
       "\t18 & 9.0 & 0.0691964 & 54.3614 & 718.398 & 14.0 & 0.0 & $\\dots$ \\\\\n",
       "\t19 & 12.0127 & 0.0342377 & 113.283 & 2303.67 & 28.0 & 0.0 & $\\dots$ \\\\\n",
       "\t20 & 13.35 & 0.102492 & 230.535 & 2748.42 & 9.0 & 0.0 & $\\dots$ \\\\\n",
       "\t21 & 18.85 & 0.13819 & 250.872 & 3775.09 & 26.0 & 0.0 & $\\dots$ \\\\\n",
       "\t22 & 13.1878 & 0.0353999 & 144.544 & 4064.04 & 28.0 & 1.0 & $\\dots$ \\\\\n",
       "\t23 & 14.6 & 0.0256981 & 196.508 & 1587.27 & 9.0 & 0.0 & $\\dots$ \\\\\n",
       "\t24 & 11.9632 & 0.057557 & 107.694 & 214.388 & 28.0 & 1.0 & $\\dots$ \\\\\n",
       "\t25 & 13.85 & 0.0258965 & 165.021 & 4078.03 & 16.0 & 0.0 & $\\dots$ \\\\\n",
       "\t26 & 13.0 & 0.0998871 & 45.906 & 838.908 & 6.0 & 0.0 & $\\dots$ \\\\\n",
       "\t27 & 7.645 & 0.0666934 & 42.3112 & 1065.28 & 9.0 & 0.0 & $\\dots$ \\\\\n",
       "\t28 & 11.65 & 0.0193561 & 39.1164 & 308.931 & 26.0 & 0.0 & $\\dots$ \\\\\n",
       "\t29 & 5.925 & 0.161467 & 45.5086 & 178.434 & 15.0 & 0.0 & $\\dots$ \\\\\n",
       "\t30 & 12.0091 & 0.0722218 & 43.6454 & 125.836 & 28.0 & 0.0 & $\\dots$ \\\\\n",
       "\t$\\dots$ & $\\dots$ & $\\dots$ & $\\dots$ & $\\dots$ & $\\dots$ & $\\dots$ &  \\\\\n",
       "\\end{tabular}\n"
      ],
      "text/plain": [
       "\u001b[1m14204×35 DataFrame\u001b[0m\n",
       "\u001b[1m   Row \u001b[0m│\u001b[1m Item_Weight \u001b[0m\u001b[1m Item_Visibility \u001b[0m\u001b[1m Item_MRP \u001b[0m\u001b[1m Item_Outlet_Sales \u001b[0m\u001b[1m Years_Open\u001b[0m ⋯\n",
       "\u001b[1m       \u001b[0m│\u001b[90m Float64?    \u001b[0m\u001b[90m Float64?        \u001b[0m\u001b[90m Float64? \u001b[0m\u001b[90m Float64?          \u001b[0m\u001b[90m Float64?  \u001b[0m ⋯\n",
       "───────┼────────────────────────────────────────────────────────────────────────\n",
       "     1 │      9.3           0.0160473  249.809            3735.14           14 ⋯\n",
       "     2 │      5.92          0.0192782   48.2692            443.423           4\n",
       "     3 │     17.5           0.0167601  141.618            2097.27           14\n",
       "     4 │     19.2           0.0698715  182.095             732.38           15\n",
       "     5 │      8.93          0.0585074   53.8614            994.705          26 ⋯\n",
       "     6 │     10.395         0.0589066   51.4008            556.609           4\n",
       "     7 │     13.65          0.0127411   57.6588            343.553          26\n",
       "     8 │     12.0914        0.12747    107.762            4022.76           28\n",
       "     9 │     16.2           0.0166871   96.9726           1076.6            11 ⋯\n",
       "    10 │     19.2           0.0944496  187.821            4710.53            6\n",
       "    11 │     11.8           0.038954    45.5402           1516.03           14\n",
       "   ⋮   │      ⋮              ⋮            ⋮              ⋮               ⋮     ⋱\n",
       " 14195 │     15.0           0.0544628   59.5904              0.0            14\n",
       " 14196 │      6.86          0.0365941  231.101               0.0            14 ⋯\n",
       " 14197 │      7.07          0.0940528  116.083               0.0             4\n",
       " 14198 │     15.7           0.0307036   43.277               0.0            16\n",
       " 14199 │     13.0           0.070411    63.4484              0.0            14\n",
       " 14200 │     10.5           0.0134965  141.315               0.0            16 ⋯\n",
       " 14201 │      7.6           0.142991   169.145               0.0             4\n",
       " 14202 │     10.0           0.0735286  118.744               0.0            11\n",
       " 14203 │     15.3           0.0295955  214.622               0.0             6\n",
       " 14204 │      9.5           0.10472     79.796               0.0            11 ⋯\n",
       "\u001b[36m                                               31 columns and 14183 rows omitted\u001b[0m"
      ]
     },
     "execution_count": 42,
     "metadata": {},
     "output_type": "execute_result"
    }
   ],
   "source": [
    "X_imputed = IAI.impute(xtrain)"
   ]
  },
  {
   "cell_type": "code",
   "execution_count": 53,
   "id": "6e2401bb",
   "metadata": {},
   "outputs": [
    {
     "data": {
      "text/plain": [
       "16-element Vector{String}:\n",
       " \"Item_Type_Starchy Foods\"\n",
       " \"Item_Fat_Content_Regular\"\n",
       " \"Outlet_Identifier_OUT013\"\n",
       " \"Outlet_Identifier_OUT017\"\n",
       " \"Outlet_Identifier_OUT018\"\n",
       " \"Outlet_Identifier_OUT019\"\n",
       " \"Outlet_Identifier_OUT027\"\n",
       " \"Outlet_Identifier_OUT035\"\n",
       " \"Outlet_Identifier_OUT045\"\n",
       " \"Outlet_Identifier_OUT046\"\n",
       " \"Outlet_Identifier_OUT049\"\n",
       " \"Outlet_Location_Type_Tier 2\"\n",
       " \"Outlet_Location_Type_Tier 3\"\n",
       " \"Outlet_Type_Supermarket Type1\"\n",
       " \"Outlet_Type_Supermarket Type2\"\n",
       " \"Outlet_Type_Supermarket Type3\""
      ]
     },
     "execution_count": 53,
     "metadata": {},
     "output_type": "execute_result"
    }
   ],
   "source": [
    "names(xtrain)[20:35]"
   ]
  },
  {
   "cell_type": "code",
   "execution_count": 56,
   "id": "b1987ad2",
   "metadata": {},
   "outputs": [
    {
     "data": {
      "text/plain": [
       "98.8357406869001"
      ]
     },
     "execution_count": 56,
     "metadata": {},
     "output_type": "execute_result"
    }
   ],
   "source": [
    "store_13_idx = findall(x->x ==1, xtrain[:, :Outlet_Identifier_OUT013]);\n",
    "store_13 = X_imputed[store_13_idx,:]\n",
    "store_13_Vis = store_13[:,:Item_Visibility]\n",
    "sum(store_13_Vis)"
   ]
  },
  {
   "cell_type": "code",
   "execution_count": 64,
   "id": "960b7da0",
   "metadata": {},
   "outputs": [
    {
     "data": {
      "text/plain": [
       "98.57893871147326"
      ]
     },
     "execution_count": 64,
     "metadata": {},
     "output_type": "execute_result"
    }
   ],
   "source": [
    "store_13_idx = findall(x->x ==1, xtrain[:, :Outlet_Identifier_OUT046]);\n",
    "store_13 = X_imputed[store_13_idx,:]\n",
    "store_13_Vis = store_13[:,:Item_Visibility]\n",
    "sum(store_13_Vis)"
   ]
  },
  {
   "cell_type": "code",
   "execution_count": 67,
   "id": "d9ac730a",
   "metadata": {},
   "outputs": [
    {
     "data": {
      "text/plain": [
       "\"Data/Optimal_Impute_Data.csv\""
      ]
     },
     "execution_count": 67,
     "metadata": {},
     "output_type": "execute_result"
    }
   ],
   "source": [
    "CSV.write(\"Data/Optimal_Impute_Data.csv\", X_imputed)"
   ]
  },
  {
   "cell_type": "code",
   "execution_count": null,
   "id": "49000932",
   "metadata": {},
   "outputs": [],
   "source": []
  }
 ],
 "metadata": {
  "kernelspec": {
   "display_name": "Julia 1.6.2",
   "language": "julia",
   "name": "julia-1.6"
  },
  "language_info": {
   "file_extension": ".jl",
   "mimetype": "application/julia",
   "name": "julia",
   "version": "1.6.2"
  }
 },
 "nbformat": 4,
 "nbformat_minor": 5
}
