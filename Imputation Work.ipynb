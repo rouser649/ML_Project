{
 "cells": [
  {
   "cell_type": "code",
   "execution_count": 1,
   "id": "9b033688",
   "metadata": {},
   "outputs": [],
   "source": [
    "################################\n",
    "#Packages\n",
    "using Gurobi\n",
    "using JuMP\n",
    "using Plots\n",
    "using GLMNet\n",
    "using DataFrames \n",
    "using CSV\n",
    "using Statistics\n",
    "using Random\n"
   ]
  },
  {
   "cell_type": "markdown",
   "id": "8216ecf8",
   "metadata": {},
   "source": [
    "### Read in Data"
   ]
  },
  {
   "cell_type": "code",
   "execution_count": 13,
   "id": "89263073",
   "metadata": {},
   "outputs": [],
   "source": [
    "impute_filepath = \"Data/data_preimpute.csv\"\n",
    "\n",
    "data = CSV.read(impute_filepath,DataFrame)\n",
    "allowmissing!(data)\n",
    ";"
   ]
  },
  {
   "cell_type": "code",
   "execution_count": 14,
   "id": "f851f01c",
   "metadata": {},
   "outputs": [
    {
     "data": {
      "text/html": [
       "<table class=\"data-frame\"><thead><tr><th></th><th>Item_Weight</th><th>Item_Visibility</th><th>Item_MRP</th><th>Item_Outlet_Sales</th><th>Years_Opened</th><th>Item_Type_Baking Goods</th></tr><tr><th></th><th>Float64?</th><th>Float64?</th><th>Float64?</th><th>Float64?</th><th>Int64?</th><th>Int64?</th></tr></thead><tbody><p>10 rows × 35 columns (omitted printing of 29 columns)</p><tr><th>1</th><td>9.3</td><td>0.0160473</td><td>249.809</td><td>3735.14</td><td>14</td><td>0</td></tr><tr><th>2</th><td>5.92</td><td>0.0192782</td><td>48.2692</td><td>443.423</td><td>4</td><td>0</td></tr><tr><th>3</th><td>17.5</td><td>0.0167601</td><td>141.618</td><td>2097.27</td><td>14</td><td>0</td></tr><tr><th>4</th><td>19.2</td><td>9999.0</td><td>182.095</td><td>732.38</td><td>15</td><td>0</td></tr><tr><th>5</th><td>8.93</td><td>9999.0</td><td>53.8614</td><td>994.705</td><td>26</td><td>0</td></tr><tr><th>6</th><td>10.395</td><td>9999.0</td><td>51.4008</td><td>556.609</td><td>4</td><td>1</td></tr><tr><th>7</th><td>13.65</td><td>0.0127411</td><td>57.6588</td><td>343.553</td><td>26</td><td>0</td></tr><tr><th>8</th><td>9999.0</td><td>0.12747</td><td>107.762</td><td>4022.76</td><td>28</td><td>0</td></tr><tr><th>9</th><td>16.2</td><td>0.0166871</td><td>96.9726</td><td>1076.6</td><td>11</td><td>0</td></tr><tr><th>10</th><td>19.2</td><td>0.0944496</td><td>187.821</td><td>4710.53</td><td>6</td><td>0</td></tr></tbody></table>"
      ],
      "text/latex": [
       "\\begin{tabular}{r|ccccccc}\n",
       "\t& Item\\_Weight & Item\\_Visibility & Item\\_MRP & Item\\_Outlet\\_Sales & Years\\_Opened & Item\\_Type\\_Baking Goods & \\\\\n",
       "\t\\hline\n",
       "\t& Float64? & Float64? & Float64? & Float64? & Int64? & Int64? & \\\\\n",
       "\t\\hline\n",
       "\t1 & 9.3 & 0.0160473 & 249.809 & 3735.14 & 14 & 0 & $\\dots$ \\\\\n",
       "\t2 & 5.92 & 0.0192782 & 48.2692 & 443.423 & 4 & 0 & $\\dots$ \\\\\n",
       "\t3 & 17.5 & 0.0167601 & 141.618 & 2097.27 & 14 & 0 & $\\dots$ \\\\\n",
       "\t4 & 19.2 & 9999.0 & 182.095 & 732.38 & 15 & 0 & $\\dots$ \\\\\n",
       "\t5 & 8.93 & 9999.0 & 53.8614 & 994.705 & 26 & 0 & $\\dots$ \\\\\n",
       "\t6 & 10.395 & 9999.0 & 51.4008 & 556.609 & 4 & 1 & $\\dots$ \\\\\n",
       "\t7 & 13.65 & 0.0127411 & 57.6588 & 343.553 & 26 & 0 & $\\dots$ \\\\\n",
       "\t8 & 9999.0 & 0.12747 & 107.762 & 4022.76 & 28 & 0 & $\\dots$ \\\\\n",
       "\t9 & 16.2 & 0.0166871 & 96.9726 & 1076.6 & 11 & 0 & $\\dots$ \\\\\n",
       "\t10 & 19.2 & 0.0944496 & 187.821 & 4710.53 & 6 & 0 & $\\dots$ \\\\\n",
       "\\end{tabular}\n"
      ],
      "text/plain": [
       "\u001b[1m10×35 DataFrame\u001b[0m\n",
       "\u001b[1m Row \u001b[0m│\u001b[1m Item_Weight \u001b[0m\u001b[1m Item_Visibility \u001b[0m\u001b[1m Item_MRP \u001b[0m\u001b[1m Item_Outlet_Sales \u001b[0m\u001b[1m Years_Opened\u001b[0m ⋯\n",
       "\u001b[1m     \u001b[0m│\u001b[90m Float64?    \u001b[0m\u001b[90m Float64?        \u001b[0m\u001b[90m Float64? \u001b[0m\u001b[90m Float64?          \u001b[0m\u001b[90m Int64?      \u001b[0m ⋯\n",
       "─────┼──────────────────────────────────────────────────────────────────────────\n",
       "   1 │       9.3          0.0160473  249.809            3735.14             14 ⋯\n",
       "   2 │       5.92         0.0192782   48.2692            443.423             4\n",
       "   3 │      17.5          0.0167601  141.618            2097.27             14\n",
       "   4 │      19.2       9999.0        182.095             732.38             15\n",
       "   5 │       8.93      9999.0         53.8614            994.705            26 ⋯\n",
       "   6 │      10.395     9999.0         51.4008            556.609             4\n",
       "   7 │      13.65         0.0127411   57.6588            343.553            26\n",
       "   8 │    9999.0          0.12747    107.762            4022.76             28\n",
       "   9 │      16.2          0.0166871   96.9726           1076.6              11 ⋯\n",
       "  10 │      19.2          0.0944496  187.821            4710.53              6\n",
       "\u001b[36m                                                              30 columns omitted\u001b[0m"
      ]
     },
     "execution_count": 14,
     "metadata": {},
     "output_type": "execute_result"
    }
   ],
   "source": [
    "first(data,10)"
   ]
  },
  {
   "cell_type": "markdown",
   "id": "36775e7b",
   "metadata": {},
   "source": [
    "## Set the missing values to \"missing\""
   ]
  },
  {
   "cell_type": "code",
   "execution_count": 15,
   "id": "f16e1563",
   "metadata": {},
   "outputs": [],
   "source": [
    "for i = 1:nrow(data)\n",
    "    if data[i, :Item_Visibility] == 9999\n",
    "        data[i,:Item_Visibility] = missing\n",
    "        \n",
    "    end\n",
    "    \n",
    "    if data[i, :Item_Weight] == 9999\n",
    "        data[i,:Item_Weight] = missing\n",
    "        \n",
    "    end\n",
    "    \n",
    "    \n",
    "end"
   ]
  },
  {
   "cell_type": "code",
   "execution_count": 17,
   "id": "617f6344",
   "metadata": {},
   "outputs": [
    {
     "data": {
      "text/html": [
       "<table class=\"data-frame\"><thead><tr><th></th><th>Item_Weight</th><th>Item_Visibility</th><th>Item_MRP</th><th>Item_Outlet_Sales</th><th>Years_Opened</th><th>Item_Type_Baking Goods</th></tr><tr><th></th><th>Float64?</th><th>Float64?</th><th>Float64?</th><th>Float64?</th><th>Int64?</th><th>Int64?</th></tr></thead><tbody><p>10 rows × 35 columns (omitted printing of 29 columns)</p><tr><th>1</th><td>9.3</td><td>0.0160473</td><td>249.809</td><td>3735.14</td><td>14</td><td>0</td></tr><tr><th>2</th><td>5.92</td><td>0.0192782</td><td>48.2692</td><td>443.423</td><td>4</td><td>0</td></tr><tr><th>3</th><td>17.5</td><td>0.0167601</td><td>141.618</td><td>2097.27</td><td>14</td><td>0</td></tr><tr><th>4</th><td>19.2</td><td><em>missing</em></td><td>182.095</td><td>732.38</td><td>15</td><td>0</td></tr><tr><th>5</th><td>8.93</td><td><em>missing</em></td><td>53.8614</td><td>994.705</td><td>26</td><td>0</td></tr><tr><th>6</th><td>10.395</td><td><em>missing</em></td><td>51.4008</td><td>556.609</td><td>4</td><td>1</td></tr><tr><th>7</th><td>13.65</td><td>0.0127411</td><td>57.6588</td><td>343.553</td><td>26</td><td>0</td></tr><tr><th>8</th><td><em>missing</em></td><td>0.12747</td><td>107.762</td><td>4022.76</td><td>28</td><td>0</td></tr><tr><th>9</th><td>16.2</td><td>0.0166871</td><td>96.9726</td><td>1076.6</td><td>11</td><td>0</td></tr><tr><th>10</th><td>19.2</td><td>0.0944496</td><td>187.821</td><td>4710.53</td><td>6</td><td>0</td></tr></tbody></table>"
      ],
      "text/latex": [
       "\\begin{tabular}{r|ccccccc}\n",
       "\t& Item\\_Weight & Item\\_Visibility & Item\\_MRP & Item\\_Outlet\\_Sales & Years\\_Opened & Item\\_Type\\_Baking Goods & \\\\\n",
       "\t\\hline\n",
       "\t& Float64? & Float64? & Float64? & Float64? & Int64? & Int64? & \\\\\n",
       "\t\\hline\n",
       "\t1 & 9.3 & 0.0160473 & 249.809 & 3735.14 & 14 & 0 & $\\dots$ \\\\\n",
       "\t2 & 5.92 & 0.0192782 & 48.2692 & 443.423 & 4 & 0 & $\\dots$ \\\\\n",
       "\t3 & 17.5 & 0.0167601 & 141.618 & 2097.27 & 14 & 0 & $\\dots$ \\\\\n",
       "\t4 & 19.2 & \\emph{missing} & 182.095 & 732.38 & 15 & 0 & $\\dots$ \\\\\n",
       "\t5 & 8.93 & \\emph{missing} & 53.8614 & 994.705 & 26 & 0 & $\\dots$ \\\\\n",
       "\t6 & 10.395 & \\emph{missing} & 51.4008 & 556.609 & 4 & 1 & $\\dots$ \\\\\n",
       "\t7 & 13.65 & 0.0127411 & 57.6588 & 343.553 & 26 & 0 & $\\dots$ \\\\\n",
       "\t8 & \\emph{missing} & 0.12747 & 107.762 & 4022.76 & 28 & 0 & $\\dots$ \\\\\n",
       "\t9 & 16.2 & 0.0166871 & 96.9726 & 1076.6 & 11 & 0 & $\\dots$ \\\\\n",
       "\t10 & 19.2 & 0.0944496 & 187.821 & 4710.53 & 6 & 0 & $\\dots$ \\\\\n",
       "\\end{tabular}\n"
      ],
      "text/plain": [
       "\u001b[1m10×35 DataFrame\u001b[0m\n",
       "\u001b[1m Row \u001b[0m│\u001b[1m Item_Weight \u001b[0m\u001b[1m Item_Visibility \u001b[0m\u001b[1m Item_MRP \u001b[0m\u001b[1m Item_Outlet_Sales \u001b[0m\u001b[1m Years_Opened\u001b[0m ⋯\n",
       "\u001b[1m     \u001b[0m│\u001b[90m Float64?    \u001b[0m\u001b[90m Float64?        \u001b[0m\u001b[90m Float64? \u001b[0m\u001b[90m Float64?          \u001b[0m\u001b[90m Int64?      \u001b[0m ⋯\n",
       "─────┼──────────────────────────────────────────────────────────────────────────\n",
       "   1 │       9.3          0.0160473  249.809            3735.14             14 ⋯\n",
       "   2 │       5.92         0.0192782   48.2692            443.423             4\n",
       "   3 │      17.5          0.0167601  141.618            2097.27             14\n",
       "   4 │      19.2   \u001b[90m missing         \u001b[0m 182.095             732.38             15\n",
       "   5 │       8.93  \u001b[90m missing         \u001b[0m  53.8614            994.705            26 ⋯\n",
       "   6 │      10.395 \u001b[90m missing         \u001b[0m  51.4008            556.609             4\n",
       "   7 │      13.65         0.0127411   57.6588            343.553            26\n",
       "   8 │\u001b[90m missing     \u001b[0m       0.12747    107.762            4022.76             28\n",
       "   9 │      16.2          0.0166871   96.9726           1076.6              11 ⋯\n",
       "  10 │      19.2          0.0944496  187.821            4710.53              6\n",
       "\u001b[36m                                                              30 columns omitted\u001b[0m"
      ]
     },
     "execution_count": 17,
     "metadata": {},
     "output_type": "execute_result"
    }
   ],
   "source": [
    "first(data,10)"
   ]
  },
  {
   "cell_type": "markdown",
   "id": "c571ec3d",
   "metadata": {},
   "source": [
    "### Implement Optimal Impute"
   ]
  },
  {
   "cell_type": "code",
   "execution_count": 21,
   "id": "88b4588b",
   "metadata": {
    "scrolled": true
   },
   "outputs": [],
   "source": [
    "data_imputed = IAI.impute(data)"
   ]
  },
  {
   "cell_type": "code",
   "execution_count": 18,
   "id": "66b2d9ac",
   "metadata": {},
   "outputs": [
    {
     "data": {
      "text/plain": [
       "16-element Vector{String}:\n",
       " \"Item_Type_Starchy Foods\"\n",
       " \"Item_Fat_Content_Regular\"\n",
       " \"Outlet_Identifier_OUT013\"\n",
       " \"Outlet_Identifier_OUT017\"\n",
       " \"Outlet_Identifier_OUT018\"\n",
       " \"Outlet_Identifier_OUT019\"\n",
       " \"Outlet_Identifier_OUT027\"\n",
       " \"Outlet_Identifier_OUT035\"\n",
       " \"Outlet_Identifier_OUT045\"\n",
       " \"Outlet_Identifier_OUT046\"\n",
       " \"Outlet_Identifier_OUT049\"\n",
       " \"Outlet_Location_Type_Tier 2\"\n",
       " \"Outlet_Location_Type_Tier 3\"\n",
       " \"Outlet_Type_Supermarket Type1\"\n",
       " \"Outlet_Type_Supermarket Type2\"\n",
       " \"Outlet_Type_Supermarket Type3\""
      ]
     },
     "execution_count": 18,
     "metadata": {},
     "output_type": "execute_result"
    }
   ],
   "source": [
    "names(data)[20:35]"
   ]
  },
  {
   "cell_type": "markdown",
   "id": "a78f22ce",
   "metadata": {},
   "source": [
    "### Asses how imputation did (needs more work)"
   ]
  },
  {
   "cell_type": "code",
   "execution_count": 19,
   "id": "56ab5e16",
   "metadata": {},
   "outputs": [
    {
     "ename": "LoadError",
     "evalue": "UndefVarError: data_imputed not defined",
     "output_type": "error",
     "traceback": [
      "UndefVarError: data_imputed not defined",
      "",
      "Stacktrace:",
      " [1] top-level scope",
      "   @ In[19]:2",
      " [2] eval",
      "   @ ./boot.jl:360 [inlined]",
      " [3] include_string(mapexpr::typeof(REPL.softscope), mod::Module, code::String, filename::String)",
      "   @ Base ./loading.jl:1116"
     ]
    }
   ],
   "source": [
    "store_13_idx = findall(x->x ==1, data[:, :Outlet_Identifier_OUT013]);\n",
    "store_13 = data_imputed[store_13_idx,:]\n",
    "store_13_Vis = store_13[:,:Item_Visibility]\n",
    "sum(store_13_Vis)"
   ]
  },
  {
   "cell_type": "code",
   "execution_count": null,
   "id": "c7962f3b",
   "metadata": {},
   "outputs": [],
   "source": [
    "store_13_idx = findall(x->x ==1, data[:, :Outlet_Identifier_OUT046]);\n",
    "store_13 = data_imputed[store_13_idx,:]\n",
    "store_13_Vis = store_13[:,:Item_Visibility]\n",
    "sum(store_13_Vis)"
   ]
  },
  {
   "cell_type": "code",
   "execution_count": null,
   "id": "a9b4f86f",
   "metadata": {},
   "outputs": [],
   "source": [
    "CSV.write(\"Data/Optimal_Impute_Data.csv\", data_imputed)"
   ]
  },
  {
   "cell_type": "code",
   "execution_count": null,
   "id": "53d8f197",
   "metadata": {},
   "outputs": [],
   "source": []
  }
 ],
 "metadata": {
  "kernelspec": {
   "display_name": "Julia 1.6.2",
   "language": "julia",
   "name": "julia-1.6"
  },
  "language_info": {
   "file_extension": ".jl",
   "mimetype": "application/julia",
   "name": "julia",
   "version": "1.6.2"
  }
 },
 "nbformat": 4,
 "nbformat_minor": 5
}
