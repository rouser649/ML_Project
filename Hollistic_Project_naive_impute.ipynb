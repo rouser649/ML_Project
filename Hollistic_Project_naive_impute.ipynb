{
 "cells": [
  {
   "cell_type": "markdown",
   "id": "01b179ff",
   "metadata": {},
   "source": [
    "## Import Packages"
   ]
  },
  {
   "cell_type": "code",
   "execution_count": 1,
   "id": "7514299a",
   "metadata": {},
   "outputs": [],
   "source": [
    "using Gurobi, CSV, DataFrames, JuMP, LinearAlgebra, Distributions, Random, GLMNet"
   ]
  },
  {
   "cell_type": "markdown",
   "id": "8d37ee8c",
   "metadata": {},
   "source": [
    "## Read in Data \n",
    "\n",
    "### training and validation set created from stable regression (see notebook)"
   ]
  },
  {
   "cell_type": "code",
   "execution_count": 204,
   "id": "e3718a82",
   "metadata": {},
   "outputs": [],
   "source": [
    "trainx = CSV.read(\"Data/x_training_stable.csv\",DataFrame)\n",
    "trainy = CSV.read(\"Data/y_training_stable.csv\",DataFrame,header=0);"
   ]
  },
  {
   "cell_type": "markdown",
   "id": "4391066b",
   "metadata": {},
   "source": [
    "### Convert data to matrix and vector form "
   ]
  },
  {
   "cell_type": "code",
   "execution_count": 205,
   "id": "71913438",
   "metadata": {},
   "outputs": [],
   "source": [
    "trainxmat = Matrix(trainx)\n",
    "trainyarr = Vector(trainy[:,1]);"
   ]
  },
  {
   "cell_type": "markdown",
   "id": "8f927028",
   "metadata": {},
   "source": [
    "### Subset the first four columns (numeric) we do transformation on our numeric columns later"
   ]
  },
  {
   "cell_type": "code",
   "execution_count": 206,
   "id": "882dc196",
   "metadata": {},
   "outputs": [],
   "source": [
    "trainxmat_modified=trainxmat[:,1:4]\n",
    "trainxmat_others=trainxmat[:,5:size(trainxmat)[2]]\n",
    ";\n"
   ]
  },
  {
   "cell_type": "markdown",
   "id": "73f31c1c",
   "metadata": {},
   "source": [
    "## Holistic Regression"
   ]
  },
  {
   "cell_type": "code",
   "execution_count": 208,
   "id": "f8beddcf",
   "metadata": {},
   "outputs": [
    {
     "data": {
      "text/plain": [
       "holistic (generic function with 1 method)"
      ]
     },
     "execution_count": 208,
     "metadata": {},
     "output_type": "execute_result"
    }
   ],
   "source": [
    "function holistic(x, y, weirdr, K, M)\n",
    "    \n",
    "    n, p = size(x)\n",
    "\n",
    "    m = Model(Gurobi.Optimizer)\n",
    "    \n",
    "    set_optimizer_attribute(m, \"OutputFlag\", 0) \n",
    "    \n",
    "    @variable(m, beta[1:p])\n",
    "    @variable(m, beta0)\n",
    "    @variable(m, z[1:p], Bin)\n",
    "    @variable(m, q[1:p] >= 0)\n",
    "    @variable(m, t[1:n] >= 0)\n",
    "    \n",
    "    @constraint(m, sum(z) <= K)\n",
    "    pby4 = trunc(Int, 4) ##CHECK IF NOT WORKS +++++++++++++++++++++++++++++++++++++++ 4 or 1\n",
    "    @constraint(m, [i=1:pby4], sum(z[(i-1)*4+j] for j=1:4) == 1)\n",
    "    @constraint(m, z[5] == 1) #ensure visibility feature chosen\n",
    "    \n",
    "    @constraint(m, [i=1:p], -M*z[i] <= beta[i])\n",
    "    @constraint(m, [i=1:p], beta[i] <= M*z[i])\n",
    "    @constraint(m, [i=1:p], beta[i] <= q[i])\n",
    "    @constraint(m, [i=1:p], -beta[i] <= q[i])\n",
    "\n",
    "    for i=2:p\n",
    "        for j=1:(i-1)\n",
    "            if (cor(x[:,i],x[:,j]) > 0.7)\n",
    "                @constraint(m, z[i]+z[j] <= 1)\n",
    "            end\n",
    "        end\n",
    "    end\n",
    "    \n",
    "    @constraint(m, [i=1:n], (y[i] - sum(x[i,j]*beta[j] for j=1:p) - beta0) <= t[i])\n",
    "    @constraint(m, [i=1:n], -(y[i] - sum(x[i,j]*beta[j] for j=1:p) - beta0) <= t[i])\n",
    "    \n",
    "    @objective(m, Min, 0.5 * sum(t[i]^2 for i=1:n) + weirdr * sum(q[j] for j=1:p))\n",
    "    optimize!(m)\n",
    "        \n",
    "    obj = JuMP.objective_value(m)\n",
    "    beta0 = JuMP.value(beta0)\n",
    "    betas = JuMP.value.(beta)\n",
    "    z = JuMP.value.(z)\n",
    "        \n",
    "    return obj, beta0, betas, z\n",
    "end"
   ]
  },
  {
   "cell_type": "markdown",
   "id": "ffaae68d",
   "metadata": {},
   "source": [
    "## Adding transformations of our 3 numeric columns"
   ]
  },
  {
   "cell_type": "code",
   "execution_count": 209,
   "id": "78df9cab",
   "metadata": {},
   "outputs": [
    {
     "data": {
      "text/plain": [
       "creatematrices (generic function with 1 method)"
      ]
     },
     "execution_count": 209,
     "metadata": {},
     "output_type": "execute_result"
    }
   ],
   "source": [
    "function creatematrices(trainxmat,  eps)\n",
    "    ntrain, ptrain = size(trainxmat)\n",
    "    #ntest, ptest = size(testxmat)\n",
    "\n",
    "    modtrainxmat = zeros(ntrain, 4*ptrain)\n",
    "    #modtestxmat = zeros(ntest, 4*ptest)\n",
    "\n",
    "    for i = 1:(4)\n",
    "        modtrainxmat[:,4*(i-1)+1] = trainxmat[:,i]\n",
    "        modtrainxmat[:,4*(i-1)+2] = trainxmat[:,i].^2\n",
    "        modtrainxmat[:,4*(i-1)+3] = sqrt.(abs.(trainxmat[:,i]))\n",
    "        modtrainxmat[:,4*(i-1)+4] = log.(abs.(trainxmat[:,i]) .+ eps)\n",
    "\n",
    "\n",
    "        end\n",
    "\n",
    "    return modtrainxmat #, modtestxmat\n",
    "end"
   ]
  },
  {
   "cell_type": "code",
   "execution_count": 210,
   "id": "3139b648",
   "metadata": {},
   "outputs": [],
   "source": [
    "using Gurobi, CSV, DataFrames, JuMP, LinearAlgebra, Distributions, Random, GLMNet"
   ]
  },
  {
   "cell_type": "markdown",
   "id": "1414dcd9",
   "metadata": {},
   "source": [
    "### Getting the full data (post fransformation)\n",
    "\n"
   ]
  },
  {
   "cell_type": "code",
   "execution_count": 211,
   "id": "8d5d8cae",
   "metadata": {},
   "outputs": [
    {
     "data": {
      "text/plain": [
       "\"Data/exttrainxmat.csv\""
      ]
     },
     "execution_count": 211,
     "metadata": {},
     "output_type": "execute_result"
    }
   ],
   "source": [
    "first_four_transformed = creatematrices(trainxmat_modified,  10e-6) #removed tesstxmat\n",
    "exttrainxmat=hcat(first_four_transformed, trainxmat_others)\n",
    "\n",
    "#Export it just in case the kernel is restarted\n",
    "using Tables\n",
    "CSV.write(\"Data/exttrainxmat.csv\",  Tables.table(exttrainxmat), writeheader=false)\n"
   ]
  },
  {
   "cell_type": "markdown",
   "id": "ecebcab9",
   "metadata": {},
   "source": [
    "### Line to run if things break (delete when everything works well!)"
   ]
  },
  {
   "cell_type": "code",
   "execution_count": 131,
   "id": "04e077fc",
   "metadata": {},
   "outputs": [],
   "source": [
    "trainy = CSV.read(\"Data/y_training_stable.csv\",DataFrame,header=0)\n",
    "trainyarr = Vector(trainy[:,1])\n",
    "\n",
    "exttrainxmat= CSV.read(\"Data/exttrainxmat.csv\",DataFrame,header=0)\n",
    ";"
   ]
  },
  {
   "cell_type": "markdown",
   "id": "91e77c4a",
   "metadata": {},
   "source": [
    "## Cross validation function"
   ]
  },
  {
   "cell_type": "code",
   "execution_count": 192,
   "id": "2e5bf70d",
   "metadata": {},
   "outputs": [
    {
     "data": {
      "text/plain": [
       "cross_val (generic function with 1 method)"
      ]
     },
     "execution_count": 192,
     "metadata": {},
     "output_type": "execute_result"
    }
   ],
   "source": [
    "M=100\n",
    "r=0.1#\n",
    "\n",
    "n, p = size(exttrainxmat)\n",
    "numfolds = 10\n",
    "foldsamps = sample(1:numfolds, n, replace = true)\n",
    "\n",
    "function cross_val(rho, fold,M)\n",
    "   # first_four_transformed = creatematrices(trainxmat_modified,  10e-6) #removed tesstxmat\n",
    "   # exttrainxmat=hcat(first_four_transformed, trainxmat_others)\n",
    "\n",
    "\n",
    "   \n",
    "\n",
    "\n",
    "    traintrainx = exttrainxmat[[x for x in 1:n if foldsamps[x] != fold],:]\n",
    "    trainvalx = exttrainxmat[[x for x in 1:n if foldsamps[x] == fold],:]\n",
    "    traintrainy = trainyarr[[x for x in 1:n if foldsamps[x] != fold],:]\n",
    "    trainvaly = trainyarr[[x for x in 1:n if foldsamps[x] == fold],:]\n",
    "    print(\"D\")\n",
    "\n",
    "\n",
    "    print(\"A\")\n",
    "    obj, beta0, betas, z = holistic(traintrainx, traintrainy, rho, 10 M)\n",
    "    print(\"B\")\n",
    "    predictions = Matrix(trainvalx) * betas .+ beta0\n",
    "    mse = mean((predictions .- trainvaly).^2)\n",
    "    #savemses[j] = savemses[j] + mse\n",
    "    \n",
    "    return(beta0, betas, z, trainvalx, trainvaly, mse)\n",
    "end"
   ]
  },
  {
   "cell_type": "markdown",
   "id": "925ddc66",
   "metadata": {},
   "source": [
    "### Doing 10 fold  Cross validation to find the best gamma"
   ]
  },
  {
   "cell_type": "code",
   "execution_count": 133,
   "id": "136927fa",
   "metadata": {},
   "outputs": [
    {
     "name": "stdout",
     "output_type": "stream",
     "text": [
      "DAAcademic license - for non-commercial use only - expires 2022-08-18\n",
      "BDAAcademic license - for non-commercial use only - expires 2022-08-18\n",
      "BDAAcademic license - for non-commercial use only - expires 2022-08-18\n",
      "BDAAcademic license - for non-commercial use only - expires 2022-08-18\n"
     ]
    },
    {
     "ename": "LoadError",
     "evalue": "SYSTEM: show(lasterr) caused an error",
     "output_type": "error",
     "traceback": [
      "SYSTEM: show(lasterr) caused an error",
      "",
      "Stacktrace:",
      "  [1] getindex(c::MathOptInterface.Utilities.CleverDicts.CleverDict{MathOptInterface.VariableIndex, MathOptInterface.VariableIndex, typeof(MathOptInterface.Utilities.CleverDicts.key_to_index), typeof(MathOptInterface.Utilities.CleverDicts.index_to_key)}, key::MathOptInterface.VariableIndex)",
      "    @ MathOptInterface.Utilities.CleverDicts /Applications/Julia-1.6.app/Contents/Resources/julia/lib/julia/sys.dylib:-1",
      "  [2] map_indices(index_map::MathOptInterface.Utilities.var\"#7#8\"{MathOptInterface.Utilities.IndexMap}, f::MathOptInterface.ScalarAffineFunction{Float64})",
      "    @ MathOptInterface.Utilities /Applications/Julia-1.6.app/Contents/Resources/julia/lib/julia/sys.dylib:-1",
      "  [3] map_indices",
      "    @ /Users/iai/builds/InterpretableAI/SystemImage/SysImgBuilder/.julia/packages/MathOptInterface/YDdD3/src/Utilities/functions.jl:86 [inlined]",
      "  [4] _broadcast_getindex_evalf",
      "    @ ./broadcast.jl:648 [inlined]",
      "  [5] _broadcast_getindex",
      "    @ ./broadcast.jl:621 [inlined]",
      "  [6] getindex",
      "    @ ./broadcast.jl:575 [inlined]",
      "  [7] macro expansion",
      "    @ ./broadcast.jl:984 [inlined]",
      "  [8] macro expansion",
      "    @ ./simdloop.jl:77 [inlined]",
      "  [9] copyto!",
      "    @ ./broadcast.jl:983 [inlined]",
      " [10] copyto!",
      "    @ ./broadcast.jl:936 [inlined]",
      " [11] copy",
      "    @ ./broadcast.jl:908 [inlined]",
      " [12] materialize",
      "    @ ./broadcast.jl:883 [inlined]",
      " [13] copy_constraints(dest::Gurobi.Optimizer, src::MathOptInterface.Utilities.UniversalFallback{MathOptInterface.Utilities.GenericModel{Float64, MathOptInterface.Utilities.ModelFunctionConstraints{Float64}}}, idxmap::MathOptInterface.Utilities.IndexMap, cis_src::Vector{MathOptInterface.ConstraintIndex{MathOptInterface.ScalarAffineFunction{Float64}, MathOptInterface.LessThan{Float64}}}, filter_constraints::Nothing)",
      "    @ MathOptInterface.Utilities /Users/iai/builds/InterpretableAI/SystemImage/SysImgBuilder/.julia/packages/MathOptInterface/YDdD3/src/Utilities/copy.jl:417",
      " [14] copy_constraints(dest::Gurobi.Optimizer, src::MathOptInterface.Utilities.UniversalFallback{MathOptInterface.Utilities.GenericModel{Float64, MathOptInterface.Utilities.ModelFunctionConstraints{Float64}}}, idxmap::MathOptInterface.Utilities.IndexMap, cis_src::Vector{MathOptInterface.ConstraintIndex{MathOptInterface.ScalarAffineFunction{Float64}, MathOptInterface.LessThan{Float64}}})",
      "    @ MathOptInterface.Utilities /Users/iai/builds/InterpretableAI/SystemImage/SysImgBuilder/.julia/packages/MathOptInterface/YDdD3/src/Utilities/copy.jl:409",
      " [15] pass_nonvariable_constraints_fallback(dest::Gurobi.Optimizer, src::MathOptInterface.Utilities.UniversalFallback{MathOptInterface.Utilities.GenericModel{Float64, MathOptInterface.Utilities.ModelFunctionConstraints{Float64}}}, idxmap::MathOptInterface.Utilities.IndexMap, constraint_types::Vector{Tuple{DataType, DataType}}, pass_cons::typeof(MathOptInterface.Utilities.copy_constraints); filter_constraints::Nothing)",
      "    @ MathOptInterface.Utilities /Users/iai/builds/InterpretableAI/SystemImage/SysImgBuilder/.julia/packages/MathOptInterface/YDdD3/src/Utilities/copy.jl:439",
      " [16] #pass_nonvariable_constraints#143",
      "    @ /Users/iai/builds/InterpretableAI/SystemImage/SysImgBuilder/.julia/packages/MathOptInterface/YDdD3/src/Utilities/copy.jl:471 [inlined]",
      " [17] pass_nonvariable_constraints(dest::MathOptInterface.Bridges.LazyBridgeOptimizer{Gurobi.Optimizer}, src::MathOptInterface.Utilities.UniversalFallback{MathOptInterface.Utilities.GenericModel{Float64, MathOptInterface.Utilities.ModelFunctionConstraints{Float64}}}, idxmap::MathOptInterface.Utilities.IndexMap, constraint_types::Vector{Tuple{DataType, DataType}}, pass_cons::Function; filter_constraints::Nothing)",
      "    @ MathOptInterface.Bridges /Users/iai/builds/InterpretableAI/SystemImage/SysImgBuilder/.julia/packages/MathOptInterface/YDdD3/src/Bridges/bridge_optimizer.jl:381",
      " [18] pass_constraints(dest::MathOptInterface.Bridges.LazyBridgeOptimizer{Gurobi.Optimizer}, src::MathOptInterface.Utilities.UniversalFallback{MathOptInterface.Utilities.GenericModel{Float64, MathOptInterface.Utilities.ModelFunctionConstraints{Float64}}}, copy_names::Bool, idxmap::MathOptInterface.Utilities.IndexMap, single_variable_types::Vector{Type{var\"#s316\"} where var\"#s316\"<:MathOptInterface.AbstractScalarSet}, single_variable_indices::Vector{Vector{var\"#s284\"} where var\"#s284\"<:(MathOptInterface.ConstraintIndex{MathOptInterface.SingleVariable, S} where S)}, vector_of_variables_types::Vector{Type{var\"#s323\"} where var\"#s323\"<:MathOptInterface.AbstractVectorSet}, vector_of_variables_indices::Vector{Vector{var\"#s318\"} where var\"#s318\"<:(MathOptInterface.ConstraintIndex{MathOptInterface.VectorOfVariables, S} where S)}, pass_cons::typeof(MathOptInterface.Utilities.copy_constraints), pass_attr::typeof(MathOptInterface.set); filter_constraints::Nothing)",
      "    @ MathOptInterface.Utilities /Users/iai/builds/InterpretableAI/SystemImage/SysImgBuilder/.julia/packages/MathOptInterface/YDdD3/src/Utilities/copy.jl:532",
      " [19] default_copy_to(dest::MathOptInterface.Bridges.LazyBridgeOptimizer{Gurobi.Optimizer}, src::MathOptInterface.Utilities.UniversalFallback{MathOptInterface.Utilities.GenericModel{Float64, MathOptInterface.Utilities.ModelFunctionConstraints{Float64}}}, copy_names::Bool, filter_constraints::Nothing)",
      "    @ MathOptInterface.Utilities /Users/iai/builds/InterpretableAI/SystemImage/SysImgBuilder/.julia/packages/MathOptInterface/YDdD3/src/Utilities/copy.jl:714",
      " [20] #automatic_copy_to#127",
      "    @ /Users/iai/builds/InterpretableAI/SystemImage/SysImgBuilder/.julia/packages/MathOptInterface/YDdD3/src/Utilities/copy.jl:24 [inlined]",
      " [21] #copy_to#4",
      "    @ /Users/iai/builds/InterpretableAI/SystemImage/SysImgBuilder/.julia/packages/MathOptInterface/YDdD3/src/Bridges/bridge_optimizer.jl:401 [inlined]",
      " [22] attach_optimizer(model::MathOptInterface.Utilities.CachingOptimizer{MathOptInterface.AbstractOptimizer, MathOptInterface.Utilities.UniversalFallback{MathOptInterface.Utilities.GenericModel{Float64, MathOptInterface.Utilities.ModelFunctionConstraints{Float64}}}})",
      "    @ MathOptInterface.Utilities /Applications/Julia-1.6.app/Contents/Resources/julia/lib/julia/sys.dylib:-1",
      " [23] optimize!(m::MathOptInterface.Utilities.CachingOptimizer{MathOptInterface.AbstractOptimizer, MathOptInterface.Utilities.UniversalFallback{MathOptInterface.Utilities.GenericModel{Float64, MathOptInterface.Utilities.ModelFunctionConstraints{Float64}}}})",
      "    @ MathOptInterface.Utilities /Applications/Julia-1.6.app/Contents/Resources/julia/lib/julia/sys.dylib:-1",
      " [24] optimize!(model::Model, optimizer_factory::Nothing; bridge_constraints::Bool, ignore_optimize_hook::Bool, kwargs::Base.Iterators.Pairs{Union{}, Union{}, Tuple{}, NamedTuple{(), Tuple{}}})",
      "    @ JuMP /Applications/Julia-1.6.app/Contents/Resources/julia/lib/julia/sys.dylib:-1",
      " [25] optimize! (repeats 2 times)",
      "    @ /Users/iai/builds/InterpretableAI/SystemImage/SysImgBuilder/.julia/packages/JuMP/qhoVb/src/optimizer_interface.jl:106 [inlined]",
      " [26] holistic(x::DataFrame, y::Matrix{Float64}, weirdr::Float64, M::Int64)",
      "    @ Main ./In[127]:37",
      " [27] cross_val(rho::Float64, fold::Int64, M::Int64)",
      "    @ Main ./In[132]:24",
      " [28] top-level scope",
      "    @ ./In[133]:7",
      " [29] eval",
      "    @ ./boot.jl:360 [inlined]",
      " [30] include_string(mapexpr::typeof(REPL.softscope), mod::Module, code::String, filename::String)",
      "    @ Base ./loading.jl:1116"
     ]
    }
   ],
   "source": [
    "gamma = collect(0:.01:.2)\n",
    "\n",
    "avg_mse_gamma = []\n",
    "for g in gamma  \n",
    "    mse_gamma_fold = []\n",
    "    for f in 1:10\n",
    "        beta0, betas, z, trainvalx, trainvaly, mse = cross_val(g, f, 100);\n",
    "        push!(mse_gamma_fold, mse)\n",
    "    end\n",
    "    push!(avg_mse_gamma, mean(mse_gamma_fold))\n",
    "end\n",
    "        "
   ]
  },
  {
   "cell_type": "markdown",
   "id": "26ad4eca",
   "metadata": {},
   "source": [
    "## Get the best gamma (0.08)"
   ]
  },
  {
   "cell_type": "code",
   "execution_count": 134,
   "id": "6985961b",
   "metadata": {},
   "outputs": [
    {
     "ename": "LoadError",
     "evalue": "ArgumentError: collection must be non-empty",
     "output_type": "error",
     "traceback": [
      "ArgumentError: collection must be non-empty",
      "",
      "Stacktrace:",
      " [1] _findmin(a::Vector{Any}, #unused#::Colon)",
      "   @ Base ./array.jl:2287",
      " [2] #findmin#724",
      "   @ ./reducedim.jl:989 [inlined]",
      " [3] #argmin#727",
      "   @ ./reducedim.jl:1078 [inlined]",
      " [4] argmin(A::Vector{Any})",
      "   @ Base ./reducedim.jl:1078",
      " [5] top-level scope",
      "   @ In[134]:1",
      " [6] eval",
      "   @ ./boot.jl:360 [inlined]",
      " [7] include_string(mapexpr::typeof(REPL.softscope), mod::Module, code::String, filename::String)",
      "   @ Base ./loading.jl:1116"
     ]
    }
   ],
   "source": [
    "best_gamma_idx = argmin(avg_mse_gamma)\n",
    "best_gamma = gamma[best_gamma_idx]\n",
    "\n",
    "#best gamma is 0.08"
   ]
  },
  {
   "cell_type": "markdown",
   "id": "2c376f17",
   "metadata": {},
   "source": [
    "## Get the betas for the best gamma"
   ]
  },
  {
   "cell_type": "code",
   "execution_count": 212,
   "id": "b6781dd6",
   "metadata": {},
   "outputs": [
    {
     "name": "stdout",
     "output_type": "stream",
     "text": [
      "Academic license - for non-commercial use only - expires 2022-08-18\n"
     ]
    }
   ],
   "source": [
    "obj, beta0, betas, z = holistic(exttrainxmat, trainyarr, 0.08, 10 M)\n",
    ";"
   ]
  },
  {
   "cell_type": "markdown",
   "id": "a681b432",
   "metadata": {},
   "source": [
    "## Read in the actual validation set (from stable regression/see notebook)"
   ]
  },
  {
   "cell_type": "code",
   "execution_count": 215,
   "id": "b33b68e1",
   "metadata": {},
   "outputs": [],
   "source": [
    "x_val = CSV.read(\"Data/x_valid_set\", DataFrame)\n",
    "x_val = Matrix(x_val)\n",
    "x_val_first_four = x_val[:,1:4]\n",
    "x_val_others = x_val[:,5:size(x_val)[2]]\n",
    "\n",
    "\n",
    "first_four_transformed = creatematrices(x_val_first_four,  10e-6) #removed tesstxmat\n",
    "x_val_final=hcat(first_four_transformed, x_val_others)\n",
    "\n",
    "\n",
    "\n",
    "\n",
    "y_val = CSV.read(\"Data/y_valid_set\", DataFrame,header=0);"
   ]
  },
  {
   "cell_type": "markdown",
   "id": "d268cc75",
   "metadata": {},
   "source": [
    "## Get the predictions on the actual validation set"
   ]
  },
  {
   "cell_type": "code",
   "execution_count": 216,
   "id": "f44ab3f4",
   "metadata": {},
   "outputs": [],
   "source": [
    "#predictions = trainvalx * betas .+ beta0\n",
    "predictions = Matrix(x_val_final) * betas  .+ beta0\n",
    ";"
   ]
  },
  {
   "cell_type": "code",
   "execution_count": 217,
   "id": "357a7da1",
   "metadata": {},
   "outputs": [
    {
     "data": {
      "text/plain": [
       "10-element Vector{Int64}:\n",
       "  2\n",
       "  5\n",
       "  9\n",
       " 14\n",
       " 20\n",
       " 22\n",
       " 24\n",
       " 44\n",
       " 46\n",
       " 52"
      ]
     },
     "execution_count": 217,
     "metadata": {},
     "output_type": "execute_result"
    }
   ],
   "source": [
    "nonzerob = findall(x->x==1,z)\n",
    "betas[nonzerob]\n",
    "nonzerob"
   ]
  },
  {
   "cell_type": "code",
   "execution_count": 218,
   "id": "6326b485",
   "metadata": {},
   "outputs": [
    {
     "data": {
      "text/plain": [
       "compute_MSE (generic function with 1 method)"
      ]
     },
     "execution_count": 218,
     "metadata": {},
     "output_type": "execute_result"
    }
   ],
   "source": [
    "function compute_r2(predictions, actual, mean_train)\n",
    "    \n",
    "    SSres = sum(Matrix((actual .- predictions).^2))\n",
    "    SStot = sum(Matrix((actual .- mean_train).^2))\n",
    "    1-SSres/SStot\n",
    "\n",
    "    return 1-SSres/SStot\n",
    "end\n",
    "\n",
    "function compute_MSE(predictions, actual)\n",
    "    sum_squared_error = sum(Matrix((predictions .- actual).^2))\n",
    "    MSE = sum_squared_error/size(actual)[1]\n",
    "    \n",
    "    return(MSE)\n",
    "    \n",
    "end"
   ]
  },
  {
   "cell_type": "markdown",
   "id": "b0059254",
   "metadata": {},
   "source": [
    "## Get r squared"
   ]
  },
  {
   "cell_type": "code",
   "execution_count": 219,
   "id": "bd418d8c",
   "metadata": {},
   "outputs": [
    {
     "data": {
      "text/plain": [
       "0.6533891519701033"
      ]
     },
     "execution_count": 219,
     "metadata": {},
     "output_type": "execute_result"
    }
   ],
   "source": [
    "using Statistics\n",
    "compute_r2(predictions, y_val, mean(trainyarr))"
   ]
  },
  {
   "cell_type": "code",
   "execution_count": 220,
   "id": "b53cabfc",
   "metadata": {},
   "outputs": [
    {
     "data": {
      "text/plain": [
       "(8523, 63)"
      ]
     },
     "execution_count": 220,
     "metadata": {},
     "output_type": "execute_result"
    }
   ],
   "source": [
    "full_x = vcat(Matrix(exttrainxmat), Matrix(x_val_final))\n",
    "#CURRENTLY ONLY TRAIN +VALIDATION GOT TO ADD IN THE TEST SET. \n",
    "size(full_x)\n",
    "#column 17 is outlet 13"
   ]
  },
  {
   "cell_type": "markdown",
   "id": "113c367f",
   "metadata": {},
   "source": [
    "## Retrain on the full training set"
   ]
  },
  {
   "cell_type": "code",
   "execution_count": 230,
   "id": "feebd137",
   "metadata": {},
   "outputs": [],
   "source": [
    "#trainyarr = Vector(trainy[:,1]);\n",
    "valyarr = Vector(y_val[:,1])\n",
    "\n",
    "\n",
    "full_y_arr = vcat(trainyarr, valyarr)\n",
    "\n",
    ";"
   ]
  },
  {
   "cell_type": "code",
   "execution_count": 232,
   "id": "d7accd53",
   "metadata": {},
   "outputs": [
    {
     "name": "stdout",
     "output_type": "stream",
     "text": [
      "Academic license - for non-commercial use only - expires 2022-08-18\n"
     ]
    },
    {
     "data": {
      "text/plain": [
       "(7.505565243973097e9, -510.7681021152996, [0.0, 0.0, 0.0, -9.868355864470479, -100.0, 0.0, 0.0, 0.0, 15.60769360261643, 0.0  …  0.0, 0.0, 0.0, 0.0, 0.0, 0.0, 0.0, 0.0, 0.0, 0.0], [0.0, 0.0, 0.0, 1.0, 1.0, 0.0, 0.0, 0.0, 1.0, 0.0  …  -0.0, 0.0, 0.0, 0.0, -0.0, -0.0, 0.0, 0.0, 0.0, 0.0])"
      ]
     },
     "execution_count": 232,
     "metadata": {},
     "output_type": "execute_result"
    }
   ],
   "source": [
    "obj, beta0, betas, z = holistic(full_x, full_y_arr, 0.08, 10, M)"
   ]
  },
  {
   "cell_type": "code",
   "execution_count": 234,
   "id": "3edfd338",
   "metadata": {},
   "outputs": [
    {
     "data": {
      "text/plain": [
       "63-element Vector{Float64}:\n",
       "    0.0\n",
       "    0.0\n",
       "    0.0\n",
       "   -9.868355864470479\n",
       " -100.0\n",
       "    0.0\n",
       "    0.0\n",
       "    0.0\n",
       "   15.60769360261643\n",
       "    0.0\n",
       "    0.0\n",
       "    0.0\n",
       "    0.0\n",
       "    ⋮\n",
       "   43.387417660944294\n",
       "    0.0\n",
       "    0.0\n",
       "    0.0\n",
       "    0.0\n",
       "    0.0\n",
       "    0.0\n",
       "    0.0\n",
       "    0.0\n",
       "    0.0\n",
       "    0.0\n",
       "    0.0"
      ]
     },
     "execution_count": 234,
     "metadata": {},
     "output_type": "execute_result"
    }
   ],
   "source": [
    "betas\n",
    "## different bets getting selected form train and vali veruss full test set. "
   ]
  },
  {
   "cell_type": "markdown",
   "id": "38cdf17d",
   "metadata": {},
   "source": [
    "## Get store 13"
   ]
  },
  {
   "cell_type": "code",
   "execution_count": 235,
   "id": "0824db6f",
   "metadata": {},
   "outputs": [
    {
     "data": {
      "text/plain": [
       "\"Store/store_13.csv\""
      ]
     },
     "execution_count": 235,
     "metadata": {},
     "output_type": "execute_result"
    }
   ],
   "source": [
    "store_13idx = findall(x->x== 1, full_x[:,17])\n",
    "store_mat = full_x[store_13idx,:]\n",
    "MRP = store_mat[:,9]\n",
    "\n",
    "CSV.write(\"Store/store_13.csv\", Tables.table(store_mat))\n"
   ]
  },
  {
   "cell_type": "code",
   "execution_count": 201,
   "id": "f8e6e362",
   "metadata": {},
   "outputs": [
    {
     "data": {
      "text/plain": [
       "\"Data/betas.csv\""
      ]
     },
     "execution_count": 201,
     "metadata": {},
     "output_type": "execute_result"
    }
   ],
   "source": [
    "all_betas = vcat(beta0, betas)\n",
    "all_betas = Tables.table(reshape(all_betas, length(all_betas), 1))\n",
    "CSV.write(\"Data/betas.csv\", all_betas, writeheader= false)"
   ]
  },
  {
   "cell_type": "markdown",
   "id": "cd8ee919",
   "metadata": {},
   "source": [
    "# Get MSE"
   ]
  },
  {
   "cell_type": "code",
   "execution_count": 119,
   "id": "3a919f06",
   "metadata": {},
   "outputs": [
    {
     "data": {
      "text/plain": [
       "527623.0032164479"
      ]
     },
     "execution_count": 119,
     "metadata": {},
     "output_type": "execute_result"
    }
   ],
   "source": [
    "compute_MSE(predictions, y_val)"
   ]
  },
  {
   "cell_type": "code",
   "execution_count": null,
   "id": "910fe029",
   "metadata": {},
   "outputs": [],
   "source": []
  }
 ],
 "metadata": {
  "kernelspec": {
   "display_name": "Julia 1.6.2",
   "language": "julia",
   "name": "julia-1.6"
  },
  "language_info": {
   "file_extension": ".jl",
   "mimetype": "application/julia",
   "name": "julia",
   "version": "1.6.2"
  }
 },
 "nbformat": 4,
 "nbformat_minor": 5
}
